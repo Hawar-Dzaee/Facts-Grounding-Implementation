{
 "cells": [
  {
   "cell_type": "code",
   "execution_count": 1,
   "metadata": {},
   "outputs": [],
   "source": [
    "from langchain.chat_models import init_chat_model\n",
    "\n",
    "import os\n",
    "\n",
    "from dotenv import load_dotenv\n",
    "load_dotenv()\n",
    "\n",
    "os.environ['GOOGLE_PROJECT_ID'] = os.getenv(\"GOOGLE_PROJECT_ID\")\n",
    "os.environ['GOOGLE_REGION'] = os.getenv(\"GOOGLE_REGION\")\n",
    "os.environ['GOOGLE_APPLICATION_CREDENTIALS'] = \"vertex_ai_use_cred.json\""
   ]
  },
  {
   "cell_type": "markdown",
   "metadata": {},
   "source": [
    "# Openai"
   ]
  },
  {
   "cell_type": "code",
   "execution_count": 3,
   "metadata": {},
   "outputs": [
    {
     "data": {
      "text/plain": [
       "AIMessage(content=\"The sky appears blue primarily due to a phenomenon called Rayleigh scattering, not because of the ocean. When sunlight enters Earth's atmosphere, it is made up of different colors, each with different wavelengths. Blue light has a shorter wavelength and is scattered in all directions by the gases and particles in the atmosphere more than other colors with longer wavelengths, like red or yellow.\\n\\nThis scattering causes the blue light to be more prominent and visible from every direction, making the sky appear blue to our eyes. The ocean can also appear blue, but this is due to the absorption and scattering of light within the water itself, not because it reflects the sky. The ocean absorbs colors in the red part of the light spectrum and reflects and scatters the blue, which is why it often looks blue. However, the blue color of the sky is independent of the ocean's color.\", additional_kwargs={'refusal': None}, response_metadata={'token_usage': {'completion_tokens': 172, 'prompt_tokens': 21, 'total_tokens': 193, 'completion_tokens_details': {'accepted_prediction_tokens': 0, 'audio_tokens': 0, 'reasoning_tokens': 0, 'rejected_prediction_tokens': 0}, 'prompt_tokens_details': {'audio_tokens': 0, 'cached_tokens': 0}}, 'model_name': 'gpt-4o-2024-08-06', 'system_fingerprint': 'fp_c1e1ac6736', 'id': 'chatcmpl-BF2fkKPa3yOqq5kLo4QTIjaaLbkcw', 'finish_reason': 'stop', 'logprobs': None}, id='run-369b8bc8-7556-4e95-a087-baf012d5151f-0', usage_metadata={'input_tokens': 21, 'output_tokens': 172, 'total_tokens': 193, 'input_token_details': {'audio': 0, 'cache_read': 0}, 'output_token_details': {'audio': 0, 'reasoning': 0}})"
      ]
     },
     "execution_count": 3,
     "metadata": {},
     "output_type": "execute_result"
    }
   ],
   "source": [
    "gpt4_model = init_chat_model(model=\"gpt-4o\",temperature=0)\n",
    "response_gpt4o = gpt4_model.invoke(\"Explain why the sky is blue? is it because of the ocean?\")\n",
    "response_gpt4o"
   ]
  },
  {
   "cell_type": "code",
   "execution_count": 4,
   "metadata": {},
   "outputs": [
    {
     "name": "stdout",
     "output_type": "stream",
     "text": [
      "The sky appears blue not because of the ocean but due to a phenomenon known as Rayleigh scattering. This effect occurs when sunlight interacts with the Earth's atmosphere.\n",
      "\n",
      "Sunlight, or white light, consists of many different colors, each with its own wavelength. As sunlight passes through the atmosphere, it collides with gas molecules and small particles. Blue light waves, which are shorter and have higher energy than other colors, are scattered in all directions by these molecules and particles.\n",
      "\n",
      "The scattering of blue light makes it dominate the color we perceive when we look up at the sky. In contrast, other colors like red, which have longer wavelengths, are scattered less and continue to travel in a straight path. This is why the sky appears blue during the day. During sunrise and sunset, the light has to pass through more of the atmosphere, which scatters more of the blue and allows the longer wavelengths like red and orange to become more prominent, giving the sky those colors at those times.\n",
      "\n",
      "The ocean can also appear blue because it reflects the color of the sky and because water absorbs colors at the red end of the light spectrum, enhancing the blue appearance. However, the color of the sky is not due to the reflection of the ocean.\n"
     ]
    }
   ],
   "source": [
    "print(response_gpt4o.content)"
   ]
  },
  {
   "cell_type": "markdown",
   "metadata": {},
   "source": [
    "# Anthropic"
   ]
  },
  {
   "cell_type": "code",
   "execution_count": 8,
   "metadata": {},
   "outputs": [
    {
     "data": {
      "text/plain": [
       "ChatAnthropic(model='claude-3-5-sonnet-latest', temperature=0.0, anthropic_api_url='https://api.anthropic.com', anthropic_api_key=SecretStr('**********'), model_kwargs={})"
      ]
     },
     "execution_count": 8,
     "metadata": {},
     "output_type": "execute_result"
    }
   ],
   "source": [
    "claude_sonnet = init_chat_model(\"anthropic:claude-3-5-sonnet-latest\", temperature=0)\n",
    "response_claude = claude_sonnet.invoke(\"Explain why the sky is blue? is it because of the ocean?\")\n",
    "response_claude\n"
   ]
  },
  {
   "cell_type": "code",
   "execution_count": 10,
   "metadata": {},
   "outputs": [
    {
     "name": "stdout",
     "output_type": "stream",
     "text": [
      "The sky appears blue due to a phenomenon called Rayleigh scattering, not because of the ocean. Here's a simple explanation:\n",
      "\n",
      "1. Sunlight contains all colors of the visible spectrum (like a rainbow)\n",
      "\n",
      "2. As sunlight travels through Earth's atmosphere, it collides with gas molecules\n",
      "\n",
      "3. These molecules scatter the light in all directions\n",
      "\n",
      "4. Blue light has a shorter wavelength and is scattered more easily than other colors\n",
      "\n",
      "5. When we look at the sky, we see this scattered blue light from all directions\n",
      "\n",
      "This is also why:\n",
      "- Sunsets appear red/orange (blue light is scattered away, leaving longer wavelengths)\n",
      "- The sky looks darker blue/black in space (no atmosphere to scatter light)\n",
      "- The sky can appear more or less blue depending on atmospheric conditions\n",
      "\n",
      "While the ocean often appears blue, it's actually reflecting the blue sky above it. The ocean can also appear blue due to the way water absorbs and scatters light, but it's not the reason why the sky is blue.\n"
     ]
    }
   ],
   "source": [
    "print(response_claude.content)"
   ]
  },
  {
   "cell_type": "markdown",
   "metadata": {},
   "source": [
    "# Google"
   ]
  },
  {
   "cell_type": "markdown",
   "metadata": {},
   "source": [
    "### vertexai\n"
   ]
  },
  {
   "cell_type": "code",
   "execution_count": 6,
   "metadata": {},
   "outputs": [
    {
     "data": {
      "text/plain": [
       "AIMessage(content='Here\\'s the explanation of why the sky looks blue, broken down for easy understanding:\\n\\n**Sunlight and Colors**\\n\\n* Sunlight looks white, but it\\'s actually made up of all the colors of the rainbow. \\n* Think of a prism splitting light – you see the individual colors that were always there.\\n\\n**Scattering of Light**\\n\\n* When sunlight enters our atmosphere, it bumps into tiny particles like nitrogen and oxygen molecules.\\n* This \"bumping\" causes the light to scatter in different directions.\\n\\n**Blue Light\\'s Advantage**\\n\\n* Blue light has a shorter wavelength (like smaller waves on water) compared to other colors like red or orange.\\n* Because of this shorter wavelength, blue light gets scattered *much more* than other colors.\\n\\n**Seeing the Blue**\\n\\n* Our eyes see all this scattered blue light coming from all directions in the sky. \\n* This is why the sky appears blue to us!\\n\\n**Sunrise and Sunset Colors**\\n\\n* At sunrise and sunset, the sunlight has to travel through more of the atmosphere to reach us.\\n* The blue light gets scattered so much that it doesn\\'t reach our eyes as directly.\\n* This allows the longer wavelengths (reds, oranges, yellows) to be more visible, creating those beautiful colors. \\n', additional_kwargs={}, response_metadata={'is_blocked': False, 'safety_ratings': [{'category': 'HARM_CATEGORY_HATE_SPEECH', 'probability_label': 'NEGLIGIBLE', 'probability_score': 0.059326171875, 'blocked': False, 'severity': 'HARM_SEVERITY_NEGLIGIBLE', 'severity_score': 0.04345703125}, {'category': 'HARM_CATEGORY_DANGEROUS_CONTENT', 'probability_label': 'NEGLIGIBLE', 'probability_score': 0.0693359375, 'blocked': False, 'severity': 'HARM_SEVERITY_NEGLIGIBLE', 'severity_score': 0.07568359375}, {'category': 'HARM_CATEGORY_HARASSMENT', 'probability_label': 'NEGLIGIBLE', 'probability_score': 0.1025390625, 'blocked': False, 'severity': 'HARM_SEVERITY_NEGLIGIBLE', 'severity_score': 0.029296875}, {'category': 'HARM_CATEGORY_SEXUALLY_EXPLICIT', 'probability_label': 'NEGLIGIBLE', 'probability_score': 0.10498046875, 'blocked': False, 'severity': 'HARM_SEVERITY_NEGLIGIBLE', 'severity_score': 0.037353515625}], 'usage_metadata': {'prompt_token_count': 6, 'candidates_token_count': 270, 'total_token_count': 276, 'prompt_tokens_details': [{'modality': 1, 'token_count': 6}], 'candidates_tokens_details': [{'modality': 1, 'token_count': 270}], 'cached_content_token_count': 0, 'cache_tokens_details': []}, 'finish_reason': 'STOP', 'avg_logprobs': -0.232003657023112, 'model_name': 'gemini-1.5-pro'}, id='run-31f7b6cd-25cd-454f-97ba-110d95fcb815-0', usage_metadata={'input_tokens': 6, 'output_tokens': 270, 'total_tokens': 276})"
      ]
     },
     "execution_count": 6,
     "metadata": {},
     "output_type": "execute_result"
    }
   ],
   "source": [
    "# Initialize Gemini 1.5 Pro model\n",
    "gemini_model = init_chat_model(model=\"google_vertexai:gemini-1.5-pro\")\n",
    "response_gemini = gemini_model.invoke(\"why the sky is blue?\")\n",
    "response_gemini"
   ]
  },
  {
   "cell_type": "code",
   "execution_count": 4,
   "metadata": {},
   "outputs": [
    {
     "name": "stdout",
     "output_type": "stream",
     "text": [
      "The sky appears blue due to a phenomenon called **Rayleigh scattering**. Here's a breakdown:\n",
      "\n",
      "**1. Sunlight Enters the Atmosphere:**\n",
      "   Sunlight, appearing white to us, is actually a mixture of all colors of the rainbow. When this light enters the Earth's atmosphere, it encounters various particles and gases.\n",
      "\n",
      "**2. Scattering of Light:**\n",
      "   The molecules of nitrogen and oxygen, which make up most of the atmosphere, are much smaller than the wavelengths of visible light. This size difference causes the sunlight to scatter in all directions. This scattering is more effective for shorter wavelengths, like blue and violet.\n",
      "\n",
      "**3. Rayleigh Scattering:**\n",
      "   This type of scattering, named after Lord Rayleigh, is inversely proportional to the fourth power of the wavelength. This means blue light (with a shorter wavelength) is scattered about 10 times more effectively than red light (with a longer wavelength).\n",
      "\n",
      "**4. Our Perception:**\n",
      "   As we look up at the sky, we see the scattered blue light coming from all directions. This scattered light reaches our eyes, making the sky appear blue.\n",
      "\n",
      "**Why Not Violet?**\n",
      "You might wonder, if violet light scatters even more strongly than blue, why isn't the sky violet? There are two main reasons:\n",
      "\n",
      "* **Sunlight Intensity:** The sun emits less violet light compared to blue.\n",
      "* **Eye Sensitivity:** Our eyes are more sensitive to blue light than violet light.\n",
      "\n",
      "**Therefore, the combination of Rayleigh scattering, the sun's spectral output, and our eye's sensitivity results in our perception of a blue sky.** \n",
      "\n"
     ]
    }
   ],
   "source": [
    "print(response_gemini.content)"
   ]
  }
 ],
 "metadata": {
  "kernelspec": {
   "display_name": "langvenv",
   "language": "python",
   "name": "python3"
  },
  "language_info": {
   "codemirror_mode": {
    "name": "ipython",
    "version": 3
   },
   "file_extension": ".py",
   "mimetype": "text/x-python",
   "name": "python",
   "nbconvert_exporter": "python",
   "pygments_lexer": "ipython3",
   "version": "3.12.1"
  }
 },
 "nbformat": 4,
 "nbformat_minor": 2
}
