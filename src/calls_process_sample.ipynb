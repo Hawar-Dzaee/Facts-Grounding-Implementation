{
 "cells": [
  {
   "cell_type": "code",
   "execution_count": 1,
   "metadata": {},
   "outputs": [],
   "source": [
    "from langchain.chat_models import init_chat_model\n",
    "from langchain.callbacks.tracers import LangChainTracer\n",
    "\n",
    "\n",
    "from main import process_sample\n",
    "from utils import load_environment\n",
    "\n",
    "load_environment()\n",
    "\n",
    "import pandas as pd"
   ]
  },
  {
   "cell_type": "code",
   "execution_count": 2,
   "metadata": {},
   "outputs": [],
   "source": [
    "START_SAMPLE_ID = 0\n",
    "END_SAMPLE_ID = 1\n",
    "\n",
    "df_examples = pd.read_csv(\"../data/examples.csv\")[START_SAMPLE_ID:END_SAMPLE_ID]\n",
    "df_evaluation_prompts = pd.read_csv(\"../data/evaluation_prompts.csv\")\n",
    "\n",
    "records = df_examples.to_dict(orient=\"records\")"
   ]
  },
  {
   "cell_type": "markdown",
   "metadata": {},
   "source": [
    "# Anthropic"
   ]
  },
  {
   "cell_type": "code",
   "execution_count": 3,
   "metadata": {},
   "outputs": [
    {
     "name": "stderr",
     "output_type": "stream",
     "text": [
      "ERROR:LM:Failed to call : llama3.2 | Intention : test | Error : Unable to infer model provider for model='llama3.2', please specify model_provider directly.\n"
     ]
    }
   ],
   "source": [
    "# \"anthropic:claude-3-5-sonnet-latest\"\n",
    "\n",
    "claude_sonnet_3_7 = process_sample(\n",
    "    sample_id = 0,\n",
    "    record = records[0],\n",
    "    test_models = [\"llama3.2\"],\n",
    "    judge_models = [\"anthropic:claude-3-7-sonnet-20250219\"],\n",
    "    evaluation_prompts_file_path = \"../data/evaluation_prompts.csv\",\n",
    ")"
   ]
  },
  {
   "cell_type": "code",
   "execution_count": 7,
   "metadata": {},
   "outputs": [
    {
     "name": "stdout",
     "output_type": "stream",
     "text": [
      "Based on the context document, your risk factors for dementia include:\n",
      "\n",
      "1. High blood pressure: Having consistent high blood pressure in mid-life (ages 45 to 65) increases your risk of developing dementia.\n",
      "2. Diabetes: Having type 2 diabetes in mid-life (ages 45 to 65) increases your risk of developing dementia.\n",
      "3. Obesity: Being obese in mid-life (ages 45 to 65) increases your risk of developing dementia.\n",
      "4. Lack of physical activity: Physical inactivity in later life (ages 65 and up) increases your risk of developing dementia.\n",
      "5. Poor diet: Eating an unhealthy diet, high in saturated fat, sugar, and salt, can increase your risk of developing dementia.\n",
      "\n",
      "Regarding cognitive engagement, it is thought to support the development of a \"cognitive reserve\". This means that actively using your brain throughout your life may help protect against brain cell damage caused by dementia.\n"
     ]
    }
   ],
   "source": [
    "test,judge = claude_sonnet_3_7\n",
    "print(test[0]['test model response'])"
   ]
  },
  {
   "cell_type": "code",
   "execution_count": 8,
   "metadata": {},
   "outputs": [
    {
     "name": "stdout",
     "output_type": "stream",
     "text": [
      "Sentence 1: Based on the context document, your risk factors for dementia include:\n",
      "Sentence 1 label: Accurate\n",
      "\n",
      "Sentence 2: 1. High blood pressure: Having consistent high blood pressure in mid-life (ages 45 to 65) increases your risk of developing dementia.\n",
      "Sentence 2 label: Accurate\n",
      "\n",
      "Sentence 3: 2. Diabetes: Having type 2 diabetes in mid-life (ages 45 to 65) increases your risk of developing dementia.\n",
      "Sentence 3 label: Inaccurate\n",
      "\n",
      "Sentence 4: 3. Obesity: Being obese in mid-life (ages 45 to 65) increases your risk of developing dementia.\n",
      "Sentence 4 label: Inaccurate\n",
      "\n",
      "Sentence 5: 4. Lack of physical activity: Physical inactivity in later life (ages 65 and up) increases your risk of developing dementia.\n",
      "Sentence 5 label: Inaccurate\n",
      "\n",
      "Sentence 6: 5. Poor diet: Eating an unhealthy diet, high in saturated fat, sugar, and salt, can increase your risk of developing dementia.\n",
      "Sentence 6 label: Accurate\n",
      "\n",
      "Sentence 7: Regarding cognitive engagement, it is thought to support the development of a \"cognitive reserve\".\n",
      "Sentence 7 label: Accurate\n",
      "\n",
      "Sentence 8: This means that actively using your brain throughout your life may help protect against brain cell damage caused by dementia.\n",
      "Sentence 8 label: Accurate\n",
      "\n",
      "Final Answer: Inaccurate\n"
     ]
    }
   ],
   "source": [
    "print(judge[0][0]['judge model response'])"
   ]
  },
  {
   "cell_type": "markdown",
   "metadata": {},
   "source": [
    "# Google"
   ]
  },
  {
   "cell_type": "markdown",
   "metadata": {},
   "source": [
    "### vertexai\n"
   ]
  },
  {
   "cell_type": "code",
   "execution_count": 3,
   "metadata": {},
   "outputs": [
    {
     "data": {
      "text/plain": [
       "AIMessage(content=\"Okay, let's break down why the sky appears blue. It's all about sunlight, Earth's atmosphere, and how light interacts with tiny particles.\\n\\nHere's the step-by-step:\\n\\n1.  **Sunlight Isn't Just White:** The light coming from the sun might look white, but it's actually made up of all the colors of the rainbow (Red, Orange, Yellow, Green, Blue, Indigo, Violet - ROYGBIV). Each color has a different wavelength; red has the longest wavelength, and violet has the shortest.\\n\\n2.  **Earth's Atmosphere:** As sunlight travels towards Earth, it enters our atmosphere, which is made up mostly of tiny gas molecules (like nitrogen and oxygen).\\n\\n3.  **Scattering Light:** When sunlight hits these tiny gas molecules, it gets scattered in different directions. This is called **Rayleigh scattering**.\\n\\n4.  **Shorter Wavelengths Scatter More:** Here's the key part: Rayleigh scattering affects shorter wavelengths of light (blue and violet) *much more* strongly than longer wavelengths (red and orange). Think of it like throwing different sized balls at a small target; the smaller balls (blue/violet light) are more likely to bounce off in all directions than the bigger balls (red/orange light).\\n\\n5.  **Blue Dominates:** Because the blue and violet light gets scattered much more effectively by the gas molecules, this shorter-wavelength light spreads out all across the sky. When you look up at the sky (away from the sun itself), you are seeing this scattered blue light coming towards your eyes from all directions.\\n\\n**Why not Violet?**\\n\\nYou might wonder why the sky isn't violet, since violet light has an even shorter wavelength and is scattered *even more* than blue. There are a couple of reasons:\\n\\n*   The sun emits slightly less violet light than blue light.\\n*   Our eyes are actually more sensitive to blue than they are to violet.\\n\\n**So, the combination of blue light being scattered effectively, the amount of blue light from the sun, and our eyes' sensitivity makes us perceive the sky as blue.**\\n\\n**Bonus - Why are Sunsets Red/Orange?**\\n\\nWhen the sun is setting (or rising), its light has to travel through much more atmosphere to reach your eyes. By the time it gets to you, most of the blue and violet light has already been scattered away in other directions. What's left are the longer wavelengths – the reds, oranges, and yellows – which make it through directly to your eyes, creating those beautiful sunset colors.\\n\\nIn short: The sky is blue because tiny molecules in our atmosphere scatter the blue part of sunlight more than the other colors.\", additional_kwargs={}, response_metadata={'is_blocked': False, 'safety_ratings': [], 'usage_metadata': {'prompt_token_count': 6, 'candidates_token_count': 566, 'total_token_count': 1527, 'prompt_tokens_details': [{'modality': 1, 'token_count': 6}], 'candidates_tokens_details': [{'modality': 1, 'token_count': 566}], 'cached_content_token_count': 0, 'cache_tokens_details': []}, 'finish_reason': 'STOP', 'avg_logprobs': -0.312815608910874, 'model_name': 'gemini-2.5-pro-exp-03-25'}, id='run-336a7a42-294c-4755-9a98-1920cbdf30e1-0', usage_metadata={'input_tokens': 6, 'output_tokens': 566, 'total_tokens': 1527})"
      ]
     },
     "execution_count": 3,
     "metadata": {},
     "output_type": "execute_result"
    }
   ],
   "source": [
    "# Initialize Gemini 1.5 Pro model\n",
    "\n",
    "# \"google_vertexai:gemini-1.5-pro\"\n",
    "gemini_model = init_chat_model(model=\"gemini-2.5-pro-exp-03-25\")\n",
    "response_gemini = gemini_model.invoke(\"why the sky is blue?\")\n",
    "response_gemini"
   ]
  },
  {
   "cell_type": "code",
   "execution_count": 4,
   "metadata": {},
   "outputs": [
    {
     "name": "stdout",
     "output_type": "stream",
     "text": [
      "The sky appears blue due to a phenomenon called **Rayleigh scattering**. Here's a breakdown:\n",
      "\n",
      "**1. Sunlight Enters the Atmosphere:**\n",
      "   Sunlight, appearing white to us, is actually a mixture of all colors of the rainbow. When this light enters the Earth's atmosphere, it encounters various particles and gases.\n",
      "\n",
      "**2. Scattering of Light:**\n",
      "   The molecules of nitrogen and oxygen, which make up most of the atmosphere, are much smaller than the wavelengths of visible light. This size difference causes the sunlight to scatter in all directions. This scattering is more effective for shorter wavelengths, like blue and violet.\n",
      "\n",
      "**3. Rayleigh Scattering:**\n",
      "   This type of scattering, named after Lord Rayleigh, is inversely proportional to the fourth power of the wavelength. This means blue light (with a shorter wavelength) is scattered about 10 times more effectively than red light (with a longer wavelength).\n",
      "\n",
      "**4. Our Perception:**\n",
      "   As we look up at the sky, we see the scattered blue light coming from all directions. This scattered light reaches our eyes, making the sky appear blue.\n",
      "\n",
      "**Why Not Violet?**\n",
      "You might wonder, if violet light scatters even more strongly than blue, why isn't the sky violet? There are two main reasons:\n",
      "\n",
      "* **Sunlight Intensity:** The sun emits less violet light compared to blue.\n",
      "* **Eye Sensitivity:** Our eyes are more sensitive to blue light than violet light.\n",
      "\n",
      "**Therefore, the combination of Rayleigh scattering, the sun's spectral output, and our eye's sensitivity results in our perception of a blue sky.** \n",
      "\n"
     ]
    }
   ],
   "source": [
    "print(response_gemini.content)"
   ]
  },
  {
   "cell_type": "markdown",
   "metadata": {},
   "source": [
    "# Deepseek\n"
   ]
  },
  {
   "cell_type": "code",
   "execution_count": 5,
   "metadata": {},
   "outputs": [
    {
     "name": "stdout",
     "output_type": "stream",
     "text": [
      "The sky appears blue due to a phenomenon called **Rayleigh scattering**, which occurs when sunlight interacts with molecules and small particles in Earth's atmosphere. Here's a concise breakdown:\n",
      "\n",
      "1. **Sunlight Composition**: Sunlight is white light composed of various colors (wavelengths), with violet and blue having shorter wavelengths (~400-450 nm) and red/orange having longer wavelengths (~620-750 nm).\n",
      "\n",
      "2. **Scattering Mechanism**: \n",
      "   - Shorter wavelengths (blue/violet) are scattered more efficiently by atmospheric molecules (like nitrogen and oxygen) than longer wavelengths. This wavelength-dependent scattering is described by Rayleigh's law (scattering intensity ∝ 1/λ⁴).\n",
      "   - As sunlight passes through the atmosphere, blue light is scattered in all directions, creating a diffuse glow that we perceive as the blue sky.\n",
      "\n",
      "3. **Human Perception**:\n",
      "   - Although violet light is scattered even more than blue, human eyes are less sensitive to violet, and the sun emits more blue light. Thus, our eyes predominantly perceive the sky as blue.\n",
      "\n",
      "4. **Sunrise/Sunset Colors**:\n",
      "   - When the sun is near the horizon, sunlight travels through more atmosphere. Most shorter blue wavelengths are scattered out of the line of sight, leaving longer red/orange wavelengths to dominate the direct sunlight, creating vivid sunsets.\n",
      "\n",
      "5. **Additional Factors**:\n",
      "   - **Mie Scattering**: Caused by larger particles (e.g., dust, water droplets), this scattering is less wavelength-sensitive, leading to white/gray skies when clouds or pollution are present.\n",
      "   - **Space Perspective**: Without an atmosphere (e.g., in space), there’s no scattering, so the sky appears black.\n",
      "\n",
      "**Summary**: The blue sky results from Rayleigh scattering of sunlight by atmospheric molecules, our eyes' sensitivity to blue, and the sun’s spectral output. At sunrise/sunset, increased atmospheric path length shifts the dominant color to red/orange.\n"
     ]
    }
   ],
   "source": [
    "# \"deepseek-chat\"\n",
    "deepseek_model = init_chat_model(model=\"deepseek-reasoner\")\n",
    "response_deepseek = deepseek_model.invoke(\n",
    "    \"why the sky is blue?\",\n",
    "    config={\"callbacks\": [tracer_project]}\n",
    "    )\n",
    "response_deepseek\n",
    "print(response_deepseek.content)\n",
    "\n"
   ]
  },
  {
   "cell_type": "markdown",
   "metadata": {},
   "source": [
    "# LLama"
   ]
  },
  {
   "cell_type": "code",
   "execution_count": 10,
   "metadata": {},
   "outputs": [
    {
     "name": "stdout",
     "output_type": "stream",
     "text": [
      "Gravity is a fundamental force of nature that causes objects with mass to attract each other. It is one of the four fundamental forces in physics, along with electromagnetism and the strong and weak nuclear forces.\n",
      "\n",
      "**What is Gravity?**\n",
      "\n",
      "Gravity is a universal force that affects everything with mass or energy, from the smallest subatomic particles to the largest galaxies. It is a curvature of spacetime caused by the presence of mass and energy. According to Albert Einstein's theory of general relativity, gravity is not a force that acts between objects, but rather a consequence of their motion in curved spacetime.\n",
      "\n",
      "**How does Gravity Work?**\n",
      "\n",
      "Gravity works as follows:\n",
      "\n",
      "1. **Mass warps spacetime**: Any object with mass or energy creates a curvature in the fabric of spacetime around it.\n",
      "2. **Gravitational field**: The curvature of spacetime creates a gravitational field, which is a region around an object where the curvature is significant.\n",
      "3. **Objects move along curved paths**: When an object moves through spacetime, it follows a curved path due to the gravitational field created by other objects with mass or energy.\n",
      "\n",
      "**Types of Gravity**\n",
      "\n",
      "There are several types of gravity:\n",
      "\n",
      "1. **Universal gravitation**: The force of gravity that affects all objects with mass or energy.\n",
      "2. **Gravitational attraction**: The attractive force between two objects with mass or energy.\n",
      "3. **Gravitational waves**: Ripples in spacetime caused by the acceleration of massive objects, such as black holes.\n",
      "\n",
      "**Effects of Gravity**\n",
      "\n",
      "Gravity has several effects on objects and systems:\n",
      "\n",
      "1. **Weight**: Gravity pulls objects towards the center of the Earth (or other celestial body).\n",
      "2. **Orbit**: Objects move in curved paths around a central body due to gravitational attraction.\n",
      "3. **Tides**: Gravity causes the oceans to bulge, creating tides.\n",
      "4. **Gravitational lensing**: The bending of light around massive objects, such as stars or black holes.\n",
      "\n",
      "**Gravity and the Universe**\n",
      "\n",
      "Gravity plays a crucial role in the universe:\n",
      "\n",
      "1. **Galaxy formation**: Gravity holds galaxies together and allows them to form.\n",
      "2. **Star formation**: Gravity causes gas and dust to collapse into stars.\n",
      "3. **Planetary motion**: Gravity determines the orbits of planets around their host stars.\n",
      "\n",
      "**Theories of Gravity**\n",
      "\n",
      "Several theories have been proposed to explain gravity:\n",
      "\n",
      "1. **Newton's law of universal gravitation**: A fundamental principle that describes the gravitational force between two objects.\n",
      "2. **General relativity**: Einstein's theory of gravity, which introduces the concept of spacetime curvature.\n",
      "3. **Quantum gravity**: An attempt to merge quantum mechanics and general relativity.\n",
      "\n",
      "Gravity is a fascinating subject that continues to be studied by scientists and theorists today. Its effects on our daily lives are profound, from the way we walk on Earth to the behavior of stars in the universe.\n"
     ]
    }
   ],
   "source": [
    "llama_model = init_chat_model(model=\"ollama:llama3.2\")\n",
    "response_llama = llama_model.invoke(\"Explain gravity\",\n",
    "    config={\"callbacks\": [tracer_project]} if tracer_project else {}\n",
    "    )\n",
    "response_llama\n",
    "print(response_llama.content)"
   ]
  },
  {
   "cell_type": "code",
   "execution_count": null,
   "metadata": {},
   "outputs": [],
   "source": []
  }
 ],
 "metadata": {
  "kernelspec": {
   "display_name": "langvenv",
   "language": "python",
   "name": "python3"
  },
  "language_info": {
   "codemirror_mode": {
    "name": "ipython",
    "version": 3
   },
   "file_extension": ".py",
   "mimetype": "text/x-python",
   "name": "python",
   "nbconvert_exporter": "python",
   "pygments_lexer": "ipython3",
   "version": "3.12.1"
  }
 },
 "nbformat": 4,
 "nbformat_minor": 2
}
