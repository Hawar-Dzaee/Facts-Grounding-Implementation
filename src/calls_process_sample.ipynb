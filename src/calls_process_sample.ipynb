{
 "cells": [
  {
   "cell_type": "code",
   "execution_count": 1,
   "metadata": {},
   "outputs": [],
   "source": [
    "from main import process_sample\n",
    "from utils import load_environment\n",
    "\n",
    "load_environment()\n",
    "\n",
    "import pandas as pd"
   ]
  },
  {
   "cell_type": "code",
   "execution_count": 2,
   "metadata": {},
   "outputs": [],
   "source": [
    "START_SAMPLE_ID = 0\n",
    "END_SAMPLE_ID = 1\n",
    "\n",
    "df_examples = pd.read_csv(\"../data/examples.csv\")[START_SAMPLE_ID:END_SAMPLE_ID]\n",
    "df_evaluation_prompts = pd.read_csv(\"../data/evaluation_prompts.csv\")\n",
    "\n",
    "records = df_examples.to_dict(orient=\"records\")"
   ]
  },
  {
   "cell_type": "markdown",
   "metadata": {},
   "source": [
    "# Single sample through pipeline "
   ]
  },
  {
   "cell_type": "code",
   "execution_count": 3,
   "metadata": {},
   "outputs": [
    {
     "name": "stderr",
     "output_type": "stream",
     "text": [
      "INFO:httpx:HTTP Request: POST http://127.0.0.1:11434/api/chat \"HTTP/1.1 200 OK\"\n",
      "INFO:pipeline:Successfully called : ollama:llama3.2 | Intention : test.\n",
      "INFO:httpx:HTTP Request: POST https://api.anthropic.com/v1/messages \"HTTP/1.1 200 OK\"\n",
      "INFO:pipeline:Successfully called : anthropic:claude-3-7-sonnet-20250219 | Intention : judge.\n",
      "INFO:pipeline:Inaccurate\n",
      "INFO:httpx:HTTP Request: POST https://api.anthropic.com/v1/messages \"HTTP/1.1 200 OK\"\n",
      "INFO:pipeline:Successfully called : anthropic:claude-3-5-sonnet-20240620 | Intention : judge.\n",
      "INFO:pipeline:Accurate\n"
     ]
    }
   ],
   "source": [
    "# \"anthropic:claude-3-5-sonnet-latest\"\n",
    "\n",
    "claude_sonnet_3_7 = process_sample(\n",
    "    sample_id = 0,\n",
    "    record = records[0],\n",
    "    test_models = [\"ollama:llama3.2\"],\n",
    "    judge_models = [\n",
    "        \"anthropic:claude-3-7-sonnet-20250219\",\n",
    "        \"anthropic:claude-3-5-sonnet-20240620\",\n",
    "        ],\n",
    "    evaluation_prompts_file_path = \"../data/evaluation_prompts.csv\",\n",
    ")"
   ]
  },
  {
   "cell_type": "code",
   "execution_count": 7,
   "metadata": {},
   "outputs": [
    {
     "name": "stdout",
     "output_type": "stream",
     "text": [
      "Based on the context document, your risk factors for dementia include:\n",
      "\n",
      "1. High blood pressure: Having consistent high blood pressure in mid-life (ages 45 to 65) increases your risk of developing dementia.\n",
      "2. Diabetes: Having type 2 diabetes in mid-life (ages 45 to 65) increases your risk of developing dementia.\n",
      "3. Obesity: Being obese in mid-life (ages 45 to 65) increases your risk of developing dementia.\n",
      "4. Lack of physical activity: Physical inactivity in later life (ages 65 and up) increases your risk of developing dementia.\n",
      "5. Poor diet: Eating an unhealthy diet, high in saturated fat, sugar, and salt, can increase your risk of developing dementia.\n",
      "\n",
      "Regarding cognitive engagement, it is thought to support the development of a \"cognitive reserve\". This means that actively using your brain throughout your life may help protect against brain cell damage caused by dementia.\n"
     ]
    }
   ],
   "source": [
    "test,judge = claude_sonnet_3_7\n",
    "print(test[0]['test model response'])"
   ]
  },
  {
   "cell_type": "code",
   "execution_count": 8,
   "metadata": {},
   "outputs": [
    {
     "name": "stdout",
     "output_type": "stream",
     "text": [
      "Sentence 1: Based on the context document, your risk factors for dementia include:\n",
      "Sentence 1 label: Accurate\n",
      "\n",
      "Sentence 2: 1. High blood pressure: Having consistent high blood pressure in mid-life (ages 45 to 65) increases your risk of developing dementia.\n",
      "Sentence 2 label: Accurate\n",
      "\n",
      "Sentence 3: 2. Diabetes: Having type 2 diabetes in mid-life (ages 45 to 65) increases your risk of developing dementia.\n",
      "Sentence 3 label: Inaccurate\n",
      "\n",
      "Sentence 4: 3. Obesity: Being obese in mid-life (ages 45 to 65) increases your risk of developing dementia.\n",
      "Sentence 4 label: Inaccurate\n",
      "\n",
      "Sentence 5: 4. Lack of physical activity: Physical inactivity in later life (ages 65 and up) increases your risk of developing dementia.\n",
      "Sentence 5 label: Inaccurate\n",
      "\n",
      "Sentence 6: 5. Poor diet: Eating an unhealthy diet, high in saturated fat, sugar, and salt, can increase your risk of developing dementia.\n",
      "Sentence 6 label: Accurate\n",
      "\n",
      "Sentence 7: Regarding cognitive engagement, it is thought to support the development of a \"cognitive reserve\".\n",
      "Sentence 7 label: Accurate\n",
      "\n",
      "Sentence 8: This means that actively using your brain throughout your life may help protect against brain cell damage caused by dementia.\n",
      "Sentence 8 label: Accurate\n",
      "\n",
      "Final Answer: Inaccurate\n",
      "\n",
      "The response is inaccurate because it lists diabetes, obesity, and lack of physical activity as risk factors for the person in the query, but the query doesn't mention these conditions. The query mentions eating \"mostly garbage\" (poor diet), \"ears blown out in the war\" (hearing loss), and \"a case of the sads pretty regular\" (depression), but the response doesn't mention hearing loss or depression as risk factors, which are mentioned in the evidence.\n"
     ]
    }
   ],
   "source": [
    "print(judge[0][0]['judge model response'])"
   ]
  }
 ],
 "metadata": {
  "kernelspec": {
   "display_name": "langvenv",
   "language": "python",
   "name": "python3"
  },
  "language_info": {
   "codemirror_mode": {
    "name": "ipython",
    "version": 3
   },
   "file_extension": ".py",
   "mimetype": "text/x-python",
   "name": "python",
   "nbconvert_exporter": "python",
   "pygments_lexer": "ipython3",
   "version": "3.12.1"
  }
 },
 "nbformat": 4,
 "nbformat_minor": 2
}
