{
 "cells": [
  {
   "cell_type": "code",
   "execution_count": 1,
   "metadata": {},
   "outputs": [],
   "source": [
    "from langchain.chat_models import init_chat_model\n",
    "from langchain.callbacks.tracers import LangChainTracer\n",
    "import concurrent.futures \n",
    "\n",
    "\n",
    "import os\n",
    "from dotenv import load_dotenv\n",
    "load_dotenv()\n",
    "\n",
    "tracer_project = LangChainTracer(project_name=\"punching-bag-1\")"
   ]
  },
  {
   "cell_type": "code",
   "execution_count": 2,
   "metadata": {},
   "outputs": [],
   "source": [
    "def call_llm(prompt,model):\n",
    "    print(f\"Calling {model}\")\n",
    "    llm = init_chat_model(model=model, temperature=0.7)\n",
    "    response = llm.invoke(\n",
    "        prompt,\n",
    "        config={\n",
    "            \"callbacks\": [tracer_project]\n",
    "        }\n",
    "    )\n",
    "    return response.content"
   ]
  },
  {
   "cell_type": "code",
   "execution_count": 3,
   "metadata": {},
   "outputs": [],
   "source": [
    "models = [\n",
    "    \"ollama:llama3.2\",\n",
    "    \"ollama:llama3.2\",\n",
    "]"
   ]
  },
  {
   "cell_type": "code",
   "execution_count": 4,
   "metadata": {},
   "outputs": [
    {
     "name": "stdout",
     "output_type": "stream",
     "text": [
      "Calling ollama:llama3.2\n"
     ]
    },
    {
     "data": {
      "text/plain": [
       "'The capital of France is Paris.'"
      ]
     },
     "execution_count": 4,
     "metadata": {},
     "output_type": "execute_result"
    }
   ],
   "source": [
    "call_llm(\"What is the capital of France?\", \"ollama:llama3.2\")"
   ]
  },
  {
   "cell_type": "markdown",
   "metadata": {},
   "source": [
    "# Method 1: "
   ]
  },
  {
   "cell_type": "code",
   "execution_count": 8,
   "metadata": {},
   "outputs": [
    {
     "name": "stdout",
     "output_type": "stream",
     "text": [
      "Calling ollama:llama3.2Calling ollama:llama3.2\n",
      "\n",
      "check_2\n",
      "[<Future at 0x107fdba40 state=finished returned str>, <Future at 0x107fdabd0 state=finished returned str>]\n",
      "The capital of France is Paris.\n",
      "The capital of France is Paris.\n"
     ]
    }
   ],
   "source": [
    "\n",
    "with concurrent.futures.ThreadPoolExecutor() as executor:\n",
    "    futures = [executor.submit(call_llm, \"What is the capital of France?\", model) for model in models]\n",
    "    results = list(concurrent.futures.as_completed(futures))\n",
    "    print(\"check_2\")\n",
    "    print(results)\n",
    "    for result in results:\n",
    "        print(result.result())\n",
    "\n"
   ]
  },
  {
   "cell_type": "markdown",
   "metadata": {},
   "source": [
    "# Method 2: "
   ]
  },
  {
   "cell_type": "code",
   "execution_count": 14,
   "metadata": {},
   "outputs": [
    {
     "name": "stdout",
     "output_type": "stream",
     "text": [
      "Calling ollama:llama3.2\n",
      "Calling gpt-3.5-turbo\n",
      "The capital of France is Paris.\n",
      "The capital of France is Paris.\n"
     ]
    }
   ],
   "source": [
    "prompt = \"what is the capital of france?\"\n",
    "models = [\"ollama:llama3.2\",\"gpt-3.5-turbo\"]\n",
    "\n",
    "with concurrent.futures.ThreadPoolExecutor() as executor:\n",
    "    results = executor.map(\n",
    "        lambda model: call_llm(prompt,model),\n",
    "        models\n",
    "    )\n",
    "\n",
    "    for result in results:\n",
    "        print(result)\n"
   ]
  },
  {
   "cell_type": "code",
   "execution_count": 2,
   "metadata": {},
   "outputs": [],
   "source": [
    "class Judges:\n",
    "    def __init__(self,model:str):\n",
    "        self.model = model \n",
    "\n",
    "\n",
    "    def call_llm(self,prompt):\n",
    "        print(f\"Calling {self.model}\")\n",
    "        llm = init_chat_model(model=self.model, temperature=0.7)\n",
    "        response = llm.invoke(\n",
    "            prompt,\n",
    "            config={\n",
    "                \"callbacks\": [tracer_project]\n",
    "            }\n",
    "        )\n",
    "        return response.content\n",
    "    \n",
    "\n",
    "    \n"
   ]
  },
  {
   "cell_type": "code",
   "execution_count": 3,
   "metadata": {},
   "outputs": [
    {
     "name": "stdout",
     "output_type": "stream",
     "text": [
      "Calling ollama:llama3.2\n"
     ]
    },
    {
     "data": {
      "text/plain": [
       "'The capital of France is Paris.'"
      ]
     },
     "execution_count": 3,
     "metadata": {},
     "output_type": "execute_result"
    }
   ],
   "source": [
    "model  = Judges(\"ollama:llama3.2\")\n",
    "ollama_llama3_2 = model.call_llm(\"What is the capital of France?\")\n",
    "ollama_llama3_2"
   ]
  }
 ],
 "metadata": {
  "kernelspec": {
   "display_name": "langvenv",
   "language": "python",
   "name": "python3"
  },
  "language_info": {
   "codemirror_mode": {
    "name": "ipython",
    "version": 3
   },
   "file_extension": ".py",
   "mimetype": "text/x-python",
   "name": "python",
   "nbconvert_exporter": "python",
   "pygments_lexer": "ipython3",
   "version": "3.12.1"
  }
 },
 "nbformat": 4,
 "nbformat_minor": 2
}
