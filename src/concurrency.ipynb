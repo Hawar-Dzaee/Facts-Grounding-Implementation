{
 "cells": [
  {
   "cell_type": "code",
   "execution_count": 2,
   "metadata": {},
   "outputs": [],
   "source": [
    "from langchain.chat_models import init_chat_model\n",
    "from langchain.callbacks.tracers import LangChainTracer\n",
    "\n",
    "\n",
    "import os\n",
    "from dotenv import load_dotenv\n",
    "load_dotenv()\n",
    "\n",
    "tracer_project = LangChainTracer(project_name=\"punching-bag-1\")"
   ]
  },
  {
   "cell_type": "code",
   "execution_count": 8,
   "metadata": {},
   "outputs": [],
   "source": [
    "def call_llm(prompt,model):\n",
    "    print(f\"Calling {model}\")\n",
    "    llm = init_chat_model(model=model, temperature=0.7)\n",
    "    response = llm.invoke(\n",
    "        prompt,\n",
    "        config={\n",
    "            \"callbacks\": [tracer_project]\n",
    "        }\n",
    "    )\n",
    "    return response.content"
   ]
  },
  {
   "cell_type": "code",
   "execution_count": 9,
   "metadata": {},
   "outputs": [],
   "source": [
    "models = [\n",
    "    \"ollama:llama3.2\",\n",
    "    \"gpt-4o\",\n",
    "]"
   ]
  },
  {
   "cell_type": "code",
   "execution_count": 10,
   "metadata": {},
   "outputs": [
    {
     "name": "stdout",
     "output_type": "stream",
     "text": [
      "Calling ollama:llama3.2\n"
     ]
    },
    {
     "data": {
      "text/plain": [
       "'The capital of France is Paris.'"
      ]
     },
     "execution_count": 10,
     "metadata": {},
     "output_type": "execute_result"
    }
   ],
   "source": [
    "call_llm(\"What is the capital of France?\", \"ollama:llama3.2\")"
   ]
  },
  {
   "cell_type": "code",
   "execution_count": 11,
   "metadata": {},
   "outputs": [
    {
     "name": "stdout",
     "output_type": "stream",
     "text": [
      "Calling ollama:llama3.2\n",
      "Calling gpt-4o\n",
      "The capital of France is Paris.\n",
      "The capital of France is Paris.\n"
     ]
    }
   ],
   "source": [
    "import concurrent.futures \n",
    "\n",
    "with concurrent.futures.ThreadPoolExecutor() as executor:\n",
    "    futures = [executor.submit(call_llm, \"What is the capital of France?\", model) for model in models]\n",
    "    results = list(concurrent.futures.as_completed(futures))\n",
    "    for result in results:\n",
    "        print(result.result())\n",
    "\n"
   ]
  },
  {
   "cell_type": "code",
   "execution_count": null,
   "metadata": {},
   "outputs": [],
   "source": []
  }
 ],
 "metadata": {
  "kernelspec": {
   "display_name": "langvenv",
   "language": "python",
   "name": "python3"
  },
  "language_info": {
   "codemirror_mode": {
    "name": "ipython",
    "version": 3
   },
   "file_extension": ".py",
   "mimetype": "text/x-python",
   "name": "python",
   "nbconvert_exporter": "python",
   "pygments_lexer": "ipython3",
   "version": "3.12.1"
  }
 },
 "nbformat": 4,
 "nbformat_minor": 2
}
