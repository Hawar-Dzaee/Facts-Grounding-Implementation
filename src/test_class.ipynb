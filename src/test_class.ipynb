{
 "cells": [
  {
   "cell_type": "code",
   "execution_count": 1,
   "metadata": {},
   "outputs": [],
   "source": [
    "import yaml\n",
    "import logging\n",
    "\n",
    "import pandas as pd \n",
    "\n",
    "from LM import LLM,JudgeLLM\n",
    "from utils import load_environment,dump_in_jsonl\n",
    "\n",
    "load_environment()"
   ]
  },
  {
   "cell_type": "code",
   "execution_count": 2,
   "metadata": {},
   "outputs": [],
   "source": [
    "logging.basicConfig(\n",
    "    level=logging.INFO,\n",
    "    format='%(asctime)s - %(name)s - %(levelname)s - %(message)s'\n",
    ")\n",
    "\n",
    "logger = logging.getLogger(__name__)"
   ]
  },
  {
   "cell_type": "code",
   "execution_count": 3,
   "metadata": {},
   "outputs": [],
   "source": [
    "with open(\"models.yaml\",\"r\") as f:\n",
    "    models = yaml.safe_load(f)\n",
    "\n",
    "test_models = models['TEST_MODELS']\n",
    "judge_models = models['JUDGE_MODELS']"
   ]
  },
  {
   "cell_type": "code",
   "execution_count": 4,
   "metadata": {},
   "outputs": [],
   "source": [
    "LIMIT_SAMPLE_SIZE = 1\n",
    "\n",
    "df = pd.read_csv(\"../data/examples.csv\")\n",
    "df = df[:LIMIT_SAMPLE_SIZE]\n",
    "\n",
    "evaluation_prompts_file_path = \"../data/evaluation_prompts.csv\""
   ]
  },
  {
   "cell_type": "code",
   "execution_count": 5,
   "metadata": {},
   "outputs": [
    {
     "name": "stderr",
     "output_type": "stream",
     "text": [
      "INFO:httpx:HTTP Request: POST https://api.openai.com/v1/chat/completions \"HTTP/1.1 200 OK\"\n",
      "INFO:LM:Successfully called : openai:gpt-3.5-turbo | Intention : test.\n"
     ]
    },
    {
     "data": {
      "text/plain": [
       "{'sample_id': 0,\n",
       " 'test model': 'openai:gpt-3.5-turbo',\n",
       " 'Encountered Problems': False,\n",
       " 'test model response': 'Based on the information provided in the context document, your risk factors for dementia include high blood pressure, diabetes, obesity, lack of physical activity, poor diet, high alcohol consumption, low cognitive engagement, depression, traumatic brain injury, hearing loss, and social isolation. \\n\\nCognitive engagement is important because it is thought to support the development of a \"cognitive reserve,\" which may protect against brain cell damage caused by dementia. Engaging in activities that challenge and stimulate the brain throughout life may help reduce the risk of developing dementia.'}"
      ]
     },
     "execution_count": 5,
     "metadata": {},
     "output_type": "execute_result"
    }
   ],
   "source": [
    "model_instance = LLM(test_models[0])\n",
    "test_model_output = model_instance.call_llm(\n",
    "    df['full_prompt'].iloc[0],intention=\"test\",sample_id = 0\n",
    ")\n",
    "\n",
    "test_model_output"
   ]
  },
  {
   "cell_type": "code",
   "execution_count": 6,
   "metadata": {},
   "outputs": [],
   "source": [
    "dump_in_jsonl(test_model_output,\"test_responses.jsonl\")\n"
   ]
  },
  {
   "cell_type": "markdown",
   "metadata": {},
   "source": [
    "# Judge "
   ]
  },
  {
   "cell_type": "code",
   "execution_count": 7,
   "metadata": {},
   "outputs": [
    {
     "data": {
      "text/plain": [
       "<LM.JudgeLLM at 0x121942f90>"
      ]
     },
     "execution_count": 7,
     "metadata": {},
     "output_type": "execute_result"
    }
   ],
   "source": [
    "judges = JudgeLLM(\n",
    "     judge_models\n",
    ")\n",
    "\n",
    "judges"
   ]
  },
  {
   "cell_type": "code",
   "execution_count": 8,
   "metadata": {},
   "outputs": [
    {
     "name": "stderr",
     "output_type": "stream",
     "text": [
      "INFO:httpx:HTTP Request: POST https://api.anthropic.com/v1/messages \"HTTP/1.1 200 OK\"\n",
      "INFO:LM:Successfully called : anthropic:claude-3-5-sonnet-20240620 | Intention : judge.\n",
      "INFO:LM:Accurate\n",
      "INFO:LM:Successfully called : google_vertexai:gemini-1.5-pro | Intention : judge.\n",
      "INFO:LM:Accurate\n"
     ]
    }
   ],
   "source": [
    "output = judges.calling_judges(\n",
    "    user_request= df['user_request'].iloc[0],\n",
    "    context_document= df['context_document'].iloc[0],\n",
    "    test_model_response= test_model_output['test model response'],\n",
    "    test_model= test_model_output['test model'],\n",
    "    sample_id= 0, \n",
    "    evaluation_prompt_file_path=evaluation_prompts_file_path,\n",
    ")"
   ]
  },
  {
   "cell_type": "code",
   "execution_count": 9,
   "metadata": {},
   "outputs": [
    {
     "data": {
      "text/plain": [
       "[{'judged_model': 'openai:gpt-3.5-turbo',\n",
       "  'sample_id': 0,\n",
       "  'judge model': 'anthropic:claude-3-5-sonnet-20240620',\n",
       "  'Encountered Problems': False,\n",
       "  'judge model response': 'Sentence 1: Based on the information provided in the context document, your risk factors for dementia include high blood pressure, diabetes, obesity, lack of physical activity, poor diet, high alcohol consumption, low cognitive engagement, depression, traumatic brain injury, hearing loss, and social isolation.\\nSentence 1 label: Accurate\\n\\nSentence 2: Cognitive engagement is important because it is thought to support the development of a \"cognitive reserve,\" which may protect against brain cell damage caused by dementia.\\nSentence 2 label: Accurate\\n\\nSentence 3: Engaging in activities that challenge and stimulate the brain throughout life may help reduce the risk of developing dementia.\\nSentence 3 label: Accurate\\n\\nFinal Answer: Accurate',\n",
       "  'verdict': 'Accurate'},\n",
       " {'judged_model': 'openai:gpt-3.5-turbo',\n",
       "  'sample_id': 0,\n",
       "  'judge model': 'google_vertexai:gemini-1.5-pro',\n",
       "  'Encountered Problems': False,\n",
       "  'judge model response': '```json\\n{\"sentence\": \"Based on the information provided in the context document, your risk factors for dementia include high blood pressure, diabetes, obesity, lack of physical activity, poor diet, high alcohol consumption, low cognitive engagement, depression, traumatic brain injury, hearing loss, and social isolation.\", \"label\": \"supported\", \"rationale\": \"Each of the listed factors is mentioned in the context as a risk factor for dementia.\", \"excerpt\": \"high blood pressure \\\\n People who have consistent high blood pressure (hypertension) in mid-life (ages 45 to 65) are more likely to develop dementia compared to those with normal blood pressure.\\\\n \\\\n...diabetes \\\\n People with type 2 diabetes in mid-life (ages 45 to 65) are at an increased risk of developing dementia, particularly Alzheimer’s disease and vascular dementia.\\\\n\\\\n...Obesity\\\\n Obesity in mid-life (ages 45 to 65) increases the risk of developing dementia. \\\\n\\\\n...lack of physical activity \\\\n Physical inactivity in later life (ages 65 and up) increases the risk of developing dementia.\\\\n\\\\n...poor diet\\\\n An unhealthy diet, high in saturated fat, sugar, and salt, can increase the risk of developing many illnesses, including dementia and cardiovascular disease.\\\\n\\\\n...high alcohol consumption \\\\n Drinking excessively (more than 12 drinks per week), can increase your risk of developing dementia\\\\n\\\\n...low cognitive engagement \\\\n...\\\\n\\\\n depression \\\\n People who experience depression in mid- or later life have a higher risk of developing dementia.\\\\n\\\\n...traumatic brain injury \\\\n People who experience severe or repeated head injuries are at increased risk of developing dementia. \\\\n\\\\n...hearing loss\\\\n Mild levels of hearing loss increase the risk of cognitive decline and dementia.\\\\n\\\\n...social isolation\\\\n Social isolation can increase the risk of hypertension, coronary heart disease, depression, and dementia.\"}\\n{\"sentence\": \"Cognitive engagement is important because it is thought to support the development of a \\\\\"cognitive reserve,\\\\\" which may protect against brain cell damage caused by dementia.\", \"label\": \"supported\", \"rationale\": \"The context explicitly states that cognitive engagement supports the development of cognitive reserve, which may protect against brain cell damage.\", \"excerpt\": \"Cognitive engagement is thought to support the development of a\\\\n “cognitive reserve”. This is the idea that people who actively use their brains throughout their lives may be more protected against brain cell damage caused by dementia.\"}\\n{\"sentence\": \"Engaging in activities that challenge and stimulate the brain throughout life may help reduce the risk of developing dementia.\", \"label\": \"supported\", \"rationale\": \"This sentence is supported by the context\\'s explanation of cognitive reserve, which suggests that active brain use can protect against dementia.\", \"excerpt\": \"Cognitive engagement is thought to support the development of a\\\\n “cognitive reserve”. This is the idea that people who actively use their brains throughout their lives may be more protected against brain cell damage caused by dementia.\"}\\n```',\n",
       "  'verdict': 'Accurate'}]"
      ]
     },
     "execution_count": 9,
     "metadata": {},
     "output_type": "execute_result"
    }
   ],
   "source": [
    "output"
   ]
  },
  {
   "cell_type": "code",
   "execution_count": null,
   "metadata": {},
   "outputs": [],
   "source": []
  }
 ],
 "metadata": {
  "kernelspec": {
   "display_name": "langvenv",
   "language": "python",
   "name": "python3"
  },
  "language_info": {
   "codemirror_mode": {
    "name": "ipython",
    "version": 3
   },
   "file_extension": ".py",
   "mimetype": "text/x-python",
   "name": "python",
   "nbconvert_exporter": "python",
   "pygments_lexer": "ipython3",
   "version": "3.12.1"
  }
 },
 "nbformat": 4,
 "nbformat_minor": 2
}
