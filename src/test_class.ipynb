{
 "cells": [
  {
   "cell_type": "code",
   "execution_count": 1,
   "metadata": {},
   "outputs": [],
   "source": [
    "import yaml\n",
    "import logging\n",
    "\n",
    "import pandas as pd \n",
    "\n",
    "from LM import LLM,JudgeLLM\n",
    "from utils import load_environment,dump_in_jsonl\n",
    "\n",
    "load_environment()"
   ]
  },
  {
   "cell_type": "code",
   "execution_count": 2,
   "metadata": {},
   "outputs": [],
   "source": [
    "logging.basicConfig(\n",
    "    level=logging.INFO,\n",
    "    format='%(asctime)s - %(name)s - %(levelname)s - %(message)s'\n",
    ")\n",
    "\n",
    "logger = logging.getLogger(__name__)"
   ]
  },
  {
   "cell_type": "code",
   "execution_count": 3,
   "metadata": {},
   "outputs": [],
   "source": [
    "with open(\"models.yaml\",\"r\") as f:\n",
    "    models = yaml.safe_load(f)\n",
    "\n",
    "test_models = models['TEST_MODELS']\n",
    "judge_models = models['JUDGE_MODELS']"
   ]
  },
  {
   "cell_type": "code",
   "execution_count": 4,
   "metadata": {},
   "outputs": [],
   "source": [
    "LIMIT_SAMPLE_SIZE = 1\n",
    "\n",
    "df = pd.read_csv(\"../data/examples.csv\")\n",
    "df = df[:LIMIT_SAMPLE_SIZE]\n",
    "\n",
    "evaluation_prompts_file_path = \"../data/evaluation_prompts.csv\""
   ]
  },
  {
   "cell_type": "code",
   "execution_count": 5,
   "metadata": {},
   "outputs": [
    {
     "name": "stderr",
     "output_type": "stream",
     "text": [
      "INFO:httpx:HTTP Request: POST https://api.openai.com/v1/chat/completions \"HTTP/1.1 200 OK\"\n",
      "INFO:LM:Successfully called : openai:gpt-3.5-turbo | Intention : test.\n"
     ]
    },
    {
     "data": {
      "text/plain": [
       "{'sample_id': 0,\n",
       " 'test model': 'openai:gpt-3.5-turbo',\n",
       " 'Encountered Problems': False,\n",
       " 'test model response': 'Based on the information provided in the context document, your risk factors for dementia include high blood pressure, diabetes, obesity, lack of physical activity, poor diet, high alcohol consumption, low cognitive engagement, depression, traumatic brain injury, hearing loss, and social isolation. \\n\\nCognitive engagement is important because it is thought to support the development of a \"cognitive reserve,\" which may protect against brain cell damage caused by dementia. Engaging in activities that challenge and stimulate the brain throughout life may help reduce the risk of developing dementia.'}"
      ]
     },
     "execution_count": 5,
     "metadata": {},
     "output_type": "execute_result"
    }
   ],
   "source": [
    "model_instance = LLM(test_models[0])\n",
    "test_model_output = model_instance.call_llm(\n",
    "    df['full_prompt'].iloc[0],intention=\"test\",sample_id = 0\n",
    ")\n",
    "\n",
    "test_model_output"
   ]
  },
  {
   "cell_type": "code",
   "execution_count": 6,
   "metadata": {},
   "outputs": [],
   "source": [
    "dump_in_jsonl(test_model_output,\"test_responses.jsonl\")\n"
   ]
  },
  {
   "cell_type": "markdown",
   "metadata": {},
   "source": [
    "# Judge "
   ]
  },
  {
   "cell_type": "code",
   "execution_count": 7,
   "metadata": {},
   "outputs": [
    {
     "data": {
      "text/plain": [
       "<LM.JudgeLLM at 0x121942f90>"
      ]
     },
     "execution_count": 7,
     "metadata": {},
     "output_type": "execute_result"
    }
   ],
   "source": [
    "judges = JudgeLLM(\n",
    "     judge_models\n",
    ")\n",
    "\n",
    "judges"
   ]
  },
  {
   "cell_type": "code",
   "execution_count": 8,
   "metadata": {},
   "outputs": [
    {
     "name": "stderr",
     "output_type": "stream",
     "text": [
      "INFO:httpx:HTTP Request: POST https://api.anthropic.com/v1/messages \"HTTP/1.1 200 OK\"\n",
      "INFO:LM:Successfully called : anthropic:claude-3-5-sonnet-20240620 | Intention : judge.\n",
      "INFO:LM:Accurate\n",
      "INFO:LM:Successfully called : google_vertexai:gemini-1.5-pro | Intention : judge.\n",
      "INFO:LM:Accurate\n"
     ]
    }
   ],
   "source": [
    "output = judges.calling_judges(\n",
    "    user_request= df['user_request'].iloc[0],\n",
    "    context_document= df['context_document'].iloc[0],\n",
    "    test_model_response= test_model_output['test model response'],\n",
    "    test_model= test_model_output['test model'],\n",
    "    sample_id= 0, \n",
    "    evaluation_prompt_file_path=evaluation_prompts_file_path,\n",
    ")"
   ]
  },
  {
   "cell_type": "code",
   "execution_count": 9,
   "metadata": {},
   "outputs": [
    {
     "data": {
      "text/plain": [
       "[{'judged_model': 'openai:gpt-3.5-turbo',\n",
       "  'sample_id': 0,\n",
       "  'judge model': 'anthropic:claude-3-5-sonnet-20240620',\n",
       "  'Encountered Problems': False,\n",
       "  'judge model response': 'Sentence 1: Based on the information provided in the context document, your risk factors for dementia include high blood pressure, diabetes, obesity, lack of physical activity, poor diet, high alcohol consumption, low cognitive engagement, depression, traumatic brain injury, hearing loss, and social isolation.\\nSentence 1 label: Accurate\\n\\nSentence 2: Cognitive engagement is important because it is thought to support the development of a \"cognitive reserve,\" which may protect against brain cell damage caused by dementia.\\nSentence 2 label: Accurate\\n\\nSentence 3: Engaging in activities that challenge and stimulate the brain throughout life may help reduce the risk of developing dementia.\\nSentence 3 label: Accurate\\n\\nFinal Answer: Accurate',\n",
       "  'verdict': 'Accurate'},\n",
       " {'judged_model': 'openai:gpt-3.5-turbo',\n",
       "  'sample_id': 0,\n",
       "  'judge model': 'google_vertexai:gemini-1.5-pro',\n",
       "  'Encountered Problems': False,\n",
       "  'judge model response': '```json\\n{\"sentence\": \"Based on the information provided in the context document, your risk factors for dementia include high blood pressure, diabetes, obesity, lack of physical activity, poor diet, high alcohol consumption, low cognitive engagement, depression, traumatic brain injury, hearing loss, and social isolation.\", \"label\": \"supported\", \"rationale\": \"Each of the listed factors is mentioned in the context as a risk factor for dementia.\", \"excerpt\": \"high blood pressure \\\\n People who have consistent high blood pressure (hypertension) in mid-life (ages 45 to 65) are more likely to develop dementia compared to those with normal blood pressure.\\\\n \\\\n...diabetes \\\\n People with type 2 diabetes in mid-life (ages 45 to 65) are at an increased risk of developing dementia, particularly Alzheimer’s disease and vascular dementia.\\\\n\\\\n...Obesity\\\\n Obesity in mid-life (ages 45 to 65) increases the risk of developing dementia. \\\\n\\\\n...lack of physical activity \\\\n Physical inactivity in later life (ages 65 and up) increases the risk of developing dementia.\\\\n\\\\n...poor diet\\\\n An unhealthy diet, high in saturated fat, sugar, and salt, can increase the risk of developing many illnesses, including dementia and cardiovascular disease.\\\\n\\\\n...high alcohol consumption \\\\n Drinking excessively (more than 12 drinks per week), can increase your risk of developing dementia\\\\n\\\\n...low cognitive engagement \\\\n...\\\\n\\\\n depression \\\\n People who experience depression in mid- or later life have a higher risk of developing dementia.\\\\n\\\\n...traumatic brain injury \\\\n People who experience severe or repeated head injuries are at increased risk of developing dementia. \\\\n\\\\n...hearing loss\\\\n Mild levels of hearing loss increase the risk of cognitive decline and dementia.\\\\n\\\\n...social isolation\\\\n Social isolation can increase the risk of hypertension, coronary heart disease, depression, and dementia.\"}\\n{\"sentence\": \"Cognitive engagement is important because it is thought to support the development of a \\\\\"cognitive reserve,\\\\\" which may protect against brain cell damage caused by dementia.\", \"label\": \"supported\", \"rationale\": \"The context explicitly states that cognitive engagement supports the development of cognitive reserve, which may protect against brain cell damage.\", \"excerpt\": \"Cognitive engagement is thought to support the development of a\\\\n “cognitive reserve”. This is the idea that people who actively use their brains throughout their lives may be more protected against brain cell damage caused by dementia.\"}\\n{\"sentence\": \"Engaging in activities that challenge and stimulate the brain throughout life may help reduce the risk of developing dementia.\", \"label\": \"supported\", \"rationale\": \"This sentence is supported by the context\\'s explanation of cognitive reserve, which suggests that active brain use can protect against dementia.\", \"excerpt\": \"Cognitive engagement is thought to support the development of a\\\\n “cognitive reserve”. This is the idea that people who actively use their brains throughout their lives may be more protected against brain cell damage caused by dementia.\"}\\n```',\n",
       "  'verdict': 'Accurate'}]"
      ]
     },
     "execution_count": 9,
     "metadata": {},
     "output_type": "execute_result"
    }
   ],
   "source": [
    "output"
   ]
  },
  {
   "cell_type": "markdown",
   "metadata": {},
   "source": [
    "# to_dict "
   ]
  },
  {
   "cell_type": "code",
   "execution_count": 1,
   "metadata": {},
   "outputs": [],
   "source": [
    "import pandas as pd "
   ]
  },
  {
   "cell_type": "code",
   "execution_count": 3,
   "metadata": {},
   "outputs": [
    {
     "data": {
      "text/html": [
       "<div>\n",
       "<style scoped>\n",
       "    .dataframe tbody tr th:only-of-type {\n",
       "        vertical-align: middle;\n",
       "    }\n",
       "\n",
       "    .dataframe tbody tr th {\n",
       "        vertical-align: top;\n",
       "    }\n",
       "\n",
       "    .dataframe thead th {\n",
       "        text-align: right;\n",
       "    }\n",
       "</style>\n",
       "<table border=\"1\" class=\"dataframe\">\n",
       "  <thead>\n",
       "    <tr style=\"text-align: right;\">\n",
       "      <th></th>\n",
       "      <th>system_instruction</th>\n",
       "      <th>user_request</th>\n",
       "      <th>context_document</th>\n",
       "      <th>full_prompt</th>\n",
       "      <th>domain</th>\n",
       "      <th>type</th>\n",
       "      <th>high_level_type</th>\n",
       "    </tr>\n",
       "  </thead>\n",
       "  <tbody>\n",
       "    <tr>\n",
       "      <th>0</th>\n",
       "      <td>{instruction}\\n ==========\\n In your answer, r...</td>\n",
       "      <td>I'm middle-aged, never smoked, had my ears blo...</td>\n",
       "      <td>high blood pressure \\n People who have consist...</td>\n",
       "      <td>{instruction}\\n ==========\\n In your answer, r...</td>\n",
       "      <td>Medical</td>\n",
       "      <td>Effect Analysis</td>\n",
       "      <td>Q&amp;A</td>\n",
       "    </tr>\n",
       "    <tr>\n",
       "      <th>1</th>\n",
       "      <td>You formulate answers based solely on the mate...</td>\n",
       "      <td>Can you list all the knife brands that sell kn...</td>\n",
       "      <td>Knife sharpening angles\\nManufacturer´s recomm...</td>\n",
       "      <td>You formulate answers based solely on the mate...</td>\n",
       "      <td>Retail/Product</td>\n",
       "      <td>Fact Finding</td>\n",
       "      <td>Q&amp;A</td>\n",
       "    </tr>\n",
       "  </tbody>\n",
       "</table>\n",
       "</div>"
      ],
      "text/plain": [
       "                                  system_instruction  \\\n",
       "0  {instruction}\\n ==========\\n In your answer, r...   \n",
       "1  You formulate answers based solely on the mate...   \n",
       "\n",
       "                                        user_request  \\\n",
       "0  I'm middle-aged, never smoked, had my ears blo...   \n",
       "1  Can you list all the knife brands that sell kn...   \n",
       "\n",
       "                                    context_document  \\\n",
       "0  high blood pressure \\n People who have consist...   \n",
       "1  Knife sharpening angles\\nManufacturer´s recomm...   \n",
       "\n",
       "                                         full_prompt          domain  \\\n",
       "0  {instruction}\\n ==========\\n In your answer, r...         Medical   \n",
       "1  You formulate answers based solely on the mate...  Retail/Product   \n",
       "\n",
       "              type high_level_type  \n",
       "0  Effect Analysis             Q&A  \n",
       "1     Fact Finding             Q&A  "
      ]
     },
     "execution_count": 3,
     "metadata": {},
     "output_type": "execute_result"
    }
   ],
   "source": [
    "df = pd.read_csv(\"../data/examples.csv\")[:2]\n",
    "df"
   ]
  },
  {
   "cell_type": "code",
   "execution_count": 4,
   "metadata": {},
   "outputs": [
    {
     "data": {
      "text/plain": [
       "[{'system_instruction': '{instruction}\\n ==========\\n In your answer, refer only to the context document. Do not employ any outside knowledge\\n \\n\\n {question}\\n ==========\\n [user request]\\n \\n\\n {passage 0}\\n ==========\\n [context document]',\n",
       "  'user_request': \"I'm middle-aged, never smoked, had my ears blown out in the war, get a case of the sads pretty regular, and eat mostly garbage. What are my risk factors for dementia? What does cognitive engagement have to do with it?\",\n",
       "  'context_document': 'high blood pressure \\n People who have consistent high blood pressure (hypertension) in mid-life (ages 45 to 65) are more likely to develop dementia compared to those with normal blood pressure.\\n \\n\\n High blood pressure can increase the risk of developing dementia, particularly vascular dementia, because of its effect on the heart, the arteries, and blood circulation.\\n \\n\\n Smoking \\n The evidence is strong and consistent that smokers are at a higher risk of developing dementia vs. non-smokers or ex-smokers.\\n \\n\\n It’s never too late to quit! Smokers who quit can reduce their risk of developing dementia.\\n \\n\\n diabetes \\n People with type 2 diabetes in mid-life (ages 45 to 65) are at an increased risk of developing dementia, particularly Alzheimer’s disease and vascular dementia.\\n \\n\\n Obesity\\n Obesity in mid-life (ages 45 to 65) increases the risk of developing dementia. Obesity also increases the risk of developing other risk factors such as type 2 diabetes.\\n \\n\\n lack of physical activity \\n Physical inactivity in later life (ages 65 and up) increases the risk of developing dementia.\\n \\n\\n poor diet\\n An unhealthy diet, high in saturated fat, sugar, and salt, can increase the risk of developing many illnesses, including dementia and cardiovascular disease.\\n \\n\\n high alcohol consumption \\n Drinking excessively (more than 12 drinks per week), can increase your risk of developing dementia\\n \\n\\n low cognitive engagement \\n Cognitive engagement is thought to support the development of a\\n “cognitive reserve”. This is the idea that people who actively use their brains throughout their lives may be more protected against brain cell damage caused by dementia.\\n \\n\\n depression \\n People who experience depression in mid- or later life have a higher risk of developing dementia. However, the relationship between depression and dementia is still unclear.\\n \\n\\n Many researchers believe that depression is a risk factor for dementia, whereas others believe it may be an early symptom of the disease, or both.\\n \\n\\n traumatic brain injury \\n People who experience severe or repeated head injuries are at increased risk of developing dementia. Brain injuries may trigger a process that might eventually lead to dementia.\\n \\n\\n This particularly affects athletes in boxing, soccer, hockey, and football, which often have repeated head injuries.\\n \\n\\n Falls are the leading cause of traumatic brain injury. Falling is especially dangerous for older adults.\\n \\n\\n hearing loss\\n Mild levels of hearing loss increase the risk of cognitive decline and dementia. Though it is still unclear how exactly it affects cognitive decline, hearing loss can lead to social isolation, loss of independence, and problems with everyday activities.\\n \\n\\n social isolation\\n Social isolation can increase the risk of hypertension, coronary heart disease, depression, and dementia.\\n \\n\\n Staying socially active may reduce the risk of dementia. Social interaction may also help slow down the progression of the disease.\\n \\n\\n air pollution\\n The relationship between air pollution and dementia is still unclear. However, it’s estimated that those living close to busy roads have a higher risk of dementia because they may be exposed to higher levels of air pollution from vehicle emissions.\\n \\n\\n It’s never too soon, or too late, to make changes that will maintain or improve your brain health. Learn more about managing some of these risk factors.',\n",
       "  'full_prompt': \"{instruction}\\n ==========\\n In your answer, refer only to the context document. Do not employ any outside knowledge\\n \\n\\n {question}\\n ==========\\n I'm middle-aged, never smoked, had my ears blown out in the war, get a case of the sads pretty regular, and eat mostly garbage. What are my risk factors for dementia? What does cognitive engagement have to do with it?\\n \\n\\n {passage 0}\\n ==========\\n high blood pressure \\n People who have consistent high blood pressure (hypertension) in mid-life (ages 45 to 65) are more likely to develop dementia compared to those with normal blood pressure.\\n \\n\\n High blood pressure can increase the risk of developing dementia, particularly vascular dementia, because of its effect on the heart, the arteries, and blood circulation.\\n \\n\\n Smoking \\n The evidence is strong and consistent that smokers are at a higher risk of developing dementia vs. non-smokers or ex-smokers.\\n \\n\\n It’s never too late to quit! Smokers who quit can reduce their risk of developing dementia.\\n \\n\\n diabetes \\n People with type 2 diabetes in mid-life (ages 45 to 65) are at an increased risk of developing dementia, particularly Alzheimer’s disease and vascular dementia.\\n \\n\\n Obesity\\n Obesity in mid-life (ages 45 to 65) increases the risk of developing dementia. Obesity also increases the risk of developing other risk factors such as type 2 diabetes.\\n \\n\\n lack of physical activity \\n Physical inactivity in later life (ages 65 and up) increases the risk of developing dementia.\\n \\n\\n poor diet\\n An unhealthy diet, high in saturated fat, sugar, and salt, can increase the risk of developing many illnesses, including dementia and cardiovascular disease.\\n \\n\\n high alcohol consumption \\n Drinking excessively (more than 12 drinks per week), can increase your risk of developing dementia\\n \\n\\n low cognitive engagement \\n Cognitive engagement is thought to support the development of a\\n “cognitive reserve”. This is the idea that people who actively use their brains throughout their lives may be more protected against brain cell damage caused by dementia.\\n \\n\\n depression \\n People who experience depression in mid- or later life have a higher risk of developing dementia. However, the relationship between depression and dementia is still unclear.\\n \\n\\n Many researchers believe that depression is a risk factor for dementia, whereas others believe it may be an early symptom of the disease, or both.\\n \\n\\n traumatic brain injury \\n People who experience severe or repeated head injuries are at increased risk of developing dementia. Brain injuries may trigger a process that might eventually lead to dementia.\\n \\n\\n This particularly affects athletes in boxing, soccer, hockey, and football, which often have repeated head injuries.\\n \\n\\n Falls are the leading cause of traumatic brain injury. Falling is especially dangerous for older adults.\\n \\n\\n hearing loss\\n Mild levels of hearing loss increase the risk of cognitive decline and dementia. Though it is still unclear how exactly it affects cognitive decline, hearing loss can lead to social isolation, loss of independence, and problems with everyday activities.\\n \\n\\n social isolation\\n Social isolation can increase the risk of hypertension, coronary heart disease, depression, and dementia.\\n \\n\\n Staying socially active may reduce the risk of dementia. Social interaction may also help slow down the progression of the disease.\\n \\n\\n air pollution\\n The relationship between air pollution and dementia is still unclear. However, it’s estimated that those living close to busy roads have a higher risk of dementia because they may be exposed to higher levels of air pollution from vehicle emissions.\\n \\n\\n It’s never too soon, or too late, to make changes that will maintain or improve your brain health. Learn more about managing some of these risk factors.\\n https://alzheimer.ca/en/about-dementia/how-can-i-reduce-risk-dementia/risk-factors-dementia?gad_source=1&gclid=CjwKCAjw3P-2BhAEEiwA3yPhwN2aQl6V8InKOUxaehsfGBSWmuIpGEoeJdWNsl5fH_T9LOUlOk7-gxoCHcYQAvD_BwE\",\n",
       "  'domain': 'Medical',\n",
       "  'type': 'Effect Analysis',\n",
       "  'high_level_type': 'Q&A'},\n",
       " {'system_instruction': 'You formulate answers based solely on the material provided by the user without reference to external facts or knowledge.',\n",
       "  'user_request': 'Can you list all the knife brands that sell knives suitable for sharpening at a 14-degree angle? List them according to the minimum angle at which their knives can be sharpened, starting with the smallest.',\n",
       "  'context_document': 'Knife sharpening angles\\nManufacturer´s recommendations\\nThe recommended angle of your knife is often written on the knife’s packaging. If you\\ndon’t find it there you can often find it on the manufacturer’s website. Below you’ll find\\nthe angle recommendations from some “well-known” knife manufacturers.\\nPlease note that despite the fact that the vast majority of knives are dual-bevel, knife\\nmanufacturers list their edge angles based on the number of degrees of a single bevel.\\nFor example, dual bevel listed as 15 degrees is actually two 15-degree angles, or 30\\ndegrees total. Therefore, all angles in this document is listed as single bevel angles.\\nCangshan\\nCangshan knives are sharpened to an Asian-style 16-degree edge. Learn more at their website.\\nChroma\\nA Chroma knife should be sharpened to 10-20 degrees. Learn more at their website.\\nF. DICK (Friedr. DICK)\\nDick recommends 15-20 degrees for their DICK Hoof Knives. Learn more at their website.\\nFischer-Bargoin\\nFischer-Bargoin recommends an angle of 15-20 degrees. Learn more at their website.\\nGlobal\\nGlobal recommends an angle of 10-15 degrees. Learn more at their website.\\nKorin\\nKorin knives recommends a 10-20 degrees angle on their Western style knives. For their traditional\\nJapanese knife see please go to the website. Learn more at their website.\\nMAC\\nMAC knives have factory edges of 15 degrees. Their recommendation is 10-15 degrees. Learn more\\nat their website.\\nMessermeister\\nMessermeister Elité and Park Plaza knives have a 15-degree angle. Learn more at their website.\\nStarting in 2018, the Four Seasons knife collection now features a 15-degree angle. Learn more at\\ntheir website.\\nShun and Kai\\nShun recommends a 16-degree angle of Shun and Kai double-beveled knives. Learn more at their\\nwebsite.\\nVictorinox\\nVictorinox indicates the total cutting angle. Sharpening a Victorinox should be between 30 to 40\\ndegrees, which is 15-20 degrees on each side. Learn more at their website.\\nWüsthof\\nThe sharpening angle for standard blades is 14 degrees, and for Asian-style blades (Santokus, Nakiris, Chai Daos) it’s 10 degrees. Learn more at their website.\\nZwilling J. A. Henckels and Miyabi\\nThe angle between the blade and the steel should be approximately 15 degrees for ZWILLING\\nknives. Santoku knives and all MIYABI and Kramer made by ZWILLING knives need to be 9-12 degrees. Learn more at their website.\\nSet the existing knife angle using Tormek Marker Method\\nIf you want to repeat an existing angle but don’t know the angle of your knife, the easiest\\nway is to use the Tormek Marker Method with a black permanent marker. By following three\\nsimple steps you can quickly get the correct angle.\\n1. Color the bevel, mount the knife in the jig and place it onto the Universal Support.\\n2. Turn the grinding wheel by hand and check where the coloring is removed,\\n3. Raise or lower the Universal Support until the coloring is removed from the tip to the\\nheel. Now, the angle is just right and it’s time to start sharpening!',\n",
       "  'full_prompt': 'You formulate answers based solely on the material provided by the user without reference to external facts or knowledge.\\n\\nCan you list all the knife brands that sell knives suitable for sharpening at a 14-degree angle? List them according to the minimum angle at which their knives can be sharpened, starting with the smallest.\\n\\nKnife sharpening angles\\nManufacturer´s recommendations\\nThe recommended angle of your knife is often written on the knife’s packaging. If you\\ndon’t find it there you can often find it on the manufacturer’s website. Below you’ll find\\nthe angle recommendations from some “well-known” knife manufacturers.\\nPlease note that despite the fact that the vast majority of knives are dual-bevel, knife\\nmanufacturers list their edge angles based on the number of degrees of a single bevel.\\nFor example, dual bevel listed as 15 degrees is actually two 15-degree angles, or 30\\ndegrees total. Therefore, all angles in this document is listed as single bevel angles.\\nCangshan\\nCangshan knives are sharpened to an Asian-style 16-degree edge. Learn more at their website.\\nChroma\\nA Chroma knife should be sharpened to 10-20 degrees. Learn more at their website.\\nF. DICK (Friedr. DICK)\\nDick recommends 15-20 degrees for their DICK Hoof Knives. Learn more at their website.\\nFischer-Bargoin\\nFischer-Bargoin recommends an angle of 15-20 degrees. Learn more at their website.\\nGlobal\\nGlobal recommends an angle of 10-15 degrees. Learn more at their website.\\nKorin\\nKorin knives recommends a 10-20 degrees angle on their Western style knives. For their traditional\\nJapanese knife see please go to the website. Learn more at their website.\\nMAC\\nMAC knives have factory edges of 15 degrees. Their recommendation is 10-15 degrees. Learn more\\nat their website.\\nMessermeister\\nMessermeister Elité and Park Plaza knives have a 15-degree angle. Learn more at their website.\\nStarting in 2018, the Four Seasons knife collection now features a 15-degree angle. Learn more at\\ntheir website.\\nShun and Kai\\nShun recommends a 16-degree angle of Shun and Kai double-beveled knives. Learn more at their\\nwebsite.\\nVictorinox\\nVictorinox indicates the total cutting angle. Sharpening a Victorinox should be between 30 to 40\\ndegrees, which is 15-20 degrees on each side. Learn more at their website.\\nWüsthof\\nThe sharpening angle for standard blades is 14 degrees, and for Asian-style blades (Santokus, Nakiris, Chai Daos) it’s 10 degrees. Learn more at their website.\\nZwilling J. A. Henckels and Miyabi\\nThe angle between the blade and the steel should be approximately 15 degrees for ZWILLING\\nknives. Santoku knives and all MIYABI and Kramer made by ZWILLING knives need to be 9-12 degrees. Learn more at their website.\\nSet the existing knife angle using Tormek Marker Method\\nIf you want to repeat an existing angle but don’t know the angle of your knife, the easiest\\nway is to use the Tormek Marker Method with a black permanent marker. By following three\\nsimple steps you can quickly get the correct angle.\\n1. Color the bevel, mount the knife in the jig and place it onto the Universal Support.\\n2. Turn the grinding wheel by hand and check where the coloring is removed,\\n3. Raise or lower the Universal Support until the coloring is removed from the tip to the\\nheel. Now, the angle is just right and it’s time to start sharpening!',\n",
       "  'domain': 'Retail/Product',\n",
       "  'type': 'Fact Finding',\n",
       "  'high_level_type': 'Q&A'}]"
      ]
     },
     "execution_count": 4,
     "metadata": {},
     "output_type": "execute_result"
    }
   ],
   "source": [
    "records = df.to_dict(orient='records')\n",
    "records"
   ]
  },
  {
   "cell_type": "code",
   "execution_count": 9,
   "metadata": {},
   "outputs": [
    {
     "name": "stdout",
     "output_type": "stream",
     "text": [
      "0\n",
      "Effect Analysis\n",
      "------------------------------------------------------------\n",
      "1\n",
      "Fact Finding\n",
      "------------------------------------------------------------\n"
     ]
    }
   ],
   "source": [
    "for sample_id,record in enumerate(records):\n",
    "    print(sample_id)\n",
    "    print(record['type'])\n",
    "    print(\"--\"*30)"
   ]
  },
  {
   "cell_type": "code",
   "execution_count": null,
   "metadata": {},
   "outputs": [],
   "source": []
  }
 ],
 "metadata": {
  "kernelspec": {
   "display_name": "langvenv",
   "language": "python",
   "name": "python3"
  },
  "language_info": {
   "codemirror_mode": {
    "name": "ipython",
    "version": 3
   },
   "file_extension": ".py",
   "mimetype": "text/x-python",
   "name": "python",
   "nbconvert_exporter": "python",
   "pygments_lexer": "ipython3",
   "version": "3.12.1"
  }
 },
 "nbformat": 4,
 "nbformat_minor": 2
}
