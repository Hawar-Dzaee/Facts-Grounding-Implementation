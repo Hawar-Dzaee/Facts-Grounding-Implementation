{
 "cells": [
  {
   "cell_type": "code",
   "execution_count": 1,
   "metadata": {},
   "outputs": [],
   "source": [
    "import json \n",
    "import pandas as pd \n",
    "\n"
   ]
  },
  {
   "cell_type": "markdown",
   "metadata": {},
   "source": [
    "# Test model results "
   ]
  },
  {
   "cell_type": "code",
   "execution_count": 6,
   "metadata": {},
   "outputs": [],
   "source": [
    "test_model_results = []\n",
    "\n",
    "with open(\"test_responses.jsonl\",'r') as f : \n",
    "    for line in f: \n",
    "        if line.strip():\n",
    "            data = json.loads(line)\n",
    "            test_model_results.append(data)\n"
   ]
  },
  {
   "cell_type": "code",
   "execution_count": 7,
   "metadata": {},
   "outputs": [
    {
     "data": {
      "text/html": [
       "<div>\n",
       "<style scoped>\n",
       "    .dataframe tbody tr th:only-of-type {\n",
       "        vertical-align: middle;\n",
       "    }\n",
       "\n",
       "    .dataframe tbody tr th {\n",
       "        vertical-align: top;\n",
       "    }\n",
       "\n",
       "    .dataframe thead th {\n",
       "        text-align: right;\n",
       "    }\n",
       "</style>\n",
       "<table border=\"1\" class=\"dataframe\">\n",
       "  <thead>\n",
       "    <tr style=\"text-align: right;\">\n",
       "      <th></th>\n",
       "      <th>sample_id</th>\n",
       "      <th>test model</th>\n",
       "      <th>Encountered Problems</th>\n",
       "      <th>test model response</th>\n",
       "    </tr>\n",
       "  </thead>\n",
       "  <tbody>\n",
       "    <tr>\n",
       "      <th>0</th>\n",
       "      <td>0</td>\n",
       "      <td>openai:gpt-3.5-turbo</td>\n",
       "      <td>False</td>\n",
       "      <td>Based on the information provided in the conte...</td>\n",
       "    </tr>\n",
       "    <tr>\n",
       "      <th>1</th>\n",
       "      <td>0</td>\n",
       "      <td>openai:gpt-4o</td>\n",
       "      <td>False</td>\n",
       "      <td>Based on the context document, your risk facto...</td>\n",
       "    </tr>\n",
       "  </tbody>\n",
       "</table>\n",
       "</div>"
      ],
      "text/plain": [
       "   sample_id            test model  Encountered Problems  \\\n",
       "0          0  openai:gpt-3.5-turbo                 False   \n",
       "1          0         openai:gpt-4o                 False   \n",
       "\n",
       "                                 test model response  \n",
       "0  Based on the information provided in the conte...  \n",
       "1  Based on the context document, your risk facto...  "
      ]
     },
     "execution_count": 7,
     "metadata": {},
     "output_type": "execute_result"
    }
   ],
   "source": [
    "df_test_model = pd.DataFrame(test_model_results)\n",
    "df_test_model"
   ]
  },
  {
   "cell_type": "code",
   "execution_count": 8,
   "metadata": {},
   "outputs": [
    {
     "name": "stdout",
     "output_type": "stream",
     "text": [
      "Based on the information provided in the context document, your risk factors for dementia include high blood pressure, lack of physical activity, poor diet, and low cognitive engagement. Cognitive engagement is important because it supports the development of a \"cognitive reserve,\" which may protect against brain cell damage caused by dementia. Therefore, actively using your brain throughout your life may help reduce the risk of developing dementia.\n"
     ]
    }
   ],
   "source": [
    "print(df_test_model['test model response'].iloc[0])"
   ]
  },
  {
   "cell_type": "code",
   "execution_count": 9,
   "metadata": {},
   "outputs": [
    {
     "name": "stdout",
     "output_type": "stream",
     "text": [
      "Based on the context document, your risk factors for dementia include:\n",
      "\n",
      "1. **Hearing Loss**: Having your ears blown out in the war may have led to hearing loss, which increases the risk of cognitive decline and dementia.\n",
      "2. **Poor Diet**: Eating mostly garbage, which likely means an unhealthy diet high in saturated fat, sugar, and salt, can increase the risk of developing dementia.\n",
      "3. **Depression**: Experiencing \"a case of the sads pretty regular\" suggests depression, which is associated with a higher risk of developing dementia.\n",
      "4. **Social Isolation**: Although not explicitly mentioned, if your lifestyle leads to social isolation, it can increase the risk of dementia.\n",
      "\n",
      "Regarding cognitive engagement, the document states that it is thought to support the development of a \"cognitive reserve.\" This means that people who actively use their brains throughout their lives may be more protected against brain cell damage caused by dementia. Therefore, engaging in activities that stimulate your brain could potentially reduce your risk of developing dementia.\n"
     ]
    }
   ],
   "source": [
    "print(df_test_model['test model response'].iloc[1])"
   ]
  },
  {
   "cell_type": "markdown",
   "metadata": {},
   "source": [
    "# Judges"
   ]
  },
  {
   "cell_type": "code",
   "execution_count": 10,
   "metadata": {},
   "outputs": [],
   "source": [
    "judges_result = []\n",
    "\n",
    "with open(\"judge_responses.jsonl\",'r') as f : \n",
    "    for line in f:\n",
    "        if line.strip():\n",
    "            content = json.loads(line)\n",
    "            judges_result.append(content)"
   ]
  },
  {
   "cell_type": "code",
   "execution_count": 11,
   "metadata": {},
   "outputs": [
    {
     "data": {
      "text/html": [
       "<div>\n",
       "<style scoped>\n",
       "    .dataframe tbody tr th:only-of-type {\n",
       "        vertical-align: middle;\n",
       "    }\n",
       "\n",
       "    .dataframe tbody tr th {\n",
       "        vertical-align: top;\n",
       "    }\n",
       "\n",
       "    .dataframe thead th {\n",
       "        text-align: right;\n",
       "    }\n",
       "</style>\n",
       "<table border=\"1\" class=\"dataframe\">\n",
       "  <thead>\n",
       "    <tr style=\"text-align: right;\">\n",
       "      <th></th>\n",
       "      <th>judged_model</th>\n",
       "      <th>sample_id</th>\n",
       "      <th>judge model</th>\n",
       "      <th>Encountered Problems</th>\n",
       "      <th>judge model response</th>\n",
       "      <th>verdict</th>\n",
       "    </tr>\n",
       "  </thead>\n",
       "  <tbody>\n",
       "    <tr>\n",
       "      <th>0</th>\n",
       "      <td>openai:gpt-3.5-turbo</td>\n",
       "      <td>0</td>\n",
       "      <td>anthropic:claude-3-5-sonnet-20240620</td>\n",
       "      <td>False</td>\n",
       "      <td>Sentence 1: Based on the information provided ...</td>\n",
       "      <td>Accurate</td>\n",
       "    </tr>\n",
       "    <tr>\n",
       "      <th>1</th>\n",
       "      <td>openai:gpt-3.5-turbo</td>\n",
       "      <td>0</td>\n",
       "      <td>google_vertexai:gemini-1.5-pro</td>\n",
       "      <td>False</td>\n",
       "      <td>```json\\n{\"sentence\": \"Based on the informatio...</td>\n",
       "      <td>Accurate</td>\n",
       "    </tr>\n",
       "    <tr>\n",
       "      <th>2</th>\n",
       "      <td>openai:gpt-4o</td>\n",
       "      <td>0</td>\n",
       "      <td>anthropic:claude-3-5-sonnet-20240620</td>\n",
       "      <td>False</td>\n",
       "      <td>Sentence 1: Based on the context document, you...</td>\n",
       "      <td>Accurate</td>\n",
       "    </tr>\n",
       "    <tr>\n",
       "      <th>3</th>\n",
       "      <td>openai:gpt-4o</td>\n",
       "      <td>0</td>\n",
       "      <td>google_vertexai:gemini-1.5-pro</td>\n",
       "      <td>False</td>\n",
       "      <td>```json\\n{\"sentence\": \"Based on the context do...</td>\n",
       "      <td>Accurate</td>\n",
       "    </tr>\n",
       "  </tbody>\n",
       "</table>\n",
       "</div>"
      ],
      "text/plain": [
       "           judged_model  sample_id                           judge model  \\\n",
       "0  openai:gpt-3.5-turbo          0  anthropic:claude-3-5-sonnet-20240620   \n",
       "1  openai:gpt-3.5-turbo          0        google_vertexai:gemini-1.5-pro   \n",
       "2         openai:gpt-4o          0  anthropic:claude-3-5-sonnet-20240620   \n",
       "3         openai:gpt-4o          0        google_vertexai:gemini-1.5-pro   \n",
       "\n",
       "   Encountered Problems                               judge model response  \\\n",
       "0                 False  Sentence 1: Based on the information provided ...   \n",
       "1                 False  ```json\\n{\"sentence\": \"Based on the informatio...   \n",
       "2                 False  Sentence 1: Based on the context document, you...   \n",
       "3                 False  ```json\\n{\"sentence\": \"Based on the context do...   \n",
       "\n",
       "    verdict  \n",
       "0  Accurate  \n",
       "1  Accurate  \n",
       "2  Accurate  \n",
       "3  Accurate  "
      ]
     },
     "execution_count": 11,
     "metadata": {},
     "output_type": "execute_result"
    }
   ],
   "source": [
    "df_judges = pd.DataFrame(judges_result)\n",
    "df_judges"
   ]
  },
  {
   "cell_type": "code",
   "execution_count": 12,
   "metadata": {},
   "outputs": [
    {
     "name": "stdout",
     "output_type": "stream",
     "text": [
      "2\n",
      "4\n"
     ]
    }
   ],
   "source": [
    "print(len(df_test_model))\n",
    "print(len(df_judges))"
   ]
  },
  {
   "cell_type": "markdown",
   "metadata": {},
   "source": [
    "# Explore some samples "
   ]
  },
  {
   "cell_type": "code",
   "execution_count": 13,
   "metadata": {},
   "outputs": [
    {
     "name": "stdout",
     "output_type": "stream",
     "text": [
      "Sentence 1: Based on the information provided in the context document, your risk factors for dementia include high blood pressure, lack of physical activity, poor diet, and low cognitive engagement.\n",
      "Sentence 1 label: Accurate\n",
      "\n",
      "Sentence 2: Cognitive engagement is important because it supports the development of a \"cognitive reserve,\" which may protect against brain cell damage caused by dementia.\n",
      "Sentence 2 label: Accurate\n",
      "\n",
      "Sentence 3: Therefore, actively using your brain throughout your life may help reduce the risk of developing dementia.\n",
      "Sentence 3 label: Accurate\n",
      "\n",
      "Final Answer: Accurate\n"
     ]
    }
   ],
   "source": [
    "print(df_judges['judge model response'].iloc[0])"
   ]
  },
  {
   "cell_type": "code",
   "execution_count": 14,
   "metadata": {},
   "outputs": [
    {
     "name": "stdout",
     "output_type": "stream",
     "text": [
      "```json\n",
      "{\"sentence\": \"Based on the information provided in the context document, your risk factors for dementia include high blood pressure, lack of physical activity, poor diet, and low cognitive engagement.\", \"label\": \"supported\", \"rationale\": \"The context lists each of these as risk factors for dementia.\", \"excerpt\": \"People who have consistent high blood pressure (hypertension) in mid-life (ages 45 to 65) are more likely to develop dementia compared to those with normal blood pressure.\\n\\nPhysical inactivity in later life (ages 65 and up) increases the risk of developing dementia.\\n\\nAn unhealthy diet, high in saturated fat, sugar, and salt, can increase the risk of developing many illnesses, including dementia and cardiovascular disease.\\n\\nCognitive engagement is thought to support the development of a\\n“cognitive reserve”. This is the idea that people who actively use their brains throughout their lives may be more protected against brain cell damage caused by dementia.\"}\n",
      "{\"sentence\": \"Cognitive engagement is important because it supports the development of a \\\"cognitive reserve,\\\" which may protect against brain cell damage caused by dementia.\", \"label\": \"supported\", \"rationale\": \"The context states that cognitive engagement supports cognitive reserve, which may protect against brain cell damage.\", \"excerpt\": \"Cognitive engagement is thought to support the development of a\\n“cognitive reserve”. This is the idea that people who actively use their brains throughout their lives may be more protected against brain cell damage caused by dementia.\"}\n",
      "{\"sentence\": \"Therefore, actively using your brain throughout your life may help reduce the risk of developing dementia.\", \"label\": \"supported\", \"rationale\": \"The context suggests that cognitive engagement, or actively using your brain, may protect against dementia.\", \"excerpt\": \"Cognitive engagement is thought to support the development of a\\n“cognitive reserve”. This is the idea that people who actively use their brains throughout their lives may be more protected against brain cell damage caused by dementia.\"}\n",
      "```\n"
     ]
    }
   ],
   "source": [
    "print(df_judges['judge model response'].iloc[1])"
   ]
  },
  {
   "cell_type": "markdown",
   "metadata": {},
   "source": [
    "# Overall Accuracy "
   ]
  },
  {
   "cell_type": "code",
   "execution_count": 15,
   "metadata": {},
   "outputs": [],
   "source": [
    "TEST_MODEL = 'openai:gpt-3.5-turbo' # feel free to checkout accuracy for other models "
   ]
  },
  {
   "cell_type": "code",
   "execution_count": 18,
   "metadata": {},
   "outputs": [
    {
     "data": {
      "text/html": [
       "<div>\n",
       "<style scoped>\n",
       "    .dataframe tbody tr th:only-of-type {\n",
       "        vertical-align: middle;\n",
       "    }\n",
       "\n",
       "    .dataframe tbody tr th {\n",
       "        vertical-align: top;\n",
       "    }\n",
       "\n",
       "    .dataframe thead th {\n",
       "        text-align: right;\n",
       "    }\n",
       "</style>\n",
       "<table border=\"1\" class=\"dataframe\">\n",
       "  <thead>\n",
       "    <tr style=\"text-align: right;\">\n",
       "      <th>verdict</th>\n",
       "      <th>Accurate</th>\n",
       "    </tr>\n",
       "    <tr>\n",
       "      <th>judge model</th>\n",
       "      <th></th>\n",
       "    </tr>\n",
       "  </thead>\n",
       "  <tbody>\n",
       "    <tr>\n",
       "      <th>anthropic:claude-3-5-sonnet-20240620</th>\n",
       "      <td>1</td>\n",
       "    </tr>\n",
       "    <tr>\n",
       "      <th>google_vertexai:gemini-1.5-pro</th>\n",
       "      <td>1</td>\n",
       "    </tr>\n",
       "  </tbody>\n",
       "</table>\n",
       "</div>"
      ],
      "text/plain": [
       "verdict                               Accurate\n",
       "judge model                                   \n",
       "anthropic:claude-3-5-sonnet-20240620         1\n",
       "google_vertexai:gemini-1.5-pro               1"
      ]
     },
     "execution_count": 18,
     "metadata": {},
     "output_type": "execute_result"
    }
   ],
   "source": [
    "df_judges[df_judges['judged_model']==TEST_MODEL].groupby('judge model')['verdict'].value_counts().unstack(fill_value=0)"
   ]
  },
  {
   "cell_type": "code",
   "execution_count": 20,
   "metadata": {},
   "outputs": [
    {
     "data": {
      "text/html": [
       "<div>\n",
       "<style scoped>\n",
       "    .dataframe tbody tr th:only-of-type {\n",
       "        vertical-align: middle;\n",
       "    }\n",
       "\n",
       "    .dataframe tbody tr th {\n",
       "        vertical-align: top;\n",
       "    }\n",
       "\n",
       "    .dataframe thead th {\n",
       "        text-align: right;\n",
       "    }\n",
       "</style>\n",
       "<table border=\"1\" class=\"dataframe\">\n",
       "  <thead>\n",
       "    <tr style=\"text-align: right;\">\n",
       "      <th>verdict</th>\n",
       "      <th>Accurate</th>\n",
       "    </tr>\n",
       "    <tr>\n",
       "      <th>judge model</th>\n",
       "      <th></th>\n",
       "    </tr>\n",
       "  </thead>\n",
       "  <tbody>\n",
       "    <tr>\n",
       "      <th>anthropic:claude-3-5-sonnet-20240620</th>\n",
       "      <td>100.0</td>\n",
       "    </tr>\n",
       "    <tr>\n",
       "      <th>google_vertexai:gemini-1.5-pro</th>\n",
       "      <td>100.0</td>\n",
       "    </tr>\n",
       "  </tbody>\n",
       "</table>\n",
       "</div>"
      ],
      "text/plain": [
       "verdict                               Accurate\n",
       "judge model                                   \n",
       "anthropic:claude-3-5-sonnet-20240620     100.0\n",
       "google_vertexai:gemini-1.5-pro           100.0"
      ]
     },
     "execution_count": 20,
     "metadata": {},
     "output_type": "execute_result"
    }
   ],
   "source": [
    "df_filtered = df_judges[df_judges['judged_model'] == TEST_MODEL]\n",
    "counts = df_filtered.groupby('judge model')['verdict'].value_counts()\n",
    "percentages = counts / counts.groupby(level=0).sum() * 100\n",
    "result = percentages.unstack(fill_value=0)[[\"Accurate\"]]\n",
    "\n",
    "result"
   ]
  },
  {
   "cell_type": "code",
   "execution_count": null,
   "metadata": {},
   "outputs": [],
   "source": []
  }
 ],
 "metadata": {
  "kernelspec": {
   "display_name": "langvenv",
   "language": "python",
   "name": "python3"
  },
  "language_info": {
   "codemirror_mode": {
    "name": "ipython",
    "version": 3
   },
   "file_extension": ".py",
   "mimetype": "text/x-python",
   "name": "python",
   "nbconvert_exporter": "python",
   "pygments_lexer": "ipython3",
   "version": "3.12.1"
  }
 },
 "nbformat": 4,
 "nbformat_minor": 2
}
