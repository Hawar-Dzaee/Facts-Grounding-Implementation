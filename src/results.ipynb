{
 "cells": [
  {
   "cell_type": "code",
   "execution_count": 1,
   "metadata": {},
   "outputs": [],
   "source": [
    "import json \n",
    "import pandas as pd "
   ]
  },
  {
   "cell_type": "markdown",
   "metadata": {},
   "source": [
    "# Test model results "
   ]
  },
  {
   "cell_type": "code",
   "execution_count": 2,
   "metadata": {},
   "outputs": [],
   "source": [
    "test_model_results = []\n",
    "\n",
    "with open(\"test_responses.jsonl\",'r') as f : \n",
    "    for line in f: \n",
    "        if line.strip():\n",
    "            data = json.loads(line)\n",
    "            test_model_results.append(data)\n"
   ]
  },
  {
   "cell_type": "code",
   "execution_count": 3,
   "metadata": {},
   "outputs": [
    {
     "data": {
      "text/html": [
       "<div>\n",
       "<style scoped>\n",
       "    .dataframe tbody tr th:only-of-type {\n",
       "        vertical-align: middle;\n",
       "    }\n",
       "\n",
       "    .dataframe tbody tr th {\n",
       "        vertical-align: top;\n",
       "    }\n",
       "\n",
       "    .dataframe thead th {\n",
       "        text-align: right;\n",
       "    }\n",
       "</style>\n",
       "<table border=\"1\" class=\"dataframe\">\n",
       "  <thead>\n",
       "    <tr style=\"text-align: right;\">\n",
       "      <th></th>\n",
       "      <th>sample_id</th>\n",
       "      <th>test model</th>\n",
       "      <th>Encountered Problems</th>\n",
       "      <th>test model response</th>\n",
       "    </tr>\n",
       "  </thead>\n",
       "  <tbody>\n",
       "    <tr>\n",
       "      <th>0</th>\n",
       "      <td>0</td>\n",
       "      <td>openai:gpt-3.5-turbo</td>\n",
       "      <td>False</td>\n",
       "      <td>Based on the information provided in the conte...</td>\n",
       "    </tr>\n",
       "    <tr>\n",
       "      <th>1</th>\n",
       "      <td>0</td>\n",
       "      <td>ollama:llama3.2</td>\n",
       "      <td>False</td>\n",
       "      <td>Based on the context document, your risk facto...</td>\n",
       "    </tr>\n",
       "    <tr>\n",
       "      <th>2</th>\n",
       "      <td>1</td>\n",
       "      <td>openai:gpt-3.5-turbo</td>\n",
       "      <td>False</td>\n",
       "      <td>1. Wüsthof - 14 degrees\\n2. MAC - 15 degrees\\n...</td>\n",
       "    </tr>\n",
       "    <tr>\n",
       "      <th>3</th>\n",
       "      <td>1</td>\n",
       "      <td>ollama:llama3.2</td>\n",
       "      <td>False</td>\n",
       "      <td>Based on the provided information, here are th...</td>\n",
       "    </tr>\n",
       "  </tbody>\n",
       "</table>\n",
       "</div>"
      ],
      "text/plain": [
       "   sample_id            test model  Encountered Problems  \\\n",
       "0          0  openai:gpt-3.5-turbo                 False   \n",
       "1          0       ollama:llama3.2                 False   \n",
       "2          1  openai:gpt-3.5-turbo                 False   \n",
       "3          1       ollama:llama3.2                 False   \n",
       "\n",
       "                                 test model response  \n",
       "0  Based on the information provided in the conte...  \n",
       "1  Based on the context document, your risk facto...  \n",
       "2  1. Wüsthof - 14 degrees\\n2. MAC - 15 degrees\\n...  \n",
       "3  Based on the provided information, here are th...  "
      ]
     },
     "execution_count": 3,
     "metadata": {},
     "output_type": "execute_result"
    }
   ],
   "source": [
    "df_test_model = pd.DataFrame(test_model_results)\n",
    "df_test_model"
   ]
  },
  {
   "cell_type": "code",
   "execution_count": 4,
   "metadata": {},
   "outputs": [
    {
     "name": "stdout",
     "output_type": "stream",
     "text": [
      "Based on the information provided in the context document, your risk factors for dementia include high blood pressure, diabetes, obesity, lack of physical activity, poor diet, high alcohol consumption, low cognitive engagement, depression, traumatic brain injury, hearing loss, and social isolation. \n",
      "\n",
      "Cognitive engagement is important because it is thought to support the development of a \"cognitive reserve,\" which may protect against brain cell damage caused by dementia. Engaging in activities that challenge and stimulate the brain throughout life may help reduce the risk of developing dementia.\n"
     ]
    }
   ],
   "source": [
    "print(df_test_model['test model response'].iloc[0])"
   ]
  },
  {
   "cell_type": "code",
   "execution_count": 5,
   "metadata": {},
   "outputs": [
    {
     "name": "stdout",
     "output_type": "stream",
     "text": [
      "Based on the context document, your risk factors for dementia include:\n",
      "\n",
      "1. High blood pressure: Having consistent high blood pressure in mid-life (ages 45 to 65) increases your risk of developing dementia.\n",
      "2. Diabetes: Having type 2 diabetes in mid-life (ages 45 to 65) increases your risk of developing dementia.\n",
      "3. Obesity: Being obese in mid-life (ages 45 to 65) increases your risk of developing dementia.\n",
      "4. Lack of physical activity: Physical inactivity in later life (ages 65 and up) increases your risk of developing dementia.\n",
      "5. Poor diet: Eating an unhealthy diet, high in saturated fat, sugar, and salt, can increase your risk of developing dementia.\n",
      "\n",
      "Regarding cognitive engagement, it is thought to support the development of a \"cognitive reserve\". This means that actively using your brain throughout your life may help protect against brain cell damage caused by dementia.\n"
     ]
    }
   ],
   "source": [
    "print(df_test_model['test model response'].iloc[1])"
   ]
  },
  {
   "cell_type": "markdown",
   "metadata": {},
   "source": [
    "# Judges"
   ]
  },
  {
   "cell_type": "code",
   "execution_count": 6,
   "metadata": {},
   "outputs": [],
   "source": [
    "judges_result = []\n",
    "\n",
    "with open(\"judge_responses.jsonl\",'r') as f : \n",
    "    for line in f:\n",
    "        if line.strip():\n",
    "            content = json.loads(line)\n",
    "            judges_result.append(content)"
   ]
  },
  {
   "cell_type": "code",
   "execution_count": 7,
   "metadata": {},
   "outputs": [
    {
     "data": {
      "text/html": [
       "<div>\n",
       "<style scoped>\n",
       "    .dataframe tbody tr th:only-of-type {\n",
       "        vertical-align: middle;\n",
       "    }\n",
       "\n",
       "    .dataframe tbody tr th {\n",
       "        vertical-align: top;\n",
       "    }\n",
       "\n",
       "    .dataframe thead th {\n",
       "        text-align: right;\n",
       "    }\n",
       "</style>\n",
       "<table border=\"1\" class=\"dataframe\">\n",
       "  <thead>\n",
       "    <tr style=\"text-align: right;\">\n",
       "      <th></th>\n",
       "      <th>judged_model</th>\n",
       "      <th>sample_id</th>\n",
       "      <th>judge model</th>\n",
       "      <th>Encountered Problems</th>\n",
       "      <th>judge model response</th>\n",
       "      <th>verdict</th>\n",
       "    </tr>\n",
       "  </thead>\n",
       "  <tbody>\n",
       "    <tr>\n",
       "      <th>0</th>\n",
       "      <td>openai:gpt-3.5-turbo</td>\n",
       "      <td>0</td>\n",
       "      <td>anthropic:claude-3-7-sonnet-20250219</td>\n",
       "      <td>False</td>\n",
       "      <td>Sentence 1: Based on the information provided ...</td>\n",
       "      <td>Inaccurate</td>\n",
       "    </tr>\n",
       "    <tr>\n",
       "      <th>1</th>\n",
       "      <td>openai:gpt-3.5-turbo</td>\n",
       "      <td>0</td>\n",
       "      <td>ollama:llama3.2</td>\n",
       "      <td>False</td>\n",
       "      <td>{\"sentence\": \"I'm middle-aged, never smoked, h...</td>\n",
       "      <td>Inaccurate</td>\n",
       "    </tr>\n",
       "    <tr>\n",
       "      <th>2</th>\n",
       "      <td>ollama:llama3.2</td>\n",
       "      <td>0</td>\n",
       "      <td>anthropic:claude-3-7-sonnet-20250219</td>\n",
       "      <td>False</td>\n",
       "      <td>Sentence 1: Based on the context document, you...</td>\n",
       "      <td>Inaccurate</td>\n",
       "    </tr>\n",
       "    <tr>\n",
       "      <th>3</th>\n",
       "      <td>ollama:llama3.2</td>\n",
       "      <td>0</td>\n",
       "      <td>ollama:llama3.2</td>\n",
       "      <td>False</td>\n",
       "      <td>{\"sentence\": \"I'm middle-aged, never smoked, h...</td>\n",
       "      <td>Inaccurate</td>\n",
       "    </tr>\n",
       "    <tr>\n",
       "      <th>4</th>\n",
       "      <td>openai:gpt-3.5-turbo</td>\n",
       "      <td>1</td>\n",
       "      <td>anthropic:claude-3-7-sonnet-20250219</td>\n",
       "      <td>False</td>\n",
       "      <td>I'll analyze each line of the response to chec...</td>\n",
       "      <td>Inaccurate</td>\n",
       "    </tr>\n",
       "    <tr>\n",
       "      <th>5</th>\n",
       "      <td>openai:gpt-3.5-turbo</td>\n",
       "      <td>1</td>\n",
       "      <td>ollama:llama3.2</td>\n",
       "      <td>False</td>\n",
       "      <td>I can help you with that. Here is the analysis...</td>\n",
       "      <td>None</td>\n",
       "    </tr>\n",
       "    <tr>\n",
       "      <th>6</th>\n",
       "      <td>ollama:llama3.2</td>\n",
       "      <td>1</td>\n",
       "      <td>anthropic:claude-3-7-sonnet-20250219</td>\n",
       "      <td>False</td>\n",
       "      <td>Sentence 1: Based on the provided information,...</td>\n",
       "      <td>Inaccurate</td>\n",
       "    </tr>\n",
       "    <tr>\n",
       "      <th>7</th>\n",
       "      <td>ollama:llama3.2</td>\n",
       "      <td>1</td>\n",
       "      <td>ollama:llama3.2</td>\n",
       "      <td>False</td>\n",
       "      <td>{\"sentence\": \"Based on the provided informatio...</td>\n",
       "      <td>Inaccurate</td>\n",
       "    </tr>\n",
       "  </tbody>\n",
       "</table>\n",
       "</div>"
      ],
      "text/plain": [
       "           judged_model  sample_id                           judge model  \\\n",
       "0  openai:gpt-3.5-turbo          0  anthropic:claude-3-7-sonnet-20250219   \n",
       "1  openai:gpt-3.5-turbo          0                       ollama:llama3.2   \n",
       "2       ollama:llama3.2          0  anthropic:claude-3-7-sonnet-20250219   \n",
       "3       ollama:llama3.2          0                       ollama:llama3.2   \n",
       "4  openai:gpt-3.5-turbo          1  anthropic:claude-3-7-sonnet-20250219   \n",
       "5  openai:gpt-3.5-turbo          1                       ollama:llama3.2   \n",
       "6       ollama:llama3.2          1  anthropic:claude-3-7-sonnet-20250219   \n",
       "7       ollama:llama3.2          1                       ollama:llama3.2   \n",
       "\n",
       "   Encountered Problems                               judge model response  \\\n",
       "0                 False  Sentence 1: Based on the information provided ...   \n",
       "1                 False  {\"sentence\": \"I'm middle-aged, never smoked, h...   \n",
       "2                 False  Sentence 1: Based on the context document, you...   \n",
       "3                 False  {\"sentence\": \"I'm middle-aged, never smoked, h...   \n",
       "4                 False  I'll analyze each line of the response to chec...   \n",
       "5                 False  I can help you with that. Here is the analysis...   \n",
       "6                 False  Sentence 1: Based on the provided information,...   \n",
       "7                 False  {\"sentence\": \"Based on the provided informatio...   \n",
       "\n",
       "      verdict  \n",
       "0  Inaccurate  \n",
       "1  Inaccurate  \n",
       "2  Inaccurate  \n",
       "3  Inaccurate  \n",
       "4  Inaccurate  \n",
       "5        None  \n",
       "6  Inaccurate  \n",
       "7  Inaccurate  "
      ]
     },
     "execution_count": 7,
     "metadata": {},
     "output_type": "execute_result"
    }
   ],
   "source": [
    "df_judges = pd.DataFrame(judges_result)\n",
    "df_judges"
   ]
  },
  {
   "cell_type": "code",
   "execution_count": 9,
   "metadata": {},
   "outputs": [
    {
     "name": "stdout",
     "output_type": "stream",
     "text": [
      "13\n",
      "33\n"
     ]
    }
   ],
   "source": [
    "print(len(df_test_model))\n",
    "print(len(df_judges))"
   ]
  },
  {
   "cell_type": "markdown",
   "metadata": {},
   "source": [
    "# Explore some samples "
   ]
  },
  {
   "cell_type": "code",
   "execution_count": 9,
   "metadata": {},
   "outputs": [
    {
     "name": "stdout",
     "output_type": "stream",
     "text": [
      "Sentence 1: Some tips on saving money include:\n",
      "Sentence 1 label: Accurate\n",
      "\n",
      "Sentence 2: Utilize free or low-cost activities on campus, such as student concerts or Illinites at the Illini Union.\n",
      "Sentence 2 label: Accurate\n",
      "\n",
      "Sentence 3: Look for coupons or special deals when eating out and order water instead of expensive drinks.\n",
      "Sentence 3 label: Accurate\n",
      "\n",
      "Sentence 4: Attend shows at Krannert for cultural experiences at affordable prices.\n",
      "Sentence 4 label: Accurate\n",
      "\n",
      "Sentence 5: Rent movies with friends or go to second-run theaters for discounted tickets.\n",
      "Sentence 5 label: Accurate\n",
      "\n",
      "Sentence 6: Take advantage of student discounts at theaters by showing your student ID.\n",
      "Sentence 6 label: Accurate\n",
      "\n",
      "Sentence 7: Be a savvy consumer by researching product quality before making major purchases.\n",
      "Sentence 7 label: Accurate\n",
      "\n",
      "Sentence 8: Consider buying generic medications at the pharmacy.\n",
      "Sentence 8 label: Accurate\n",
      "\n",
      "Sentence 9: Shop for items by the per unit price to maximize savings.\n",
      "Sentence 9 label: Accurate\n",
      "\n",
      "Sentence 10: Make gifts instead of purchasing them to save money.\n",
      "Sentence 10 label: Accurate\n",
      "\n",
      "Sentence 11: Take advantage of sales and discounts by buying gifts throughout the year.\n",
      "Sentence 11 label: Accurate\n",
      "\n",
      "Sentence 12: Buy clothes at the end of the season when they are on sale.\n",
      "Sentence 12 label: Accurate\n",
      "\n",
      "Sentence 13: Sell clothes you no longer wear at consignment shops or online to make some money.\n",
      "Sentence 13 label: Accurate\n",
      "\n",
      "Sentence 14: Share dresses and tuxes with friends for special occasions.\n",
      "Sentence 14 label: Accurate\n",
      "\n",
      "Sentence 15: Ask for discounts when buying multiple items of the same product.\n",
      "Sentence 15 label: Accurate\n",
      "\n",
      "Sentence 16: Set goals for your spending and saving.\n",
      "Sentence 16 label: Accurate\n",
      "\n",
      "Sentence 17: Keep track of your spending to avoid overspending.\n",
      "Sentence 17 label: Accurate\n",
      "\n",
      "Sentence 18: Avoid using credit cards if they lead to unnecessary purchases.\n",
      "Sentence 18 label: Accurate\n",
      "\n",
      "Sentence 19: Set limits for yourself before making purchases to stay within your budget.\n",
      "Sentence 19 label: Accurate\n",
      "\n",
      "Sentence 20: Obey traffic laws to avoid costly speeding tickets.\n",
      "Sentence 20 label: Accurate\n",
      "\n",
      "Sentence 21: Keep your tires properly inflated for better gas mileage.\n",
      "Sentence 21 label: Accurate\n",
      "\n",
      "Sentence 22: Carpool with friends to save on transportation costs.\n",
      "Sentence 22 label: Accurate\n",
      "\n",
      "Sentence 23: Look for cars with good gas mileage to save on fuel expenses.\n",
      "Sentence 23 label: Accurate\n",
      "\n",
      "Sentence 24: Put part of your paycheck into a savings account regularly.\n",
      "Sentence 24 label: Accurate\n",
      "\n",
      "Sentence 25: Save spare change in a piggy bank or change jar to accumulate savings over time.\n",
      "Sentence 25 label: Accurate\n",
      "\n",
      "Sentence 26: Consider volunteering as a way to save money and give back to the community.\n",
      "Sentence 26 label: Accurate\n",
      "\n",
      "Sentence 27: Turn off water while brushing your teeth to save on water usage.\n",
      "Sentence 27 label: Accurate\n",
      "\n",
      "Sentence 28: Unplug electronics when not in use to reduce energy costs.\n",
      "Sentence 28 label: Accurate\n",
      "\n",
      "Sentence 29: Use items like shampoo and paper towels sparingly to minimize waste.\n",
      "Sentence 29 label: Accurate\n",
      "\n",
      "Sentence 30: Pay bills online to save on paper and postage costs.\n",
      "Sentence 30 label: Accurate\n",
      "\n",
      "Sentence 31: Ask your landlord to seal gaps between doors and windows to prevent heat leaks and save on heating costs.\n",
      "Sentence 31 label: Accurate\n",
      "\n",
      "Final Answer: Accurate\n"
     ]
    }
   ],
   "source": [
    "print(df_judges['judge model response'].iloc[0])"
   ]
  },
  {
   "cell_type": "code",
   "execution_count": 10,
   "metadata": {},
   "outputs": [
    {
     "name": "stdout",
     "output_type": "stream",
     "text": [
      "```json\n",
      "{\"sentence\": \"Some tips on saving money include:\", \"label\": \"no_rad\", \"rationale\": \"This sentence is an introductory statement and does not make a factual claim.\", \"excerpt\": null}\n",
      "{\"sentence\": \"- Utilize free or low-cost activities on campus, such as student concerts or Illinites at the Illini Union.\", \"label\": \"supported\", \"rationale\": \"The text mentions that Illinites happen every Friday night for free and that there are hundreds of free activities on campus, including student concerts.\", \"excerpt\": \"There are hundreds of free activities on campus. Join clubs, attend student concerts, or go to church-sponsored events for cheap fun. There is usually food involved, too! Illinites, student activities, happen at the Illini Union every Friday night for free.\"}\n",
      "{\"sentence\": \"- Look for coupons or special deals when eating out and order water instead of expensive drinks.\", \"label\": \"supported\", \"rationale\": \"The text recommends looking for coupons or special deals at restaurants and ordering water because drinks are overpriced.\", \"excerpt\": \"When eating out, look for coupons or special deals- many restaurants offer them! Also, order water. Drinks are highly overpriced.\"}\n",
      "{\"sentence\": \"- Attend shows at Krannert for cultural experiences at affordable prices.\", \"label\": \"supported\", \"rationale\": \"The text states that student tickets at Krannert are $10 or less and sometimes free.\", \"excerpt\": \"Experience some more cultures while in college and attend a show at Krannert. Student tickets are $10 or less. It’s FREE sometimes!\"}\n",
      "{\"sentence\": \"- Rent movies with friends or go to second-run theaters for discounted tickets.\", \"label\": \"supported\", \"rationale\": \"The text suggests renting movies with friends or going to second-run theaters for $1 or $2 a ticket.\", \"excerpt\": \"Rent movies with a group of friends or go to second-run theaters for $1 or $2 a ticket.\"}\n",
      "{\"sentence\": \"- Take advantage of student discounts at theaters by showing your student ID.\", \"label\": \"supported\", \"rationale\": \"The text advises bringing your student ID to movies for a discount.\", \"excerpt\": \"Bring your student ID when you go out for a movie. Most theaters will give discount for students.\"}\n",
      "{\"sentence\": \"- Be a savvy consumer by researching product quality before making major purchases.\", \"label\": \"supported\", \"rationale\": \"The text recommends researching product quality through Consumer Reports magazine before making major purchases.\", \"excerpt\": \"Be a savvy consumer. Before making a major purchase, do some researches on the product quality through Consumer Reports magazine.\"}\n",
      "{\"sentence\": \"- Consider buying generic medications at the pharmacy.\", \"label\": \"supported\", \"rationale\": \"The text suggests asking for generic medications at the pharmacy.\", \"excerpt\": \"Ask for generic medications at the pharmacy.\"}\n",
      "{\"sentence\": \"- Shop for items by the per unit price to maximize savings.\", \"label\": \"supported\", \"rationale\": \"The text advises shopping for items by the per unit price.\", \"excerpt\": \"Buying in bulk is usually a good option, but try to shop for items by the per unit price.\"}\n",
      "{\"sentence\": \"- Make gifts instead of purchasing them to save money.\", \"label\": \"supported\", \"rationale\": \"The text suggests making things for gifts because it's cheaper.\", \"excerpt\": \"Make things for gifts- it’s cheaper and the time you invest shows you care.\"}\n",
      "{\"sentence\": \"- Take advantage of sales and discounts by buying gifts throughout the year.\", \"label\": \"supported\", \"rationale\": \"The text recommends taking advantage of sales by buying holiday and birthday gifts throughout the year.\", \"excerpt\": \"Take advantage of sales by buying holiday and birthday gifts throughout the year.\"}\n",
      "{\"sentence\": \"- Buy clothes at the end of the season when they are on sale.\", \"label\": \"supported\", \"rationale\": \"The text suggests buying clothes at the end of the season when they're on sale.\", \"excerpt\": \"Buy clothes at the end of the season when they’re on sales.\"}\n",
      "{\"sentence\": \"- Sell clothes you no longer wear at consignment shops or online to make some money.\", \"label\": \"supported\", \"rationale\": \"The text recommends taking clothes you no longer wear to a consignment shop or selling them online.\", \"excerpt\": \"If you don’t wear certain clothes anymore, take them to a consignment shop or sell them online. You can get part of the profit and free up room in your closet.\"}\n",
      "{\"sentence\": \"- Share dresses and tuxes with friends for special occasions.\", \"label\": \"supported\", \"rationale\": \"The text suggests sharing dresses and tuxes with friends for special occasions.\", \"excerpt\": \"Share dresses and tuxes with friends for special occasions.\"}\n",
      "{\"sentence\": \"- Ask for discounts when buying multiple items of the same product.\", \"label\": \"supported\", \"rationale\": \"The text advises asking for a discount when buying more than one of something.\", \"excerpt\": \"If you buy more than one of something, like 2 or 3 shirts, always ask for a discount.\"}\n",
      "{\"sentence\": \"- Set goals for your spending and saving.\", \"label\": \"supported\", \"rationale\": \"The text lists setting goals for spending and saving as a tip.\", \"excerpt\": \"Set goals for your spending and saving.\"}\n",
      "{\"sentence\": \"- Keep track of your spending to avoid overspending.\", \"label\": \"supported\", \"rationale\": \"The text advises keeping track of spending to avoid overspending.\", \"excerpt\": \"Keep track of your spending to avoid overspent. There are apps for that!\"}\n",
      "{\"sentence\": \"- Avoid using credit cards if they lead to unnecessary purchases.\", \"label\": \"supported\", \"rationale\": \"The text advises against using credit cards if it will lead to more purchases.\", \"excerpt\": \"Don’t use a credit card if it will lead you to make more purchases!\"}\n",
      "{\"sentence\": \"- Set limits for yourself before making purchases to stay within your budget.\", \"label\": \"supported\", \"rationale\": \"The text suggests setting a limit before going out to spend.\", \"excerpt\": \"Before going out to spend, set a limit for yourself and stick to it!\"}\n",
      "{\"sentence\": \"- Obey traffic laws to avoid costly speeding tickets.\", \"label\": \"supported\", \"rationale\": \"The text states that speeding tickets will cost more than just the ticket.\", \"excerpt\": \"Obey traffic laws. Speeding tickets will cost more than just the ticket. It will raise your insurance premiums.\"}\n",
      "{\"sentence\": \"- Keep your tires properly inflated for better gas mileage.\", \"label\": \"supported\", \"rationale\": \"The text states that keeping tires properly inflated will result in better gas mileage.\", \"excerpt\": \"Keep your tires inflated properly- you’ll get better gas mileage.\"}\n",
      "{\"sentence\": \"- Carpool with friends to save on transportation costs.\", \"label\": \"supported\", \"rationale\": \"The text suggests carpooling with friends.\", \"excerpt\": \"Carpool with friend!\"}\n",
      "{\"sentence\": \"- Look for cars with good gas mileage to save on fuel expenses.\", \"label\": \"supported\", \"rationale\": \"The text suggests searching for dependable cars that offer good gas mileage.\", \"excerpt\": \"Search for dependable cards that offer good gas mileage.\"}\n",
      "{\"sentence\": \"- Put part of your paycheck into a savings account regularly.\", \"label\": \"supported\", \"rationale\": \"The text advises to always put part of your paycheck into a savings account.\", \"excerpt\": \"Always put part of our paycheck into a savings account.\"}\n",
      "{\"sentence\": \"- Save spare change in a piggy bank or change jar to accumulate savings over time.\", \"label\": \"supported\", \"rationale\": \"The text suggests getting a piggy bank or change jar for spare change.\", \"excerpt\": \"Spare change adds up! Get a piggy bank or change jar and don’t underestimate the value of your spare changes.\"}\n",
      "{\"sentence\": \"- Consider volunteering as a way to save money and give back to the community.\", \"label\": \"supported\", \"rationale\": \"The text states that volunteering prevents you from spending money.\", \"excerpt\": \"Volunteer! If you’re busy, you can’t spend month and it’s a resume booster, too! It’s always make you feel good to help and give back to the community.\"}\n",
      "{\"sentence\": \"- Turn off water while brushing your teeth to save on water usage.\", \"label\": \"supported\", \"rationale\": \"The text lists turning off the water while brushing your teeth as a tip.\", \"excerpt\": \"Turn off the water while brushing your teeth.\"}\n",
      "{\"sentence\": \"- Unplug electronics when not in use to reduce energy costs.\", \"label\": \"supported\", \"rationale\": \"The text advises unplugging electronics when you aren't using them to save energy.\", \"excerpt\": \"Unplug electronics when you aren’t using them. Even while turned off, they still use up costly energy.\"}\n",
      "{\"sentence\": \"- Use items like shampoo and paper towels sparingly to minimize waste.\", \"label\": \"supported\", \"rationale\": \"The text suggests using items like shampoo, toothpaste, and paper towels sparingly.\", \"excerpt\": \"Use items like shampoo, toothpaste, and paper towels sparingly- enough to do the job without waste.\"}\n",
      "{\"sentence\": \"- Pay bills online to save on paper and postage costs.\", \"label\": \"supported\", \"rationale\": \"The text lists paying bills online as a way to save paper and money on stamps.\", \"excerpt\": \"Pay your bills online. Save paper and money on stamps.\"}\n",
      "{\"sentence\": \"- Ask your landlord to seal gaps between doors and windows to prevent heat leaks and save on heating costs.\", \"label\": \"supported\", \"rationale\": \"The text suggests asking your landlord to seal gaps between doors and windows to prevent heat leaks.\", \"excerpt\": \"Ask your landlord to seal gaps between door and windows to prevent heat leaks over the winter.\"}\n",
      "```\n"
     ]
    }
   ],
   "source": [
    "print(df_judges['judge model response'].iloc[1])"
   ]
  },
  {
   "cell_type": "markdown",
   "metadata": {},
   "source": [
    "# Overall Accuracy "
   ]
  },
  {
   "cell_type": "code",
   "execution_count": 7,
   "metadata": {},
   "outputs": [],
   "source": [
    "# TEST_MODEL = 'openai:gpt-3.5-turbo' # feel free to checkout accuracy for other models \n",
    "TEST_MODEL = 'openai:gpt-4o' # feel free to checkout accuracy for other models \n",
    "TEST_MODEL = 'ollama:llama3.2'"
   ]
  },
  {
   "cell_type": "code",
   "execution_count": 8,
   "metadata": {},
   "outputs": [
    {
     "data": {
      "text/html": [
       "<div>\n",
       "<style scoped>\n",
       "    .dataframe tbody tr th:only-of-type {\n",
       "        vertical-align: middle;\n",
       "    }\n",
       "\n",
       "    .dataframe tbody tr th {\n",
       "        vertical-align: top;\n",
       "    }\n",
       "\n",
       "    .dataframe thead th {\n",
       "        text-align: right;\n",
       "    }\n",
       "</style>\n",
       "<table border=\"1\" class=\"dataframe\">\n",
       "  <thead>\n",
       "    <tr style=\"text-align: right;\">\n",
       "      <th>verdict</th>\n",
       "      <th>Accurate</th>\n",
       "      <th>Inaccurate</th>\n",
       "    </tr>\n",
       "    <tr>\n",
       "      <th>judge model</th>\n",
       "      <th></th>\n",
       "      <th></th>\n",
       "    </tr>\n",
       "  </thead>\n",
       "  <tbody>\n",
       "    <tr>\n",
       "      <th>anthropic:claude-3-5-sonnet-20240620</th>\n",
       "      <td>1</td>\n",
       "      <td>0</td>\n",
       "    </tr>\n",
       "    <tr>\n",
       "      <th>anthropic:claude-3-7-sonnet-20250219</th>\n",
       "      <td>0</td>\n",
       "      <td>1</td>\n",
       "    </tr>\n",
       "  </tbody>\n",
       "</table>\n",
       "</div>"
      ],
      "text/plain": [
       "verdict                               Accurate  Inaccurate\n",
       "judge model                                               \n",
       "anthropic:claude-3-5-sonnet-20240620         1           0\n",
       "anthropic:claude-3-7-sonnet-20250219         0           1"
      ]
     },
     "execution_count": 8,
     "metadata": {},
     "output_type": "execute_result"
    }
   ],
   "source": [
    "df_judges[df_judges['judged_model']==TEST_MODEL].groupby('judge model')['verdict'].value_counts().unstack(fill_value=0)"
   ]
  },
  {
   "cell_type": "code",
   "execution_count": 9,
   "metadata": {},
   "outputs": [
    {
     "data": {
      "text/html": [
       "<div>\n",
       "<style scoped>\n",
       "    .dataframe tbody tr th:only-of-type {\n",
       "        vertical-align: middle;\n",
       "    }\n",
       "\n",
       "    .dataframe tbody tr th {\n",
       "        vertical-align: top;\n",
       "    }\n",
       "\n",
       "    .dataframe thead th {\n",
       "        text-align: right;\n",
       "    }\n",
       "</style>\n",
       "<table border=\"1\" class=\"dataframe\">\n",
       "  <thead>\n",
       "    <tr style=\"text-align: right;\">\n",
       "      <th>verdict</th>\n",
       "      <th>Accurate</th>\n",
       "    </tr>\n",
       "    <tr>\n",
       "      <th>judge model</th>\n",
       "      <th></th>\n",
       "    </tr>\n",
       "  </thead>\n",
       "  <tbody>\n",
       "    <tr>\n",
       "      <th>anthropic:claude-3-5-sonnet-20240620</th>\n",
       "      <td>100.0</td>\n",
       "    </tr>\n",
       "    <tr>\n",
       "      <th>anthropic:claude-3-7-sonnet-20250219</th>\n",
       "      <td>0.0</td>\n",
       "    </tr>\n",
       "  </tbody>\n",
       "</table>\n",
       "</div>"
      ],
      "text/plain": [
       "verdict                               Accurate\n",
       "judge model                                   \n",
       "anthropic:claude-3-5-sonnet-20240620     100.0\n",
       "anthropic:claude-3-7-sonnet-20250219       0.0"
      ]
     },
     "execution_count": 9,
     "metadata": {},
     "output_type": "execute_result"
    }
   ],
   "source": [
    "df_filtered = df_judges[df_judges['judged_model'] == TEST_MODEL]\n",
    "counts = df_filtered.groupby('judge model')['verdict'].value_counts()\n",
    "percentages = counts / counts.groupby(level=0).sum() * 100\n",
    "result = percentages.unstack(fill_value=0)[[\"Accurate\"]]\n",
    "\n",
    "result"
   ]
  },
  {
   "cell_type": "code",
   "execution_count": null,
   "metadata": {},
   "outputs": [],
   "source": []
  }
 ],
 "metadata": {
  "kernelspec": {
   "display_name": "langvenv",
   "language": "python",
   "name": "python3"
  },
  "language_info": {
   "codemirror_mode": {
    "name": "ipython",
    "version": 3
   },
   "file_extension": ".py",
   "mimetype": "text/x-python",
   "name": "python",
   "nbconvert_exporter": "python",
   "pygments_lexer": "ipython3",
   "version": "3.12.1"
  }
 },
 "nbformat": 4,
 "nbformat_minor": 2
}
