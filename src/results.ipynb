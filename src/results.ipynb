{
 "cells": [
  {
   "cell_type": "code",
   "execution_count": 42,
   "metadata": {},
   "outputs": [],
   "source": [
    "import json \n",
    "import pandas as pd \n",
    "\n"
   ]
  },
  {
   "cell_type": "markdown",
   "metadata": {},
   "source": [
    "# Test model results "
   ]
  },
  {
   "cell_type": "code",
   "execution_count": 43,
   "metadata": {},
   "outputs": [],
   "source": [
    "test_model_results = []\n",
    "\n",
    "with open(\"test_responses.jsonl\",'r') as f : \n",
    "    for line in f: \n",
    "        if line.strip():\n",
    "            data = json.loads(line)\n",
    "            test_model_results.append(data)\n"
   ]
  },
  {
   "cell_type": "code",
   "execution_count": 44,
   "metadata": {},
   "outputs": [
    {
     "data": {
      "text/html": [
       "<div>\n",
       "<style scoped>\n",
       "    .dataframe tbody tr th:only-of-type {\n",
       "        vertical-align: middle;\n",
       "    }\n",
       "\n",
       "    .dataframe tbody tr th {\n",
       "        vertical-align: top;\n",
       "    }\n",
       "\n",
       "    .dataframe thead th {\n",
       "        text-align: right;\n",
       "    }\n",
       "</style>\n",
       "<table border=\"1\" class=\"dataframe\">\n",
       "  <thead>\n",
       "    <tr style=\"text-align: right;\">\n",
       "      <th></th>\n",
       "      <th>sample_id</th>\n",
       "      <th>test model provider</th>\n",
       "      <th>test model version</th>\n",
       "      <th>Encountered Problems</th>\n",
       "      <th>test model response</th>\n",
       "    </tr>\n",
       "  </thead>\n",
       "  <tbody>\n",
       "    <tr>\n",
       "      <th>0</th>\n",
       "      <td>0</td>\n",
       "      <td>openai</td>\n",
       "      <td>gpt-3.5-turbo</td>\n",
       "      <td>False</td>\n",
       "      <td>Based on the information provided in the conte...</td>\n",
       "    </tr>\n",
       "    <tr>\n",
       "      <th>1</th>\n",
       "      <td>0</td>\n",
       "      <td>openai</td>\n",
       "      <td>gpt-4o</td>\n",
       "      <td>False</td>\n",
       "      <td>Based on the context document, your risk facto...</td>\n",
       "    </tr>\n",
       "    <tr>\n",
       "      <th>2</th>\n",
       "      <td>1</td>\n",
       "      <td>openai</td>\n",
       "      <td>gpt-3.5-turbo</td>\n",
       "      <td>False</td>\n",
       "      <td>1. Wüsthof - 14 degrees\\n2. MAC - 15 degrees\\n...</td>\n",
       "    </tr>\n",
       "    <tr>\n",
       "      <th>3</th>\n",
       "      <td>1</td>\n",
       "      <td>openai</td>\n",
       "      <td>gpt-4o</td>\n",
       "      <td>False</td>\n",
       "      <td>Based on the provided information, here is a l...</td>\n",
       "    </tr>\n",
       "  </tbody>\n",
       "</table>\n",
       "</div>"
      ],
      "text/plain": [
       "   sample_id test model provider test model version  Encountered Problems  \\\n",
       "0          0              openai      gpt-3.5-turbo                 False   \n",
       "1          0              openai             gpt-4o                 False   \n",
       "2          1              openai      gpt-3.5-turbo                 False   \n",
       "3          1              openai             gpt-4o                 False   \n",
       "\n",
       "                                 test model response  \n",
       "0  Based on the information provided in the conte...  \n",
       "1  Based on the context document, your risk facto...  \n",
       "2  1. Wüsthof - 14 degrees\\n2. MAC - 15 degrees\\n...  \n",
       "3  Based on the provided information, here is a l...  "
      ]
     },
     "execution_count": 44,
     "metadata": {},
     "output_type": "execute_result"
    }
   ],
   "source": [
    "df_test_model = pd.DataFrame(test_model_results)\n",
    "df_test_model"
   ]
  },
  {
   "cell_type": "code",
   "execution_count": 45,
   "metadata": {},
   "outputs": [
    {
     "name": "stdout",
     "output_type": "stream",
     "text": [
      "Based on the information provided in the context document, your risk factors for dementia include high blood pressure, diabetes, obesity, lack of physical activity, poor diet, high alcohol consumption, low cognitive engagement, depression, traumatic brain injury, hearing loss, and social isolation. \n",
      "\n",
      "Cognitive engagement is important because it is thought to support the development of a \"cognitive reserve,\" which may protect against brain cell damage caused by dementia. Engaging in activities that challenge and stimulate the brain throughout life may help reduce the risk of developing dementia.\n"
     ]
    }
   ],
   "source": [
    "print(df_test_model['test model response'].iloc[0])"
   ]
  },
  {
   "cell_type": "code",
   "execution_count": 46,
   "metadata": {},
   "outputs": [
    {
     "name": "stdout",
     "output_type": "stream",
     "text": [
      "Based on the context document, your risk factors for dementia include:\n",
      "\n",
      "1. **Hearing Loss**: Having your ears blown out in the war may have led to hearing loss, which increases the risk of cognitive decline and dementia.\n",
      "\n",
      "2. **Poor Diet**: Eating mostly garbage, which likely means an unhealthy diet high in saturated fat, sugar, and salt, can increase the risk of developing dementia.\n",
      "\n",
      "3. **Depression**: Experiencing \"a case of the sads pretty regular\" suggests depression, which is associated with a higher risk of developing dementia.\n",
      "\n",
      "Regarding cognitive engagement, the document suggests that actively using your brain throughout life can support the development of a \"cognitive reserve.\" This cognitive reserve may offer some protection against brain cell damage caused by dementia. Therefore, engaging in activities that challenge your brain could potentially reduce your risk of developing dementia.\n"
     ]
    }
   ],
   "source": [
    "print(df_test_model['test model response'].iloc[1])"
   ]
  },
  {
   "cell_type": "markdown",
   "metadata": {},
   "source": [
    "# Judges"
   ]
  },
  {
   "cell_type": "code",
   "execution_count": 47,
   "metadata": {},
   "outputs": [],
   "source": [
    "judges_result = []\n",
    "\n",
    "with open(\"judge_responses.jsonl\",'r') as f : \n",
    "    for line in f:\n",
    "        if line.strip():\n",
    "            content = json.loads(line)\n",
    "            judges_result.append(content)"
   ]
  },
  {
   "cell_type": "code",
   "execution_count": 48,
   "metadata": {},
   "outputs": [
    {
     "data": {
      "text/html": [
       "<div>\n",
       "<style scoped>\n",
       "    .dataframe tbody tr th:only-of-type {\n",
       "        vertical-align: middle;\n",
       "    }\n",
       "\n",
       "    .dataframe tbody tr th {\n",
       "        vertical-align: top;\n",
       "    }\n",
       "\n",
       "    .dataframe thead th {\n",
       "        text-align: right;\n",
       "    }\n",
       "</style>\n",
       "<table border=\"1\" class=\"dataframe\">\n",
       "  <thead>\n",
       "    <tr style=\"text-align: right;\">\n",
       "      <th></th>\n",
       "      <th>judgeded_model</th>\n",
       "      <th>sample_id</th>\n",
       "      <th>judge model provider</th>\n",
       "      <th>judge model version</th>\n",
       "      <th>Encountered Problems</th>\n",
       "      <th>judge model response</th>\n",
       "      <th>verdict</th>\n",
       "    </tr>\n",
       "  </thead>\n",
       "  <tbody>\n",
       "    <tr>\n",
       "      <th>0</th>\n",
       "      <td>openai:gpt-3.5-turbo</td>\n",
       "      <td>0</td>\n",
       "      <td>anthropic</td>\n",
       "      <td>claude-3-5-sonnet-20240620</td>\n",
       "      <td>False</td>\n",
       "      <td>Sentence 1: Based on the information provided ...</td>\n",
       "      <td>Accurate</td>\n",
       "    </tr>\n",
       "    <tr>\n",
       "      <th>1</th>\n",
       "      <td>openai:gpt-3.5-turbo</td>\n",
       "      <td>0</td>\n",
       "      <td>google_vertexai</td>\n",
       "      <td>gemini-1.5-pro</td>\n",
       "      <td>False</td>\n",
       "      <td>```jsonl\\n{\"sentence\": \"Based on the informati...</td>\n",
       "      <td>None</td>\n",
       "    </tr>\n",
       "    <tr>\n",
       "      <th>2</th>\n",
       "      <td>openai:gpt-4o</td>\n",
       "      <td>0</td>\n",
       "      <td>anthropic</td>\n",
       "      <td>claude-3-5-sonnet-20240620</td>\n",
       "      <td>False</td>\n",
       "      <td>Sentence 1: Based on the context document, you...</td>\n",
       "      <td>Accurate</td>\n",
       "    </tr>\n",
       "    <tr>\n",
       "      <th>3</th>\n",
       "      <td>openai:gpt-4o</td>\n",
       "      <td>0</td>\n",
       "      <td>google_vertexai</td>\n",
       "      <td>gemini-1.5-pro</td>\n",
       "      <td>False</td>\n",
       "      <td>```json\\n{\"sentence\": \"Based on the context do...</td>\n",
       "      <td>Accurate</td>\n",
       "    </tr>\n",
       "    <tr>\n",
       "      <th>4</th>\n",
       "      <td>openai:gpt-3.5-turbo</td>\n",
       "      <td>1</td>\n",
       "      <td>anthropic</td>\n",
       "      <td>claude-3-5-sonnet-20240620</td>\n",
       "      <td>False</td>\n",
       "      <td>Sentence 1: Wüsthof - 14 degrees\\nSentence 1 l...</td>\n",
       "      <td>Inaccurate</td>\n",
       "    </tr>\n",
       "    <tr>\n",
       "      <th>5</th>\n",
       "      <td>openai:gpt-3.5-turbo</td>\n",
       "      <td>1</td>\n",
       "      <td>google_vertexai</td>\n",
       "      <td>gemini-1.5-pro</td>\n",
       "      <td>False</td>\n",
       "      <td>```json\\n{\"sentence\": \"1. Wüsthof - 14 degrees...</td>\n",
       "      <td>Accurate</td>\n",
       "    </tr>\n",
       "    <tr>\n",
       "      <th>6</th>\n",
       "      <td>openai:gpt-4o</td>\n",
       "      <td>1</td>\n",
       "      <td>anthropic</td>\n",
       "      <td>claude-3-5-sonnet-20240620</td>\n",
       "      <td>False</td>\n",
       "      <td>Sentence 1: Based on the provided information,...</td>\n",
       "      <td>Accurate</td>\n",
       "    </tr>\n",
       "    <tr>\n",
       "      <th>7</th>\n",
       "      <td>openai:gpt-4o</td>\n",
       "      <td>1</td>\n",
       "      <td>google_vertexai</td>\n",
       "      <td>gemini-1.5-pro</td>\n",
       "      <td>False</td>\n",
       "      <td>```json\\n{\"sentence\": \"Based on the provided i...</td>\n",
       "      <td>Accurate</td>\n",
       "    </tr>\n",
       "  </tbody>\n",
       "</table>\n",
       "</div>"
      ],
      "text/plain": [
       "         judgeded_model  sample_id judge model provider  \\\n",
       "0  openai:gpt-3.5-turbo          0            anthropic   \n",
       "1  openai:gpt-3.5-turbo          0      google_vertexai   \n",
       "2         openai:gpt-4o          0            anthropic   \n",
       "3         openai:gpt-4o          0      google_vertexai   \n",
       "4  openai:gpt-3.5-turbo          1            anthropic   \n",
       "5  openai:gpt-3.5-turbo          1      google_vertexai   \n",
       "6         openai:gpt-4o          1            anthropic   \n",
       "7         openai:gpt-4o          1      google_vertexai   \n",
       "\n",
       "          judge model version  Encountered Problems  \\\n",
       "0  claude-3-5-sonnet-20240620                 False   \n",
       "1              gemini-1.5-pro                 False   \n",
       "2  claude-3-5-sonnet-20240620                 False   \n",
       "3              gemini-1.5-pro                 False   \n",
       "4  claude-3-5-sonnet-20240620                 False   \n",
       "5              gemini-1.5-pro                 False   \n",
       "6  claude-3-5-sonnet-20240620                 False   \n",
       "7              gemini-1.5-pro                 False   \n",
       "\n",
       "                                judge model response     verdict  \n",
       "0  Sentence 1: Based on the information provided ...    Accurate  \n",
       "1  ```jsonl\\n{\"sentence\": \"Based on the informati...        None  \n",
       "2  Sentence 1: Based on the context document, you...    Accurate  \n",
       "3  ```json\\n{\"sentence\": \"Based on the context do...    Accurate  \n",
       "4  Sentence 1: Wüsthof - 14 degrees\\nSentence 1 l...  Inaccurate  \n",
       "5  ```json\\n{\"sentence\": \"1. Wüsthof - 14 degrees...    Accurate  \n",
       "6  Sentence 1: Based on the provided information,...    Accurate  \n",
       "7  ```json\\n{\"sentence\": \"Based on the provided i...    Accurate  "
      ]
     },
     "execution_count": 48,
     "metadata": {},
     "output_type": "execute_result"
    }
   ],
   "source": [
    "df_judges = pd.DataFrame(judges_result)\n",
    "df_judges"
   ]
  },
  {
   "cell_type": "code",
   "execution_count": 49,
   "metadata": {},
   "outputs": [
    {
     "name": "stdout",
     "output_type": "stream",
     "text": [
      "4\n",
      "8\n"
     ]
    }
   ],
   "source": [
    "print(len(df_test_model))\n",
    "print(len(df_judges))"
   ]
  },
  {
   "cell_type": "markdown",
   "metadata": {},
   "source": [
    "# Explore some samples "
   ]
  },
  {
   "cell_type": "code",
   "execution_count": 50,
   "metadata": {},
   "outputs": [
    {
     "name": "stdout",
     "output_type": "stream",
     "text": [
      "Sentence 1: Based on the information provided in the context document, your risk factors for dementia include high blood pressure, diabetes, obesity, lack of physical activity, poor diet, high alcohol consumption, low cognitive engagement, depression, traumatic brain injury, hearing loss, and social isolation.\n",
      "Sentence 1 label: Accurate\n",
      "\n",
      "Sentence 2: Cognitive engagement is important because it is thought to support the development of a \"cognitive reserve,\" which may protect against brain cell damage caused by dementia.\n",
      "Sentence 2 label: Accurate\n",
      "\n",
      "Sentence 3: Engaging in activities that challenge and stimulate the brain throughout life may help reduce the risk of developing dementia.\n",
      "Sentence 3 label: Accurate\n",
      "\n",
      "Final Answer: Accurate\n"
     ]
    }
   ],
   "source": [
    "print(df_judges['judge model response'].iloc[0])"
   ]
  },
  {
   "cell_type": "code",
   "execution_count": 51,
   "metadata": {},
   "outputs": [
    {
     "name": "stdout",
     "output_type": "stream",
     "text": [
      "```jsonl\n",
      "{\"sentence\": \"Based on the information provided in the context document, your risk factors for dementia include high blood pressure, diabetes, obesity, lack of physical activity, poor diet, high alcohol consumption, low cognitive engagement, depression, traumatic brain injury, hearing loss, and social isolation.\", \"label\": \"supported\", \"rationale\": \"All of the listed factors are mentioned as risk factors in the context.\", \"excerpt\": \"high blood pressure \\n People who have consistent high blood pressure (hypertension) in mid-life (ages 45 to 65) are more likely to develop dementia compared to those with normal blood pressure.\\n \\n High blood pressure can increase the risk of developing dementia, particularly vascular dementia, because of its effect on the heart, the arteries, and blood circulation. \\n \\n Smoking \\n The evidence is strong and consistent that smokers are at a higher risk of developing dementia vs. non-smokers or ex-smokers.\\n \\n It’s never too late to quit! Smokers who quit can reduce their risk of developing dementia.\\n \\n diabetes \\n People with type 2 diabetes in mid-life (ages 45 to 65) are at an increased risk of developing dementia, particularly Alzheimer’s disease and vascular dementia.\\n \\n Obesity\\n Obesity in mid-life (ages 45 to 65) increases the risk of developing dementia. Obesity also increases the risk of developing other risk factors such as type 2 diabetes.\\n \\n lack of physical activity \\n Physical inactivity in later life (ages 65 and up) increases the risk of developing dementia.\\n \\n poor diet\\n An unhealthy diet, high in saturated fat, sugar, and salt, can increase the risk of developing many illnesses, including dementia and cardiovascular disease.\\n \\n high alcohol consumption \\n Drinking excessively (more than 12 drinks per week), can increase your risk of developing dementia\\n \\n low cognitive engagement \\n Cognitive engagement is thought to support the development of a\\n “cognitive reserve”. This is the idea that people who actively use their brains throughout their lives may be more protected against brain cell damage caused by dementia.\\n \\n depression \\n People who experience depression in mid- or later life have a higher risk of developing dementia. However, the relationship between depression and dementia is still unclear.\\n \\n Many researchers believe that depression is a risk factor for dementia, whereas others believe it may be an early symptom of the disease, or both.\\n \\n traumatic brain injury \\n People who experience severe or repeated head injuries are at increased risk of developing dementia. Brain injuries may trigger a process that might eventually lead to dementia.\\n \\n This particularly affects athletes in boxing, soccer, hockey, and football, which often have repeated head injuries.\\n \\n Falls are the leading cause of traumatic brain injury. Falling is especially dangerous for older adults.\\n \\n hearing loss\\n Mild levels of hearing loss increase the risk of cognitive decline and dementia. Though it is still unclear how exactly it affects cognitive decline, hearing loss can lead to social isolation, loss of independence, and problems with everyday activities.\\n \\n social isolation\\n Social isolation can increase the risk of hypertension, coronary heart disease, depression, and dementia.\\n \\n Staying socially active may reduce the risk of dementia. Social interaction may also help slow down the progression of the disease.\"}\n",
      "{\"sentence\": \"Cognitive engagement is important because it is thought to support the development of a \\\"cognitive reserve,\\\" which may protect against brain cell damage caused by dementia.\", \"label\": \"supported\", \"rationale\": \"The context explicitly states this information.\", \"excerpt\": \"Cognitive engagement is thought to support the development of a\\n“cognitive reserve”. This is the idea that people who actively use their brains throughout their lives may be more protected against brain cell damage caused by dementia.\"}\n",
      "{\"sentence\": \"Engaging in activities that challenge and stimulate the brain throughout life may help reduce the risk of developing dementia.\", \"label\": \"supported\", \"rationale\": \"This sentence is supported by the context's explanation of cognitive reserve.\", \"excerpt\": \"This is the idea that people who actively use their brains throughout their lives may be more protected against brain cell damage caused by dementia.\"}\n",
      "```\n"
     ]
    }
   ],
   "source": [
    "print(df_judges['judge model response'].iloc[1])"
   ]
  },
  {
   "cell_type": "markdown",
   "metadata": {},
   "source": [
    "# Overall Accuracy "
   ]
  },
  {
   "cell_type": "code",
   "execution_count": 52,
   "metadata": {},
   "outputs": [],
   "source": [
    "TEST_MODEL = 'openai:gpt-3.5-turbo' # feel free to checkout accuracy for other models "
   ]
  },
  {
   "cell_type": "code",
   "execution_count": 53,
   "metadata": {},
   "outputs": [
    {
     "data": {
      "text/html": [
       "<div>\n",
       "<style scoped>\n",
       "    .dataframe tbody tr th:only-of-type {\n",
       "        vertical-align: middle;\n",
       "    }\n",
       "\n",
       "    .dataframe tbody tr th {\n",
       "        vertical-align: top;\n",
       "    }\n",
       "\n",
       "    .dataframe thead th {\n",
       "        text-align: right;\n",
       "    }\n",
       "</style>\n",
       "<table border=\"1\" class=\"dataframe\">\n",
       "  <thead>\n",
       "    <tr style=\"text-align: right;\">\n",
       "      <th>verdict</th>\n",
       "      <th>Accurate</th>\n",
       "      <th>Inaccurate</th>\n",
       "    </tr>\n",
       "    <tr>\n",
       "      <th>judge model version</th>\n",
       "      <th></th>\n",
       "      <th></th>\n",
       "    </tr>\n",
       "  </thead>\n",
       "  <tbody>\n",
       "    <tr>\n",
       "      <th>claude-3-5-sonnet-20240620</th>\n",
       "      <td>1</td>\n",
       "      <td>1</td>\n",
       "    </tr>\n",
       "    <tr>\n",
       "      <th>gemini-1.5-pro</th>\n",
       "      <td>1</td>\n",
       "      <td>0</td>\n",
       "    </tr>\n",
       "  </tbody>\n",
       "</table>\n",
       "</div>"
      ],
      "text/plain": [
       "verdict                     Accurate  Inaccurate\n",
       "judge model version                             \n",
       "claude-3-5-sonnet-20240620         1           1\n",
       "gemini-1.5-pro                     1           0"
      ]
     },
     "execution_count": 53,
     "metadata": {},
     "output_type": "execute_result"
    }
   ],
   "source": [
    "df_judges[df_judges['judgeded_model']==TEST_MODEL].groupby('judge model version')['verdict'].value_counts().unstack(fill_value=0)"
   ]
  },
  {
   "cell_type": "code",
   "execution_count": 54,
   "metadata": {},
   "outputs": [
    {
     "data": {
      "text/html": [
       "<div>\n",
       "<style scoped>\n",
       "    .dataframe tbody tr th:only-of-type {\n",
       "        vertical-align: middle;\n",
       "    }\n",
       "\n",
       "    .dataframe tbody tr th {\n",
       "        vertical-align: top;\n",
       "    }\n",
       "\n",
       "    .dataframe thead th {\n",
       "        text-align: right;\n",
       "    }\n",
       "</style>\n",
       "<table border=\"1\" class=\"dataframe\">\n",
       "  <thead>\n",
       "    <tr style=\"text-align: right;\">\n",
       "      <th>verdict</th>\n",
       "      <th>Accurate</th>\n",
       "    </tr>\n",
       "    <tr>\n",
       "      <th>judge model version</th>\n",
       "      <th></th>\n",
       "    </tr>\n",
       "  </thead>\n",
       "  <tbody>\n",
       "    <tr>\n",
       "      <th>claude-3-5-sonnet-20240620</th>\n",
       "      <td>50.0</td>\n",
       "    </tr>\n",
       "    <tr>\n",
       "      <th>gemini-1.5-pro</th>\n",
       "      <td>100.0</td>\n",
       "    </tr>\n",
       "  </tbody>\n",
       "</table>\n",
       "</div>"
      ],
      "text/plain": [
       "verdict                     Accurate\n",
       "judge model version                 \n",
       "claude-3-5-sonnet-20240620      50.0\n",
       "gemini-1.5-pro                 100.0"
      ]
     },
     "execution_count": 54,
     "metadata": {},
     "output_type": "execute_result"
    }
   ],
   "source": [
    "df_filtered = df_judges[df_judges['judgeded_model'] == TEST_MODEL]\n",
    "counts = df_filtered.groupby('judge model version')['verdict'].value_counts()\n",
    "percentages = counts / counts.groupby(level=0).sum() * 100\n",
    "result = percentages.unstack(fill_value=0)[[\"Accurate\"]]\n",
    "\n",
    "result"
   ]
  },
  {
   "cell_type": "code",
   "execution_count": null,
   "metadata": {},
   "outputs": [],
   "source": []
  }
 ],
 "metadata": {
  "kernelspec": {
   "display_name": "langvenv",
   "language": "python",
   "name": "python3"
  },
  "language_info": {
   "codemirror_mode": {
    "name": "ipython",
    "version": 3
   },
   "file_extension": ".py",
   "mimetype": "text/x-python",
   "name": "python",
   "nbconvert_exporter": "python",
   "pygments_lexer": "ipython3",
   "version": "3.12.1"
  }
 },
 "nbformat": 4,
 "nbformat_minor": 2
}
