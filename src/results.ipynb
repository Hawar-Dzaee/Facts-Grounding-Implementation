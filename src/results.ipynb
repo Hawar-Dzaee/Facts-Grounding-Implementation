{
 "cells": [
  {
   "cell_type": "code",
   "execution_count": 1,
   "metadata": {},
   "outputs": [],
   "source": [
    "import json \n",
    "import pandas as pd "
   ]
  },
  {
   "cell_type": "markdown",
   "metadata": {},
   "source": [
    "# Test model results "
   ]
  },
  {
   "cell_type": "code",
   "execution_count": 2,
   "metadata": {},
   "outputs": [],
   "source": [
    "test_model_results = []\n",
    "\n",
    "with open(\"test_responses.jsonl\",'r') as f : \n",
    "    for line in f: \n",
    "        if line.strip():\n",
    "            data = json.loads(line)\n",
    "            test_model_results.append(data)\n"
   ]
  },
  {
   "cell_type": "code",
   "execution_count": 3,
   "metadata": {},
   "outputs": [
    {
     "data": {
      "text/html": [
       "<div>\n",
       "<style scoped>\n",
       "    .dataframe tbody tr th:only-of-type {\n",
       "        vertical-align: middle;\n",
       "    }\n",
       "\n",
       "    .dataframe tbody tr th {\n",
       "        vertical-align: top;\n",
       "    }\n",
       "\n",
       "    .dataframe thead th {\n",
       "        text-align: right;\n",
       "    }\n",
       "</style>\n",
       "<table border=\"1\" class=\"dataframe\">\n",
       "  <thead>\n",
       "    <tr style=\"text-align: right;\">\n",
       "      <th></th>\n",
       "      <th>test model provider</th>\n",
       "      <th>test model version</th>\n",
       "      <th>Encountered Problems</th>\n",
       "      <th>test model input token count</th>\n",
       "      <th>test model output token count</th>\n",
       "      <th>test model response</th>\n",
       "      <th>sample_id</th>\n",
       "    </tr>\n",
       "  </thead>\n",
       "  <tbody>\n",
       "    <tr>\n",
       "      <th>0</th>\n",
       "      <td>openai</td>\n",
       "      <td>gpt-3.5-turbo</td>\n",
       "      <td>False</td>\n",
       "      <td>823</td>\n",
       "      <td>86</td>\n",
       "      <td>Based on the information provided in the conte...</td>\n",
       "      <td>0</td>\n",
       "    </tr>\n",
       "    <tr>\n",
       "      <th>1</th>\n",
       "      <td>openai</td>\n",
       "      <td>gpt-4o</td>\n",
       "      <td>False</td>\n",
       "      <td>823</td>\n",
       "      <td>160</td>\n",
       "      <td>Based on the context document, your risk facto...</td>\n",
       "      <td>0</td>\n",
       "    </tr>\n",
       "    <tr>\n",
       "      <th>2</th>\n",
       "      <td>openai</td>\n",
       "      <td>gpt-3.5-turbo</td>\n",
       "      <td>False</td>\n",
       "      <td>769</td>\n",
       "      <td>160</td>\n",
       "      <td>1. Wüsthof - 14 degrees\\n2. MAC - 15 degrees\\n...</td>\n",
       "      <td>1</td>\n",
       "    </tr>\n",
       "    <tr>\n",
       "      <th>3</th>\n",
       "      <td>openai</td>\n",
       "      <td>gpt-4o</td>\n",
       "      <td>False</td>\n",
       "      <td>769</td>\n",
       "      <td>280</td>\n",
       "      <td>Based on the provided information, here is a l...</td>\n",
       "      <td>1</td>\n",
       "    </tr>\n",
       "  </tbody>\n",
       "</table>\n",
       "</div>"
      ],
      "text/plain": [
       "  test model provider test model version  Encountered Problems  \\\n",
       "0              openai      gpt-3.5-turbo                 False   \n",
       "1              openai             gpt-4o                 False   \n",
       "2              openai      gpt-3.5-turbo                 False   \n",
       "3              openai             gpt-4o                 False   \n",
       "\n",
       "   test model input token count  test model output token count  \\\n",
       "0                           823                             86   \n",
       "1                           823                            160   \n",
       "2                           769                            160   \n",
       "3                           769                            280   \n",
       "\n",
       "                                 test model response  sample_id  \n",
       "0  Based on the information provided in the conte...          0  \n",
       "1  Based on the context document, your risk facto...          0  \n",
       "2  1. Wüsthof - 14 degrees\\n2. MAC - 15 degrees\\n...          1  \n",
       "3  Based on the provided information, here is a l...          1  "
      ]
     },
     "execution_count": 3,
     "metadata": {},
     "output_type": "execute_result"
    }
   ],
   "source": [
    "df_test_model = pd.DataFrame(test_model_results)\n",
    "df_test_model"
   ]
  },
  {
   "cell_type": "code",
   "execution_count": 4,
   "metadata": {},
   "outputs": [
    {
     "name": "stdout",
     "output_type": "stream",
     "text": [
      "Based on the information provided in the context document, your risk factors for dementia include high blood pressure, lack of physical activity, poor diet, and low cognitive engagement. Cognitive engagement is important because it is thought to support the development of a \"cognitive reserve,\" which may protect against brain cell damage caused by dementia. Therefore, engaging in activities that challenge and stimulate your brain throughout your life may help reduce the risk of developing dementia.\n"
     ]
    }
   ],
   "source": [
    "print(df_test_model['test model response'].iloc[0])"
   ]
  },
  {
   "cell_type": "code",
   "execution_count": 5,
   "metadata": {},
   "outputs": [
    {
     "name": "stdout",
     "output_type": "stream",
     "text": [
      "Based on the provided information, here is a list of knife brands that sell knives suitable for sharpening at a 14-degree angle, organized by the minimum angle at which their knives can be sharpened:\n",
      "\n",
      "1. **Zwilling J. A. Henckels and Miyabi**: 9-12 degrees for Santoku knives and all MIYABI and Kramer made by ZWILLING knives.\n",
      "2. **Wüsthof**: 10 degrees for Asian-style blades (Santokus, Nakiris, Chai Daos).\n",
      "3. **Chroma**: 10-20 degrees.\n",
      "4. **Global**: 10-15 degrees.\n",
      "5. **Korin**: 10-20 degrees for Western style knives.\n",
      "6. **MAC**: 10-15 degrees.\n",
      "7. **F. DICK (Friedr. DICK)**: 15-20 degrees.\n",
      "8. **Fischer-Bargoin**: 15-20 degrees.\n",
      "9. **Victorinox**: 15-20 degrees.\n",
      "10. **Messermeister**: 15 degrees.\n",
      "11. **Cangshan**: 16 degrees.\n",
      "12. **Shun and Kai**: 16 degrees.\n",
      "\n",
      "These brands offer knives that can be sharpened at or below a 14-degree angle, with some offering even finer angles for specific knife types.\n"
     ]
    }
   ],
   "source": [
    "print(df_test_model['test model response'].iloc[3])"
   ]
  },
  {
   "cell_type": "markdown",
   "metadata": {},
   "source": [
    "# Judge "
   ]
  },
  {
   "cell_type": "code",
   "execution_count": 6,
   "metadata": {},
   "outputs": [],
   "source": [
    "judges_result = []\n",
    "\n",
    "with open(\"judge_responses.jsonl\",'r') as f : \n",
    "    for line in f:\n",
    "        if line.strip():\n",
    "            content = json.loads(line)\n",
    "            judges_result.append(content)"
   ]
  },
  {
   "cell_type": "code",
   "execution_count": 7,
   "metadata": {},
   "outputs": [
    {
     "data": {
      "text/html": [
       "<div>\n",
       "<style scoped>\n",
       "    .dataframe tbody tr th:only-of-type {\n",
       "        vertical-align: middle;\n",
       "    }\n",
       "\n",
       "    .dataframe tbody tr th {\n",
       "        vertical-align: top;\n",
       "    }\n",
       "\n",
       "    .dataframe thead th {\n",
       "        text-align: right;\n",
       "    }\n",
       "</style>\n",
       "<table border=\"1\" class=\"dataframe\">\n",
       "  <thead>\n",
       "    <tr style=\"text-align: right;\">\n",
       "      <th></th>\n",
       "      <th>judge model provider</th>\n",
       "      <th>judge model version</th>\n",
       "      <th>Encountered Problems</th>\n",
       "      <th>judge model input token count</th>\n",
       "      <th>judge model output token count</th>\n",
       "      <th>judge model response</th>\n",
       "      <th>judgeded_model</th>\n",
       "      <th>sample_id</th>\n",
       "      <th>verdict</th>\n",
       "    </tr>\n",
       "  </thead>\n",
       "  <tbody>\n",
       "    <tr>\n",
       "      <th>0</th>\n",
       "      <td>anthropic</td>\n",
       "      <td>claude-3-5-sonnet-20240620</td>\n",
       "      <td>False</td>\n",
       "      <td>1040</td>\n",
       "      <td>127</td>\n",
       "      <td>Sentence 1: Based on the information provided ...</td>\n",
       "      <td>openai:gpt-3.5-turbo</td>\n",
       "      <td>0</td>\n",
       "      <td>Accurate</td>\n",
       "    </tr>\n",
       "    <tr>\n",
       "      <th>1</th>\n",
       "      <td>google</td>\n",
       "      <td>gemini-1.5-pro</td>\n",
       "      <td>False</td>\n",
       "      <td>1546</td>\n",
       "      <td>440</td>\n",
       "      <td>```json\\n{\"sentence\": \"Based on the informatio...</td>\n",
       "      <td>openai:gpt-3.5-turbo</td>\n",
       "      <td>0</td>\n",
       "      <td>Accurate</td>\n",
       "    </tr>\n",
       "    <tr>\n",
       "      <th>2</th>\n",
       "      <td>anthropic</td>\n",
       "      <td>claude-3-5-sonnet-20240620</td>\n",
       "      <td>False</td>\n",
       "      <td>1122</td>\n",
       "      <td>232</td>\n",
       "      <td>Sentence 1: Based on the context document, you...</td>\n",
       "      <td>openai:gpt-4o</td>\n",
       "      <td>0</td>\n",
       "      <td>Accurate</td>\n",
       "    </tr>\n",
       "    <tr>\n",
       "      <th>3</th>\n",
       "      <td>google</td>\n",
       "      <td>gemini-1.5-pro</td>\n",
       "      <td>False</td>\n",
       "      <td>1618</td>\n",
       "      <td>604</td>\n",
       "      <td>```json\\n{\"sentence\": \"Based on the context do...</td>\n",
       "      <td>openai:gpt-4o</td>\n",
       "      <td>0</td>\n",
       "      <td>Accurate</td>\n",
       "    </tr>\n",
       "    <tr>\n",
       "      <th>4</th>\n",
       "      <td>anthropic</td>\n",
       "      <td>claude-3-5-sonnet-20240620</td>\n",
       "      <td>False</td>\n",
       "      <td>1181</td>\n",
       "      <td>272</td>\n",
       "      <td>Sentence 1: Wüsthof - 14 degrees\\nSentence 1 l...</td>\n",
       "      <td>openai:gpt-3.5-turbo</td>\n",
       "      <td>1</td>\n",
       "      <td>Inaccurate</td>\n",
       "    </tr>\n",
       "    <tr>\n",
       "      <th>5</th>\n",
       "      <td>google</td>\n",
       "      <td>gemini-1.5-pro</td>\n",
       "      <td>False</td>\n",
       "      <td>1688</td>\n",
       "      <td>968</td>\n",
       "      <td>```json\\n{\"sentence\": \"1. Wüsthof - 14 degrees...</td>\n",
       "      <td>openai:gpt-3.5-turbo</td>\n",
       "      <td>1</td>\n",
       "      <td>Accurate</td>\n",
       "    </tr>\n",
       "    <tr>\n",
       "      <th>6</th>\n",
       "      <td>anthropic</td>\n",
       "      <td>claude-3-5-sonnet-20240620</td>\n",
       "      <td>False</td>\n",
       "      <td>1307</td>\n",
       "      <td>426</td>\n",
       "      <td>Sentence 1: Based on the provided information,...</td>\n",
       "      <td>openai:gpt-4o</td>\n",
       "      <td>1</td>\n",
       "      <td>Accurate</td>\n",
       "    </tr>\n",
       "    <tr>\n",
       "      <th>7</th>\n",
       "      <td>google</td>\n",
       "      <td>gemini-1.5-pro</td>\n",
       "      <td>False</td>\n",
       "      <td>1808</td>\n",
       "      <td>1149</td>\n",
       "      <td>```json\\n{\"sentence\": \"Based on the provided i...</td>\n",
       "      <td>openai:gpt-4o</td>\n",
       "      <td>1</td>\n",
       "      <td>Accurate</td>\n",
       "    </tr>\n",
       "  </tbody>\n",
       "</table>\n",
       "</div>"
      ],
      "text/plain": [
       "  judge model provider         judge model version  Encountered Problems  \\\n",
       "0            anthropic  claude-3-5-sonnet-20240620                 False   \n",
       "1               google              gemini-1.5-pro                 False   \n",
       "2            anthropic  claude-3-5-sonnet-20240620                 False   \n",
       "3               google              gemini-1.5-pro                 False   \n",
       "4            anthropic  claude-3-5-sonnet-20240620                 False   \n",
       "5               google              gemini-1.5-pro                 False   \n",
       "6            anthropic  claude-3-5-sonnet-20240620                 False   \n",
       "7               google              gemini-1.5-pro                 False   \n",
       "\n",
       "   judge model input token count  judge model output token count  \\\n",
       "0                           1040                             127   \n",
       "1                           1546                             440   \n",
       "2                           1122                             232   \n",
       "3                           1618                             604   \n",
       "4                           1181                             272   \n",
       "5                           1688                             968   \n",
       "6                           1307                             426   \n",
       "7                           1808                            1149   \n",
       "\n",
       "                                judge model response        judgeded_model  \\\n",
       "0  Sentence 1: Based on the information provided ...  openai:gpt-3.5-turbo   \n",
       "1  ```json\\n{\"sentence\": \"Based on the informatio...  openai:gpt-3.5-turbo   \n",
       "2  Sentence 1: Based on the context document, you...         openai:gpt-4o   \n",
       "3  ```json\\n{\"sentence\": \"Based on the context do...         openai:gpt-4o   \n",
       "4  Sentence 1: Wüsthof - 14 degrees\\nSentence 1 l...  openai:gpt-3.5-turbo   \n",
       "5  ```json\\n{\"sentence\": \"1. Wüsthof - 14 degrees...  openai:gpt-3.5-turbo   \n",
       "6  Sentence 1: Based on the provided information,...         openai:gpt-4o   \n",
       "7  ```json\\n{\"sentence\": \"Based on the provided i...         openai:gpt-4o   \n",
       "\n",
       "   sample_id     verdict  \n",
       "0          0    Accurate  \n",
       "1          0    Accurate  \n",
       "2          0    Accurate  \n",
       "3          0    Accurate  \n",
       "4          1  Inaccurate  \n",
       "5          1    Accurate  \n",
       "6          1    Accurate  \n",
       "7          1    Accurate  "
      ]
     },
     "execution_count": 7,
     "metadata": {},
     "output_type": "execute_result"
    }
   ],
   "source": [
    "df_judges = pd.DataFrame(judges_result)\n",
    "df_judges"
   ]
  },
  {
   "cell_type": "code",
   "execution_count": 8,
   "metadata": {},
   "outputs": [
    {
     "name": "stdout",
     "output_type": "stream",
     "text": [
      "4\n",
      "8\n"
     ]
    }
   ],
   "source": [
    "print(len(df_test_model))\n",
    "print(len(df_judges))"
   ]
  },
  {
   "cell_type": "code",
   "execution_count": 9,
   "metadata": {},
   "outputs": [
    {
     "name": "stdout",
     "output_type": "stream",
     "text": [
      "Sentence 1: Wüsthof - 14 degrees\n",
      "Sentence 1 label: Accurate\n",
      "\n",
      "Sentence 2: MAC - 15 degrees\n",
      "Sentence 2 label: Inaccurate\n",
      "\n",
      "Sentence 3: Messermeister - 15 degrees\n",
      "Sentence 3 label: Accurate\n",
      "\n",
      "Sentence 4: Cangshan - 16 degrees\n",
      "Sentence 4 label: Accurate\n",
      "\n",
      "Sentence 5: Shun and Kai - 16 degrees\n",
      "Sentence 5 label: Accurate\n",
      "\n",
      "Sentence 6: Chroma - 10-20 degrees\n",
      "Sentence 6 label: Accurate\n",
      "\n",
      "Sentence 7: F. DICK (Friedr. DICK) - 15-20 degrees\n",
      "Sentence 7 label: Accurate\n",
      "\n",
      "Sentence 8: Fischer-Bargoin - 15-20 degrees\n",
      "Sentence 8 label: Accurate\n",
      "\n",
      "Sentence 9: Global - 10-15 degrees\n",
      "Sentence 9 label: Accurate\n",
      "\n",
      "Sentence 10: Korin - 10-20 degrees\n",
      "Sentence 10 label: Accurate\n",
      "\n",
      "Sentence 11: Victorinox - 30-40 degrees (15-20 degrees on each side)\n",
      "Sentence 11 label: Accurate\n",
      "\n",
      "Sentence 12: Zwilling J. A. Henckels and Miyabi - 15 degrees (9-12 degrees for certain knives)\n",
      "Sentence 12 label: Accurate\n",
      "\n",
      "Final Answer: Inaccurate\n"
     ]
    }
   ],
   "source": [
    "print(df_judges['judge model response'].iloc[4])"
   ]
  },
  {
   "cell_type": "code",
   "execution_count": 9,
   "metadata": {},
   "outputs": [
    {
     "name": "stdout",
     "output_type": "stream",
     "text": [
      "```json\n",
      "{\"sentence\": \"1. Wüsthof - 14 degrees\", \"label\": \"supported\", \"rationale\": \"The text states that the sharpening angle for standard Wüsthof blades is 14 degrees.\", \"excerpt\": \"The sharpening angle for standard blades is 14 degrees, and for Asian-style blades (Santokus, Nakiris, Chai Daos) it’s 10 degrees.\"}\n",
      "{\"sentence\": \"2. MAC - 15 degrees\", \"label\": \"supported\", \"rationale\": \"The text states that MAC knives have factory edges of 15 degrees.\", \"excerpt\": \"MAC knives have factory edges of 15 degrees.\"}\n",
      "{\"sentence\": \"3. Messermeister - 15 degrees\", \"label\": \"supported\", \"rationale\": \"The text states that Messermeister Elité and Park Plaza knives have a 15-degree angle.\", \"excerpt\": \"Messermeister Elité and Park Plaza knives have a 15-degree angle.\"}\n",
      "{\"sentence\": \"4. Cangshan - 16 degrees\", \"label\": \"supported\", \"rationale\": \"The text states that Cangshan knives are sharpened to a 16-degree edge.\", \"excerpt\": \"Cangshan knives are sharpened to an Asian-style 16-degree edge.\"}\n",
      "{\"sentence\": \"5. Shun and Kai - 16 degrees\", \"label\": \"supported\", \"rationale\": \"The text states that Shun recommends a 16-degree angle for Shun and Kai double-beveled knives.\", \"excerpt\": \"Shun recommends a 16-degree angle of Shun and Kai double-beveled knives.\"}\n",
      "{\"sentence\": \"6. Chroma - 10-20 degrees\", \"label\": \"supported\", \"rationale\": \"The text states that a Chroma knife should be sharpened to 10-20 degrees.\", \"excerpt\": \"A Chroma knife should be sharpened to 10-20 degrees.\"}\n",
      "{\"sentence\": \"7. F. DICK (Friedr. DICK) - 15-20 degrees\", \"label\": \"supported\", \"rationale\": \"The text states that Dick recommends 15-20 degrees for their DICK Hoof Knives.\", \"excerpt\": \"Dick recommends 15-20 degrees for their DICK Hoof Knives.\"}\n",
      "{\"sentence\": \"8. Fischer-Bargoin - 15-20 degrees\", \"label\": \"supported\", \"rationale\": \"The text states that Fischer-Bargoin recommends an angle of 15-20 degrees.\", \"excerpt\": \"Fischer-Bargoin recommends an angle of 15-20 degrees.\"}\n",
      "{\"sentence\": \"9. Global - 10-15 degrees\", \"label\": \"supported\", \"rationale\": \"The text states that Global recommends an angle of 10-15 degrees.\", \"excerpt\": \"Global recommends an angle of 10-15 degrees.\"}\n",
      "{\"sentence\": \"10. Korin - 10-20 degrees\", \"label\": \"supported\", \"rationale\": \"The text states that Korin knives recommends a 10-20 degrees angle on their Western style knives.\", \"excerpt\": \"Korin knives recommends a 10-20 degrees angle on their Western style knives.\"}\n",
      "{\"sentence\": \"11. Victorinox - 30-40 degrees (15-20 degrees on each side)\", \"label\": \"supported\", \"rationale\": \"The text states that sharpening a Victorinox should be between 30 to 40 degrees, which is 15-20 degrees on each side.\", \"excerpt\": \"Victorinox indicates the total cutting angle. Sharpening a Victorinox should be between 30 to 40 degrees, which is 15-20 degrees on each side.\"}\n",
      "{\"sentence\": \"12. Zwilling J. A. Henckels and Miyabi - 15 degrees (9-12 degrees for certain knives)\", \"label\": \"supported\", \"rationale\": \"The text states that the angle should be approximately 15 degrees for ZWILLING knives and 9-12 degrees for Santoku knives and all MIYABI and Kramer made by ZWILLING knives.\", \"excerpt\": \"The angle between the blade and the steel should be approximately 15 degrees for ZWILLING knives. Santoku knives and all MIYABI and Kramer made by ZWILLING knives need to be 9-12 degrees.\"}\n",
      "```\n"
     ]
    }
   ],
   "source": [
    "print(df_judges['judge model response'].iloc[5])"
   ]
  },
  {
   "cell_type": "code",
   "execution_count": null,
   "metadata": {},
   "outputs": [],
   "source": []
  }
 ],
 "metadata": {
  "kernelspec": {
   "display_name": "venv",
   "language": "python",
   "name": "python3"
  },
  "language_info": {
   "codemirror_mode": {
    "name": "ipython",
    "version": 3
   },
   "file_extension": ".py",
   "mimetype": "text/x-python",
   "name": "python",
   "nbconvert_exporter": "python",
   "pygments_lexer": "ipython3",
   "version": "3.12.1"
  }
 },
 "nbformat": 4,
 "nbformat_minor": 2
}
