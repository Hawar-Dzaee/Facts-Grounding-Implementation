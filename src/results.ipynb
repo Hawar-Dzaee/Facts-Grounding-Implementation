{
 "cells": [
  {
   "cell_type": "code",
   "execution_count": 1,
   "metadata": {},
   "outputs": [],
   "source": [
    "import json \n",
    "import pandas as pd "
   ]
  },
  {
   "cell_type": "markdown",
   "metadata": {},
   "source": [
    "# Test model results "
   ]
  },
  {
   "cell_type": "code",
   "execution_count": 2,
   "metadata": {},
   "outputs": [],
   "source": [
    "test_model_results = []\n",
    "\n",
    "with open(\"test_responses.jsonl\",'r') as f : \n",
    "    for line in f: \n",
    "        if line.strip():\n",
    "            data = json.loads(line)\n",
    "            test_model_results.append(data)\n"
   ]
  },
  {
   "cell_type": "code",
   "execution_count": 3,
   "metadata": {},
   "outputs": [
    {
     "data": {
      "text/html": [
       "<div>\n",
       "<style scoped>\n",
       "    .dataframe tbody tr th:only-of-type {\n",
       "        vertical-align: middle;\n",
       "    }\n",
       "\n",
       "    .dataframe tbody tr th {\n",
       "        vertical-align: top;\n",
       "    }\n",
       "\n",
       "    .dataframe thead th {\n",
       "        text-align: right;\n",
       "    }\n",
       "</style>\n",
       "<table border=\"1\" class=\"dataframe\">\n",
       "  <thead>\n",
       "    <tr style=\"text-align: right;\">\n",
       "      <th></th>\n",
       "      <th>test model provider</th>\n",
       "      <th>test model version</th>\n",
       "      <th>Encountered Problems</th>\n",
       "      <th>test model response</th>\n",
       "      <th>sample_id</th>\n",
       "    </tr>\n",
       "  </thead>\n",
       "  <tbody>\n",
       "    <tr>\n",
       "      <th>0</th>\n",
       "      <td>openai</td>\n",
       "      <td>gpt-3.5-turbo</td>\n",
       "      <td>False</td>\n",
       "      <td>Based on the information provided in the conte...</td>\n",
       "      <td>0</td>\n",
       "    </tr>\n",
       "    <tr>\n",
       "      <th>1</th>\n",
       "      <td>openai</td>\n",
       "      <td>gpt-3.5-turbo</td>\n",
       "      <td>False</td>\n",
       "      <td>1. Wüsthof - 14 degrees\\n2. MAC - 15 degrees\\n...</td>\n",
       "      <td>1</td>\n",
       "    </tr>\n",
       "  </tbody>\n",
       "</table>\n",
       "</div>"
      ],
      "text/plain": [
       "  test model provider test model version  Encountered Problems  \\\n",
       "0              openai      gpt-3.5-turbo                 False   \n",
       "1              openai      gpt-3.5-turbo                 False   \n",
       "\n",
       "                                 test model response  sample_id  \n",
       "0  Based on the information provided in the conte...          0  \n",
       "1  1. Wüsthof - 14 degrees\\n2. MAC - 15 degrees\\n...          1  "
      ]
     },
     "execution_count": 3,
     "metadata": {},
     "output_type": "execute_result"
    }
   ],
   "source": [
    "df_test_model = pd.DataFrame(test_model_results)\n",
    "df_test_model"
   ]
  },
  {
   "cell_type": "code",
   "execution_count": 4,
   "metadata": {},
   "outputs": [
    {
     "name": "stdout",
     "output_type": "stream",
     "text": [
      "Based on the information provided in the context document, your risk factors for dementia include high blood pressure, diabetes, obesity, lack of physical activity, poor diet, high alcohol consumption, low cognitive engagement, depression, traumatic brain injury, hearing loss, and social isolation. \n",
      "\n",
      "Cognitive engagement is important because it is thought to support the development of a \"cognitive reserve,\" which may protect against brain cell damage caused by dementia. Engaging in activities that challenge and stimulate the brain throughout life may help reduce the risk of developing dementia.\n"
     ]
    }
   ],
   "source": [
    "print(df_test_model['test model response'].iloc[0])"
   ]
  },
  {
   "cell_type": "code",
   "execution_count": 6,
   "metadata": {},
   "outputs": [
    {
     "name": "stdout",
     "output_type": "stream",
     "text": [
      "1. Wüsthof - 14 degrees\n",
      "2. MAC - 15 degrees\n",
      "3. Messermeister - 15 degrees\n",
      "4. Cangshan - 16 degrees\n",
      "5. Shun and Kai - 16 degrees\n",
      "6. Chroma - 10-20 degrees\n",
      "7. F. DICK (Friedr. DICK) - 15-20 degrees\n",
      "8. Fischer-Bargoin - 15-20 degrees\n",
      "9. Global - 10-15 degrees\n",
      "10. Korin - 10-20 degrees\n",
      "11. Victorinox - 30-40 degrees (15-20 degrees on each side)\n",
      "12. Zwilling J. A. Henckels and Miyabi - 15 degrees (9-12 degrees for certain knives)\n"
     ]
    }
   ],
   "source": [
    "print(df_test_model['test model response'].iloc[1])"
   ]
  },
  {
   "cell_type": "markdown",
   "metadata": {},
   "source": [
    "# Judge "
   ]
  },
  {
   "cell_type": "code",
   "execution_count": 7,
   "metadata": {},
   "outputs": [],
   "source": [
    "judges_result = []\n",
    "\n",
    "with open(\"judge_responses.jsonl\",'r') as f : \n",
    "    for line in f:\n",
    "        if line.strip():\n",
    "            content = json.loads(line)\n",
    "            judges_result.append(content)"
   ]
  },
  {
   "cell_type": "code",
   "execution_count": 8,
   "metadata": {},
   "outputs": [
    {
     "data": {
      "text/html": [
       "<div>\n",
       "<style scoped>\n",
       "    .dataframe tbody tr th:only-of-type {\n",
       "        vertical-align: middle;\n",
       "    }\n",
       "\n",
       "    .dataframe tbody tr th {\n",
       "        vertical-align: top;\n",
       "    }\n",
       "\n",
       "    .dataframe thead th {\n",
       "        text-align: right;\n",
       "    }\n",
       "</style>\n",
       "<table border=\"1\" class=\"dataframe\">\n",
       "  <thead>\n",
       "    <tr style=\"text-align: right;\">\n",
       "      <th></th>\n",
       "      <th>judge model provider</th>\n",
       "      <th>judge model version</th>\n",
       "      <th>Encountered Problems</th>\n",
       "      <th>judge model response</th>\n",
       "      <th>judgeded_model</th>\n",
       "      <th>sample_id</th>\n",
       "      <th>verdict</th>\n",
       "    </tr>\n",
       "  </thead>\n",
       "  <tbody>\n",
       "    <tr>\n",
       "      <th>0</th>\n",
       "      <td>openai</td>\n",
       "      <td>gpt-4o</td>\n",
       "      <td>False</td>\n",
       "      <td>{\"sentence\": \"Based on the information provide...</td>\n",
       "      <td>openai:gpt-3.5-turbo</td>\n",
       "      <td>0</td>\n",
       "      <td>Inaccurate</td>\n",
       "    </tr>\n",
       "    <tr>\n",
       "      <th>1</th>\n",
       "      <td>openai</td>\n",
       "      <td>gpt-4o</td>\n",
       "      <td>False</td>\n",
       "      <td>{\"sentence\": \"1. Wüsthof - 14 degrees\", \"label...</td>\n",
       "      <td>openai:gpt-3.5-turbo</td>\n",
       "      <td>1</td>\n",
       "      <td>Inaccurate</td>\n",
       "    </tr>\n",
       "  </tbody>\n",
       "</table>\n",
       "</div>"
      ],
      "text/plain": [
       "  judge model provider judge model version  Encountered Problems  \\\n",
       "0               openai              gpt-4o                 False   \n",
       "1               openai              gpt-4o                 False   \n",
       "\n",
       "                                judge model response        judgeded_model  \\\n",
       "0  {\"sentence\": \"Based on the information provide...  openai:gpt-3.5-turbo   \n",
       "1  {\"sentence\": \"1. Wüsthof - 14 degrees\", \"label...  openai:gpt-3.5-turbo   \n",
       "\n",
       "   sample_id     verdict  \n",
       "0          0  Inaccurate  \n",
       "1          1  Inaccurate  "
      ]
     },
     "execution_count": 8,
     "metadata": {},
     "output_type": "execute_result"
    }
   ],
   "source": [
    "df_judges = pd.DataFrame(judges_result)\n",
    "df_judges"
   ]
  },
  {
   "cell_type": "code",
   "execution_count": 9,
   "metadata": {},
   "outputs": [
    {
     "name": "stdout",
     "output_type": "stream",
     "text": [
      "2\n",
      "2\n"
     ]
    }
   ],
   "source": [
    "print(len(df_test_model))\n",
    "print(len(df_judges))"
   ]
  },
  {
   "cell_type": "code",
   "execution_count": 11,
   "metadata": {},
   "outputs": [
    {
     "name": "stdout",
     "output_type": "stream",
     "text": [
      "{\"sentence\": \"Based on the information provided in the context document, your risk factors for dementia include high blood pressure, diabetes, obesity, lack of physical activity, poor diet, high alcohol consumption, low cognitive engagement, depression, traumatic brain injury, hearing loss, and social isolation.\", \"label\": \"supported\", \"rationale\": \"The context lists these factors as increasing the risk of developing dementia.\", \"excerpt\": \"high blood pressure...diabetes...Obesity...lack of physical activity...poor diet...high alcohol consumption...low cognitive engagement...depression...traumatic brain injury...hearing loss...social isolation.\"}\n",
      "{\"sentence\": \"Cognitive engagement is important because it is thought to support the development of a \\\"cognitive reserve,\\\" which may protect against brain cell damage caused by dementia.\", \"label\": \"supported\", \"rationale\": \"The context explains that cognitive engagement supports the development of a cognitive reserve, which may protect against brain cell damage caused by dementia.\", \"excerpt\": \"Cognitive engagement is thought to support the development of a “cognitive reserve”. This is the idea that people who actively use their brains throughout their lives may be more protected against brain cell damage caused by dementia.\"}\n",
      "{\"sentence\": \"Engaging in activities that challenge and stimulate the brain throughout life may help reduce the risk of developing dementia.\", \"label\": \"unsupported\", \"rationale\": \"While the context mentions cognitive engagement and its potential protective effects, it does not specifically state that engaging in challenging and stimulating activities throughout life reduces the risk of developing dementia.\", \"excerpt\": null}\n"
     ]
    }
   ],
   "source": [
    "print(df_judges['judge model response'].iloc[0])"
   ]
  },
  {
   "cell_type": "code",
   "execution_count": 12,
   "metadata": {},
   "outputs": [
    {
     "name": "stdout",
     "output_type": "stream",
     "text": [
      "{\"sentence\": \"1. Wüsthof - 14 degrees\", \"label\": \"supported\", \"rationale\": \"The context states that the sharpening angle for standard Wüsthof blades is 14 degrees.\", \"excerpt\": \"The sharpening angle for standard blades is 14 degrees, and for Asian-style blades (Santokus, Nakiris, Chai Daos) it’s 10 degrees.\"}\n",
      "{\"sentence\": \"2. MAC - 15 degrees\", \"label\": \"supported\", \"rationale\": \"The context mentions that MAC knives have factory edges of 15 degrees.\", \"excerpt\": \"MAC knives have factory edges of 15 degrees.\"}\n",
      "{\"sentence\": \"3. Messermeister - 15 degrees\", \"label\": \"supported\", \"rationale\": \"The context states that Messermeister Elité and Park Plaza knives have a 15-degree angle.\", \"excerpt\": \"Messermeister Elité and Park Plaza knives have a 15-degree angle.\"}\n",
      "{\"sentence\": \"4. Cangshan - 16 degrees\", \"label\": \"supported\", \"rationale\": \"The context specifies that Cangshan knives are sharpened to a 16-degree edge.\", \"excerpt\": \"Cangshan knives are sharpened to an Asian-style 16-degree edge.\"}\n",
      "{\"sentence\": \"5. Shun and Kai - 16 degrees\", \"label\": \"supported\", \"rationale\": \"The context indicates that Shun recommends a 16-degree angle for Shun and Kai double-beveled knives.\", \"excerpt\": \"Shun recommends a 16-degree angle of Shun and Kai double-beveled knives.\"}\n",
      "{\"sentence\": \"6. Chroma - 10-20 degrees\", \"label\": \"supported\", \"rationale\": \"The context states that a Chroma knife should be sharpened to 10-20 degrees.\", \"excerpt\": \"A Chroma knife should be sharpened to 10-20 degrees.\"}\n",
      "{\"sentence\": \"7. F. DICK (Friedr. DICK) - 15-20 degrees\", \"label\": \"supported\", \"rationale\": \"The context mentions that Dick recommends 15-20 degrees for their DICK Hoof Knives.\", \"excerpt\": \"Dick recommends 15-20 degrees for their DICK Hoof Knives.\"}\n",
      "{\"sentence\": \"8. Fischer-Bargoin - 15-20 degrees\", \"label\": \"supported\", \"rationale\": \"The context states that Fischer-Bargoin recommends an angle of 15-20 degrees.\", \"excerpt\": \"Fischer-Bargoin recommends an angle of 15-20 degrees.\"}\n",
      "{\"sentence\": \"9. Global - 10-15 degrees\", \"label\": \"supported\", \"rationale\": \"The context indicates that Global recommends an angle of 10-15 degrees.\", \"excerpt\": \"Global recommends an angle of 10-15 degrees.\"}\n",
      "{\"sentence\": \"10. Korin - 10-20 degrees\", \"label\": \"supported\", \"rationale\": \"The context states that Korin knives recommend a 10-20 degrees angle on their Western style knives.\", \"excerpt\": \"Korin knives recommends a 10-20 degrees angle on their Western style knives.\"}\n",
      "{\"sentence\": \"11. Victorinox - 30-40 degrees (15-20 degrees on each side)\", \"label\": \"supported\", \"rationale\": \"The context mentions that Victorinox indicates the total cutting angle as 30 to 40 degrees, which is 15-20 degrees on each side.\", \"excerpt\": \"Victorinox indicates the total cutting angle. Sharpening a Victorinox should be between 30 to 40 degrees, which is 15-20 degrees on each side.\"}\n",
      "{\"sentence\": \"12. Zwilling J. A. Henckels and Miyabi - 15 degrees (9-12 degrees for certain knives)\", \"label\": \"unsupported\", \"rationale\": \"The context states that the angle for ZWILLING knives is approximately 15 degrees, but for Santoku knives and all MIYABI and Kramer made by ZWILLING knives, it should be 9-12 degrees. The response does not accurately reflect this distinction.\", \"excerpt\": null}\n"
     ]
    }
   ],
   "source": [
    "print(df_judges['judge model response'].iloc[1])"
   ]
  },
  {
   "cell_type": "code",
   "execution_count": null,
   "metadata": {},
   "outputs": [],
   "source": []
  }
 ],
 "metadata": {
  "kernelspec": {
   "display_name": "langvenv",
   "language": "python",
   "name": "python3"
  },
  "language_info": {
   "codemirror_mode": {
    "name": "ipython",
    "version": 3
   },
   "file_extension": ".py",
   "mimetype": "text/x-python",
   "name": "python",
   "nbconvert_exporter": "python",
   "pygments_lexer": "ipython3",
   "version": "3.12.1"
  }
 },
 "nbformat": 4,
 "nbformat_minor": 2
}
