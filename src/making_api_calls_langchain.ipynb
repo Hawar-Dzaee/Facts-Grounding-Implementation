{
 "cells": [
  {
   "cell_type": "code",
   "execution_count": 15,
   "metadata": {},
   "outputs": [],
   "source": [
    "from langchain.chat_models import init_chat_model\n",
    "from langchain.callbacks.tracers import LangChainTracer\n",
    "\n",
    "\n",
    "import os\n",
    "from dotenv import load_dotenv\n",
    "load_dotenv()\n",
    "\n",
    "\n",
    "\n",
    "\n",
    "os.environ['GOOGLE_PROJECT_ID'] = os.getenv(\"GOOGLE_PROJECT_ID\")\n",
    "os.environ['GOOGLE_REGION'] = os.getenv(\"GOOGLE_REGION\")\n",
    "os.environ['GOOGLE_APPLICATION_CREDENTIALS'] = \"vertex_ai_use_cred.json\"\n",
    "\n",
    "\n",
    "os.environ['LANGSMITH_API_KEY'] = os.getenv(\"LANGSMITH_API_KEY\")\n",
    "os.environ['LANGSMITH_TRACING_V2'] = \"true\""
   ]
  },
  {
   "cell_type": "code",
   "execution_count": 13,
   "metadata": {},
   "outputs": [],
   "source": [
    "tracer_project = LangChainTracer(project_name=\"punching-bag-1\")"
   ]
  },
  {
   "cell_type": "markdown",
   "metadata": {},
   "source": [
    "# Openai"
   ]
  },
  {
   "cell_type": "code",
   "execution_count": 2,
   "metadata": {},
   "outputs": [
    {
     "data": {
      "text/plain": [
       "AIMessage(content=\"The sky appears blue primarily due to a phenomenon called Rayleigh scattering, not because of the ocean. When sunlight enters Earth's atmosphere, it is made up of many different colors, each with different wavelengths. Blue light has a shorter wavelength and is scattered in all directions by the gases and particles in the atmosphere more than other colors with longer wavelengths, such as red or yellow.\\n\\nThis scattering causes the blue light to be more prominent and visible from all directions, making the sky appear blue to our eyes. The ocean can also appear blue, but this is due to the absorption and scattering of light within the water itself, not because it reflects the sky. The ocean absorbs colors in the red part of the light spectrum and reflects and scatters the blue, which is why it often looks blue. However, the blue color of the sky is independent of the ocean's color.\", additional_kwargs={'refusal': None}, response_metadata={'token_usage': {'completion_tokens': 174, 'prompt_tokens': 21, 'total_tokens': 195, 'completion_tokens_details': {'accepted_prediction_tokens': 0, 'audio_tokens': 0, 'reasoning_tokens': 0, 'rejected_prediction_tokens': 0}, 'prompt_tokens_details': {'audio_tokens': 0, 'cached_tokens': 0}}, 'model_name': 'gpt-4o-2024-08-06', 'system_fingerprint': 'fp_898ac29719', 'id': 'chatcmpl-BIJgt22dVhWUicnuxc67cBh1OrsFi', 'finish_reason': 'stop', 'logprobs': None}, id='run-72a21bcb-cb6f-4e63-8156-b0ac8bb4852c-0', usage_metadata={'input_tokens': 21, 'output_tokens': 174, 'total_tokens': 195, 'input_token_details': {'audio': 0, 'cache_read': 0}, 'output_token_details': {'audio': 0, 'reasoning': 0}})"
      ]
     },
     "execution_count": 2,
     "metadata": {},
     "output_type": "execute_result"
    }
   ],
   "source": [
    "gpt4_model = init_chat_model(model=\"gpt-4o\",temperature=0)\n",
    "response_gpt4o = gpt4_model.invoke(\"Explain why the sky is blue? is it because of the ocean?\")\n",
    "print(response_gpt4o.content)"
   ]
  },
  {
   "cell_type": "markdown",
   "metadata": {},
   "source": [
    "# Anthropic"
   ]
  },
  {
   "cell_type": "code",
   "execution_count": 4,
   "metadata": {},
   "outputs": [
    {
     "data": {
      "text/plain": [
       "AIMessage(content='# Why the Sky is Blue\\n\\nThe sky appears blue due to a phenomenon called Rayleigh scattering, not because of the ocean.\\n\\nWhen sunlight travels through the atmosphere, it collides with air molecules (nitrogen and oxygen). These molecules scatter the different wavelengths of light, but they scatter shorter wavelengths (blue light) much more effectively than longer wavelengths (red light).\\n\\nThis selective scattering sends blue light in all directions throughout the sky, while the other colors continue more directly toward Earth. When we look up, we see this scattered blue light coming from all parts of the sky.\\n\\nInterestingly, this is also why:\\n- Sunsets appear red/orange (the blue light gets scattered away during the longer path through the atmosphere)\\n- The sky on the Moon is black (no atmosphere to scatter light)', additional_kwargs={}, response_metadata={'id': 'msg_01PA2FY8WTvdaS1bdpm38HYE', 'model': 'claude-3-7-sonnet-20250219', 'stop_reason': 'end_turn', 'stop_sequence': None, 'usage': {'cache_creation_input_tokens': 0, 'cache_read_input_tokens': 0, 'input_tokens': 22, 'output_tokens': 183}, 'model_name': 'claude-3-7-sonnet-20250219'}, id='run-b3eb41a9-9d1f-4b69-b2ca-b52364ec6914-0', usage_metadata={'input_tokens': 22, 'output_tokens': 183, 'total_tokens': 205, 'input_token_details': {'cache_read': 0, 'cache_creation': 0}})"
      ]
     },
     "execution_count": 4,
     "metadata": {},
     "output_type": "execute_result"
    }
   ],
   "source": [
    "# \"anthropic:claude-3-5-sonnet-latest\"\n",
    "claude_sonnet = init_chat_model(\"anthropic:claude-3-7-sonnet-20250219\", temperature=0)\n",
    "response_claude = claude_sonnet.invoke(\"Explain why the sky is blue? is it because of the ocean?\")\n",
    "response_claude\n"
   ]
  },
  {
   "cell_type": "code",
   "execution_count": 5,
   "metadata": {},
   "outputs": [
    {
     "name": "stdout",
     "output_type": "stream",
     "text": [
      "# Why the Sky is Blue\n",
      "\n",
      "The sky appears blue due to a phenomenon called Rayleigh scattering, not because of the ocean.\n",
      "\n",
      "When sunlight travels through the atmosphere, it collides with air molecules (nitrogen and oxygen). These molecules scatter the different wavelengths of light, but they scatter shorter wavelengths (blue light) much more effectively than longer wavelengths (red light).\n",
      "\n",
      "This selective scattering sends blue light in all directions throughout the sky, while the other colors continue more directly toward Earth. When we look up, we see this scattered blue light coming from all parts of the sky.\n",
      "\n",
      "Interestingly, this is also why:\n",
      "- Sunsets appear red/orange (the blue light gets scattered away during the longer path through the atmosphere)\n",
      "- The sky on the Moon is black (no atmosphere to scatter light)\n"
     ]
    }
   ],
   "source": [
    "print(response_claude.content)"
   ]
  },
  {
   "cell_type": "markdown",
   "metadata": {},
   "source": [
    "# Google"
   ]
  },
  {
   "cell_type": "markdown",
   "metadata": {},
   "source": [
    "### vertexai\n"
   ]
  },
  {
   "cell_type": "code",
   "execution_count": 3,
   "metadata": {},
   "outputs": [
    {
     "data": {
      "text/plain": [
       "AIMessage(content=\"Okay, let's break down why the sky appears blue. It's all about sunlight, Earth's atmosphere, and how light interacts with tiny particles.\\n\\nHere's the step-by-step:\\n\\n1.  **Sunlight Isn't Just White:** The light coming from the sun might look white, but it's actually made up of all the colors of the rainbow (Red, Orange, Yellow, Green, Blue, Indigo, Violet - ROYGBIV). Each color has a different wavelength; red has the longest wavelength, and violet has the shortest.\\n\\n2.  **Earth's Atmosphere:** As sunlight travels towards Earth, it enters our atmosphere, which is made up mostly of tiny gas molecules (like nitrogen and oxygen).\\n\\n3.  **Scattering Light:** When sunlight hits these tiny gas molecules, it gets scattered in different directions. This is called **Rayleigh scattering**.\\n\\n4.  **Shorter Wavelengths Scatter More:** Here's the key part: Rayleigh scattering affects shorter wavelengths of light (blue and violet) *much more* strongly than longer wavelengths (red and orange). Think of it like throwing different sized balls at a small target; the smaller balls (blue/violet light) are more likely to bounce off in all directions than the bigger balls (red/orange light).\\n\\n5.  **Blue Dominates:** Because the blue and violet light gets scattered much more effectively by the gas molecules, this shorter-wavelength light spreads out all across the sky. When you look up at the sky (away from the sun itself), you are seeing this scattered blue light coming towards your eyes from all directions.\\n\\n**Why not Violet?**\\n\\nYou might wonder why the sky isn't violet, since violet light has an even shorter wavelength and is scattered *even more* than blue. There are a couple of reasons:\\n\\n*   The sun emits slightly less violet light than blue light.\\n*   Our eyes are actually more sensitive to blue than they are to violet.\\n\\n**So, the combination of blue light being scattered effectively, the amount of blue light from the sun, and our eyes' sensitivity makes us perceive the sky as blue.**\\n\\n**Bonus - Why are Sunsets Red/Orange?**\\n\\nWhen the sun is setting (or rising), its light has to travel through much more atmosphere to reach your eyes. By the time it gets to you, most of the blue and violet light has already been scattered away in other directions. What's left are the longer wavelengths – the reds, oranges, and yellows – which make it through directly to your eyes, creating those beautiful sunset colors.\\n\\nIn short: The sky is blue because tiny molecules in our atmosphere scatter the blue part of sunlight more than the other colors.\", additional_kwargs={}, response_metadata={'is_blocked': False, 'safety_ratings': [], 'usage_metadata': {'prompt_token_count': 6, 'candidates_token_count': 566, 'total_token_count': 1527, 'prompt_tokens_details': [{'modality': 1, 'token_count': 6}], 'candidates_tokens_details': [{'modality': 1, 'token_count': 566}], 'cached_content_token_count': 0, 'cache_tokens_details': []}, 'finish_reason': 'STOP', 'avg_logprobs': -0.312815608910874, 'model_name': 'gemini-2.5-pro-exp-03-25'}, id='run-336a7a42-294c-4755-9a98-1920cbdf30e1-0', usage_metadata={'input_tokens': 6, 'output_tokens': 566, 'total_tokens': 1527})"
      ]
     },
     "execution_count": 3,
     "metadata": {},
     "output_type": "execute_result"
    }
   ],
   "source": [
    "# Initialize Gemini 1.5 Pro model\n",
    "\n",
    "# \"google_vertexai:gemini-1.5-pro\"\n",
    "gemini_model = init_chat_model(model=\"gemini-2.5-pro-exp-03-25\")\n",
    "response_gemini = gemini_model.invoke(\"why the sky is blue?\")\n",
    "response_gemini"
   ]
  },
  {
   "cell_type": "code",
   "execution_count": 4,
   "metadata": {},
   "outputs": [
    {
     "name": "stdout",
     "output_type": "stream",
     "text": [
      "The sky appears blue due to a phenomenon called **Rayleigh scattering**. Here's a breakdown:\n",
      "\n",
      "**1. Sunlight Enters the Atmosphere:**\n",
      "   Sunlight, appearing white to us, is actually a mixture of all colors of the rainbow. When this light enters the Earth's atmosphere, it encounters various particles and gases.\n",
      "\n",
      "**2. Scattering of Light:**\n",
      "   The molecules of nitrogen and oxygen, which make up most of the atmosphere, are much smaller than the wavelengths of visible light. This size difference causes the sunlight to scatter in all directions. This scattering is more effective for shorter wavelengths, like blue and violet.\n",
      "\n",
      "**3. Rayleigh Scattering:**\n",
      "   This type of scattering, named after Lord Rayleigh, is inversely proportional to the fourth power of the wavelength. This means blue light (with a shorter wavelength) is scattered about 10 times more effectively than red light (with a longer wavelength).\n",
      "\n",
      "**4. Our Perception:**\n",
      "   As we look up at the sky, we see the scattered blue light coming from all directions. This scattered light reaches our eyes, making the sky appear blue.\n",
      "\n",
      "**Why Not Violet?**\n",
      "You might wonder, if violet light scatters even more strongly than blue, why isn't the sky violet? There are two main reasons:\n",
      "\n",
      "* **Sunlight Intensity:** The sun emits less violet light compared to blue.\n",
      "* **Eye Sensitivity:** Our eyes are more sensitive to blue light than violet light.\n",
      "\n",
      "**Therefore, the combination of Rayleigh scattering, the sun's spectral output, and our eye's sensitivity results in our perception of a blue sky.** \n",
      "\n"
     ]
    }
   ],
   "source": [
    "print(response_gemini.content)"
   ]
  },
  {
   "cell_type": "markdown",
   "metadata": {},
   "source": [
    "# Deepseek\n"
   ]
  },
  {
   "cell_type": "code",
   "execution_count": 5,
   "metadata": {},
   "outputs": [
    {
     "name": "stdout",
     "output_type": "stream",
     "text": [
      "The sky appears blue due to a phenomenon called **Rayleigh scattering**, which occurs when sunlight interacts with molecules and small particles in Earth's atmosphere. Here's a concise breakdown:\n",
      "\n",
      "1. **Sunlight Composition**: Sunlight is white light composed of various colors (wavelengths), with violet and blue having shorter wavelengths (~400-450 nm) and red/orange having longer wavelengths (~620-750 nm).\n",
      "\n",
      "2. **Scattering Mechanism**: \n",
      "   - Shorter wavelengths (blue/violet) are scattered more efficiently by atmospheric molecules (like nitrogen and oxygen) than longer wavelengths. This wavelength-dependent scattering is described by Rayleigh's law (scattering intensity ∝ 1/λ⁴).\n",
      "   - As sunlight passes through the atmosphere, blue light is scattered in all directions, creating a diffuse glow that we perceive as the blue sky.\n",
      "\n",
      "3. **Human Perception**:\n",
      "   - Although violet light is scattered even more than blue, human eyes are less sensitive to violet, and the sun emits more blue light. Thus, our eyes predominantly perceive the sky as blue.\n",
      "\n",
      "4. **Sunrise/Sunset Colors**:\n",
      "   - When the sun is near the horizon, sunlight travels through more atmosphere. Most shorter blue wavelengths are scattered out of the line of sight, leaving longer red/orange wavelengths to dominate the direct sunlight, creating vivid sunsets.\n",
      "\n",
      "5. **Additional Factors**:\n",
      "   - **Mie Scattering**: Caused by larger particles (e.g., dust, water droplets), this scattering is less wavelength-sensitive, leading to white/gray skies when clouds or pollution are present.\n",
      "   - **Space Perspective**: Without an atmosphere (e.g., in space), there’s no scattering, so the sky appears black.\n",
      "\n",
      "**Summary**: The blue sky results from Rayleigh scattering of sunlight by atmospheric molecules, our eyes' sensitivity to blue, and the sun’s spectral output. At sunrise/sunset, increased atmospheric path length shifts the dominant color to red/orange.\n"
     ]
    }
   ],
   "source": [
    "# \"deepseek-chat\"\n",
    "deepseek_model = init_chat_model(model=\"deepseek-reasoner\")\n",
    "response_deepseek = deepseek_model.invoke(\n",
    "    \"why the sky is blue?\",\n",
    "    config={\"callbacks\": [tracer_project]}\n",
    "    )\n",
    "response_deepseek\n",
    "print(response_deepseek.content)\n",
    "\n"
   ]
  },
  {
   "cell_type": "markdown",
   "metadata": {},
   "source": [
    "# LLama"
   ]
  },
  {
   "cell_type": "code",
   "execution_count": 10,
   "metadata": {},
   "outputs": [
    {
     "name": "stdout",
     "output_type": "stream",
     "text": [
      "Gravity is a fundamental force of nature that causes objects with mass to attract each other. It is one of the four fundamental forces in physics, along with electromagnetism and the strong and weak nuclear forces.\n",
      "\n",
      "**What is Gravity?**\n",
      "\n",
      "Gravity is a universal force that affects everything with mass or energy, from the smallest subatomic particles to the largest galaxies. It is a curvature of spacetime caused by the presence of mass and energy. According to Albert Einstein's theory of general relativity, gravity is not a force that acts between objects, but rather a consequence of their motion in curved spacetime.\n",
      "\n",
      "**How does Gravity Work?**\n",
      "\n",
      "Gravity works as follows:\n",
      "\n",
      "1. **Mass warps spacetime**: Any object with mass or energy creates a curvature in the fabric of spacetime around it.\n",
      "2. **Gravitational field**: The curvature of spacetime creates a gravitational field, which is a region around an object where the curvature is significant.\n",
      "3. **Objects move along curved paths**: When an object moves through spacetime, it follows a curved path due to the gravitational field created by other objects with mass or energy.\n",
      "\n",
      "**Types of Gravity**\n",
      "\n",
      "There are several types of gravity:\n",
      "\n",
      "1. **Universal gravitation**: The force of gravity that affects all objects with mass or energy.\n",
      "2. **Gravitational attraction**: The attractive force between two objects with mass or energy.\n",
      "3. **Gravitational waves**: Ripples in spacetime caused by the acceleration of massive objects, such as black holes.\n",
      "\n",
      "**Effects of Gravity**\n",
      "\n",
      "Gravity has several effects on objects and systems:\n",
      "\n",
      "1. **Weight**: Gravity pulls objects towards the center of the Earth (or other celestial body).\n",
      "2. **Orbit**: Objects move in curved paths around a central body due to gravitational attraction.\n",
      "3. **Tides**: Gravity causes the oceans to bulge, creating tides.\n",
      "4. **Gravitational lensing**: The bending of light around massive objects, such as stars or black holes.\n",
      "\n",
      "**Gravity and the Universe**\n",
      "\n",
      "Gravity plays a crucial role in the universe:\n",
      "\n",
      "1. **Galaxy formation**: Gravity holds galaxies together and allows them to form.\n",
      "2. **Star formation**: Gravity causes gas and dust to collapse into stars.\n",
      "3. **Planetary motion**: Gravity determines the orbits of planets around their host stars.\n",
      "\n",
      "**Theories of Gravity**\n",
      "\n",
      "Several theories have been proposed to explain gravity:\n",
      "\n",
      "1. **Newton's law of universal gravitation**: A fundamental principle that describes the gravitational force between two objects.\n",
      "2. **General relativity**: Einstein's theory of gravity, which introduces the concept of spacetime curvature.\n",
      "3. **Quantum gravity**: An attempt to merge quantum mechanics and general relativity.\n",
      "\n",
      "Gravity is a fascinating subject that continues to be studied by scientists and theorists today. Its effects on our daily lives are profound, from the way we walk on Earth to the behavior of stars in the universe.\n"
     ]
    }
   ],
   "source": [
    "llama_model = init_chat_model(model=\"ollama:llama3.2\")\n",
    "response_llama = llama_model.invoke(\"Explain gravity\",\n",
    "    config={\"callbacks\": [tracer_project]} if tracer_project else {}\n",
    "    )\n",
    "response_llama\n",
    "print(response_llama.content)"
   ]
  },
  {
   "cell_type": "code",
   "execution_count": null,
   "metadata": {},
   "outputs": [],
   "source": []
  }
 ],
 "metadata": {
  "kernelspec": {
   "display_name": "langvenv",
   "language": "python",
   "name": "python3"
  },
  "language_info": {
   "codemirror_mode": {
    "name": "ipython",
    "version": 3
   },
   "file_extension": ".py",
   "mimetype": "text/x-python",
   "name": "python",
   "nbconvert_exporter": "python",
   "pygments_lexer": "ipython3",
   "version": "3.12.1"
  }
 },
 "nbformat": 4,
 "nbformat_minor": 2
}
